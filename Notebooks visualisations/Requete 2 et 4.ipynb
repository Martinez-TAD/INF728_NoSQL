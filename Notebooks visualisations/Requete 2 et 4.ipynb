{
 "cells": [
  {
   "cell_type": "code",
   "execution_count": 138,
   "metadata": {},
   "outputs": [],
   "source": [
    "import pandas as pd\n",
    "import numpy as np\n",
    "import matplotlib.pyplot as plt\n",
    "from cassandra.cluster import Cluster\n",
    "import plotly.express as px"
   ]
  },
  {
   "cell_type": "code",
   "execution_count": 139,
   "metadata": {},
   "outputs": [
    {
     "name": "stderr",
     "output_type": "stream",
     "text": [
      "WARNING:cassandra.cluster:Cluster.__init__ called with contact_points specified, but no load_balancing_policy. In the next major version, this will raise an error; please specify a load-balancing policy. (contact_points = ['172.31.10.156', '172.31.10.119', '172.31.0.245', '172.31.6.65', '172.31.8.141'], lbp = None)\n",
      "WARNING:cassandra.cluster:Downgrading core protocol version from 66 to 65 for 172.31.10.156:9042. To avoid this, it is best practice to explicitly set Cluster(protocol_version) to the version supported by your cluster. http://datastax.github.io/python-driver/api/cassandra/cluster.html#cassandra.cluster.Cluster.protocol_version\n",
      "WARNING:cassandra.cluster:Downgrading core protocol version from 65 to 4 for 172.31.10.156:9042. To avoid this, it is best practice to explicitly set Cluster(protocol_version) to the version supported by your cluster. http://datastax.github.io/python-driver/api/cassandra/cluster.html#cassandra.cluster.Cluster.protocol_version\n"
     ]
    }
   ],
   "source": [
    "cluster = Cluster(['172.31.10.156', '172.31.10.119', '172.31.0.245','172.31.6.65','172.31.8.141'])\n",
    "session = cluster.connect(\"nosql\")"
   ]
  },
  {
   "cell_type": "code",
   "execution_count": 140,
   "metadata": {},
   "outputs": [
    {
     "data": {
      "text/plain": [
       "<bound method NDFrame.head of        jour pays langue  count\n",
       "0  20190620         afr      5\n",
       "1  20190620         ara    182\n",
       "2  20190620         axe     37\n",
       "3  20190620         ben      1\n",
       "4  20190620         bos     52\n",
       "5  20190620         bul     96\n",
       "6  20190620         cat     41\n",
       "7  20190620         ces     66\n",
       "8  20190620         dan     81\n",
       "9  20190620         deu    236>"
      ]
     },
     "execution_count": 140,
     "metadata": {},
     "output_type": "execute_result"
    }
   ],
   "source": [
    "def pandas_factory(colnames, rows):\n",
    "    return pd.DataFrame(rows, columns=colnames)\n",
    "session.row_factory = pandas_factory\n",
    "session.default_fetch_size = None\n",
    "\n",
    "query = \"SELECT * from requete1 limit 10\"\n",
    "rslt = session.execute(query, timeout=None)\n",
    "df = rslt._current_rows\n",
    "df.head"
   ]
  },
  {
   "cell_type": "code",
   "execution_count": 141,
   "metadata": {},
   "outputs": [],
   "source": [
    "import seaborn as sns; sns.set()"
   ]
  },
  {
   "cell_type": "markdown",
   "metadata": {},
   "source": [
    "**Requête2**"
   ]
  },
  {
   "cell_type": "code",
   "execution_count": 142,
   "metadata": {},
   "outputs": [],
   "source": [
    "def requete2(pays=\"UK\", date = None, date_debut = None, date_fin = None, year = None, monthyear = None):\n",
    "  \n",
    "    if (date is not None):\n",
    "        query =\"SELECT * FROM requete2 WHERE country='\"+pays+\"' AND year=\"+ str(year) + \" AND monthyear=\"+ str(monthyear) + \" AND day=\" + str(date)\n",
    "        rslt = session.execute(query, timeout=None)\n",
    "        df_requete2 = rslt._current_rows\n",
    "        df_requete2 = df_requete2.drop(['year', 'monthyear', 'day', 'country'], axis = 1)\n",
    "        df_requete2 = df_requete2.sort_values(by=['count'], ascending = False)\n",
    "        df_requete2 = df_requete2[:10]\n",
    "        \n",
    "    elif ( (date_debut is not None) & (date_fin is not None) ):\n",
    "        query =\"SELECT * FROM requete2 WHERE country='\"+pays+\"' AND year=\"+ str(year) + \" AND monthyear=\"+ str(monthyear) + \" AND day <=\" + str(date_fin) + \" AND day >=\" + str(date_debut)\n",
    "        rslt = session.execute(query, timeout=None)\n",
    "        df_requete2 = rslt._current_rows\n",
    "        df_requete2 = df_requete2.drop(['year', 'monthyear', 'day', 'country'], axis = 1)\n",
    "        df_requete2 = df_requete2.sort_values(by=['count'], ascending = False)\n",
    "        df_requete2 = df_requete2[:10]   \n",
    "        \n",
    "    elif ( (year is not None) & (monthyear is not None) ):\n",
    "        query =\"SELECT * FROM requete2 WHERE country='\"+pays+\"' AND year=\"+ str(year) + \" AND monthyear=\"+ str(monthyear) \n",
    "        df_requete2 = session.execute(query, timeout=None)\n",
    "        rslt = session.execute(query, timeout=None)\n",
    "        df_requete2 = rslt._current_rows\n",
    "        df_requete2 = df_requete2.drop(['year', 'monthyear', 'day', 'country'], axis = 1)\n",
    "        df_requete2 = df_requete2.sort_values(by=['count'], ascending = False)\n",
    "        df_requete2 = df_requete2[:10]  \n",
    "        \n",
    "        \n",
    "    # only the year is given\n",
    "    elif (year is not None):\n",
    "        query =\"SELECT * FROM requete2 WHERE country='\"+pays+\"' AND year=\"+ str(year)\n",
    "        rslt = session.execute(query, timeout=None)\n",
    "        df_requete2 = rslt._current_rows\n",
    "        df_requete2 = df_requete2.drop(['year', 'monthyear', 'day', 'country'], axis = 1)\n",
    "        df_requete2 = df_requete2.sort_values(by=['count'], ascending = False)\n",
    "        df_requete2 = df_requete2[:10]  \n",
    "        \n",
    "    return df_requete2"
   ]
  },
  {
   "cell_type": "code",
   "execution_count": 143,
   "metadata": {},
   "outputs": [],
   "source": [
    "def plot_bar_chart(df):\n",
    "            #plot\n",
    "        plt.figure(figsize=(15,5))\n",
    "        df.plot.barh()\n",
    "       # plt.title(f\"Requête 2 effectuée pour la journée du {date}\", weight = 'bold').set_fontsize(20)\n",
    "        plt.title(\"Evènements qui y ont eu place triées par le nombre de mentions\", weight = 'bold').set_fontsize(20)\n",
    "        plt.ylabel(\"EventID\", weight = 'bold').set_fontsize(14)\n",
    "        plt.xlabel('Count', weight = 'bold').set_fontsize(14)\n",
    "        plt.autoscale()"
   ]
  },
  {
   "cell_type": "code",
   "execution_count": 144,
   "metadata": {},
   "outputs": [],
   "source": [
    "def plot_bar_chart_plotly(df, country, date):\n",
    "    df['eventid']=  '¤'+df['eventid'].astype(str) \n",
    "    fig = px.bar(df, x='count', y='eventid',orientation='h',text='count',title=\"Evénements qui y ont eu lieu triés par le nombre de mentions au/en : \" +country + \" en/le: \"+ date)\n",
    "    fig.show()"
   ]
  },
  {
   "cell_type": "code",
   "execution_count": 145,
   "metadata": {},
   "outputs": [
    {
     "data": {
      "application/vnd.plotly.v1+json": {
       "config": {
        "plotlyServerURL": "https://plot.ly"
       },
       "data": [
        {
         "alignmentgroup": "True",
         "hoverlabel": {
          "namelength": 0
         },
         "hovertemplate": "count=%{text}<br>eventid=%{y}",
         "legendgroup": "",
         "marker": {
          "color": "#636efa"
         },
         "name": "",
         "offsetgroup": "",
         "orientation": "h",
         "showlegend": false,
         "text": [
          402,
          240,
          230,
          227,
          223,
          219,
          206,
          188,
          182,
          174
         ],
         "textposition": "auto",
         "type": "bar",
         "x": [
          402,
          240,
          230,
          227,
          223,
          219,
          206,
          188,
          182,
          174
         ],
         "xaxis": "x",
         "y": [
          "¤828951745",
          "¤828895028",
          "¤828951847",
          "¤828896217",
          "¤828987882",
          "¤828912312",
          "¤828987872",
          "¤828903044",
          "¤828903043",
          "¤828908848"
         ],
         "yaxis": "y"
        }
       ],
       "layout": {
        "autosize": true,
        "barmode": "relative",
        "legend": {
         "tracegroupgap": 0
        },
        "template": {
         "data": {
          "bar": [
           {
            "error_x": {
             "color": "#2a3f5f"
            },
            "error_y": {
             "color": "#2a3f5f"
            },
            "marker": {
             "line": {
              "color": "#E5ECF6",
              "width": 0.5
             }
            },
            "type": "bar"
           }
          ],
          "barpolar": [
           {
            "marker": {
             "line": {
              "color": "#E5ECF6",
              "width": 0.5
             }
            },
            "type": "barpolar"
           }
          ],
          "carpet": [
           {
            "aaxis": {
             "endlinecolor": "#2a3f5f",
             "gridcolor": "white",
             "linecolor": "white",
             "minorgridcolor": "white",
             "startlinecolor": "#2a3f5f"
            },
            "baxis": {
             "endlinecolor": "#2a3f5f",
             "gridcolor": "white",
             "linecolor": "white",
             "minorgridcolor": "white",
             "startlinecolor": "#2a3f5f"
            },
            "type": "carpet"
           }
          ],
          "choropleth": [
           {
            "colorbar": {
             "outlinewidth": 0,
             "ticks": ""
            },
            "type": "choropleth"
           }
          ],
          "contour": [
           {
            "colorbar": {
             "outlinewidth": 0,
             "ticks": ""
            },
            "colorscale": [
             [
              0,
              "#0d0887"
             ],
             [
              0.1111111111111111,
              "#46039f"
             ],
             [
              0.2222222222222222,
              "#7201a8"
             ],
             [
              0.3333333333333333,
              "#9c179e"
             ],
             [
              0.4444444444444444,
              "#bd3786"
             ],
             [
              0.5555555555555556,
              "#d8576b"
             ],
             [
              0.6666666666666666,
              "#ed7953"
             ],
             [
              0.7777777777777778,
              "#fb9f3a"
             ],
             [
              0.8888888888888888,
              "#fdca26"
             ],
             [
              1,
              "#f0f921"
             ]
            ],
            "type": "contour"
           }
          ],
          "contourcarpet": [
           {
            "colorbar": {
             "outlinewidth": 0,
             "ticks": ""
            },
            "type": "contourcarpet"
           }
          ],
          "heatmap": [
           {
            "colorbar": {
             "outlinewidth": 0,
             "ticks": ""
            },
            "colorscale": [
             [
              0,
              "#0d0887"
             ],
             [
              0.1111111111111111,
              "#46039f"
             ],
             [
              0.2222222222222222,
              "#7201a8"
             ],
             [
              0.3333333333333333,
              "#9c179e"
             ],
             [
              0.4444444444444444,
              "#bd3786"
             ],
             [
              0.5555555555555556,
              "#d8576b"
             ],
             [
              0.6666666666666666,
              "#ed7953"
             ],
             [
              0.7777777777777778,
              "#fb9f3a"
             ],
             [
              0.8888888888888888,
              "#fdca26"
             ],
             [
              1,
              "#f0f921"
             ]
            ],
            "type": "heatmap"
           }
          ],
          "heatmapgl": [
           {
            "colorbar": {
             "outlinewidth": 0,
             "ticks": ""
            },
            "colorscale": [
             [
              0,
              "#0d0887"
             ],
             [
              0.1111111111111111,
              "#46039f"
             ],
             [
              0.2222222222222222,
              "#7201a8"
             ],
             [
              0.3333333333333333,
              "#9c179e"
             ],
             [
              0.4444444444444444,
              "#bd3786"
             ],
             [
              0.5555555555555556,
              "#d8576b"
             ],
             [
              0.6666666666666666,
              "#ed7953"
             ],
             [
              0.7777777777777778,
              "#fb9f3a"
             ],
             [
              0.8888888888888888,
              "#fdca26"
             ],
             [
              1,
              "#f0f921"
             ]
            ],
            "type": "heatmapgl"
           }
          ],
          "histogram": [
           {
            "marker": {
             "colorbar": {
              "outlinewidth": 0,
              "ticks": ""
             }
            },
            "type": "histogram"
           }
          ],
          "histogram2d": [
           {
            "colorbar": {
             "outlinewidth": 0,
             "ticks": ""
            },
            "colorscale": [
             [
              0,
              "#0d0887"
             ],
             [
              0.1111111111111111,
              "#46039f"
             ],
             [
              0.2222222222222222,
              "#7201a8"
             ],
             [
              0.3333333333333333,
              "#9c179e"
             ],
             [
              0.4444444444444444,
              "#bd3786"
             ],
             [
              0.5555555555555556,
              "#d8576b"
             ],
             [
              0.6666666666666666,
              "#ed7953"
             ],
             [
              0.7777777777777778,
              "#fb9f3a"
             ],
             [
              0.8888888888888888,
              "#fdca26"
             ],
             [
              1,
              "#f0f921"
             ]
            ],
            "type": "histogram2d"
           }
          ],
          "histogram2dcontour": [
           {
            "colorbar": {
             "outlinewidth": 0,
             "ticks": ""
            },
            "colorscale": [
             [
              0,
              "#0d0887"
             ],
             [
              0.1111111111111111,
              "#46039f"
             ],
             [
              0.2222222222222222,
              "#7201a8"
             ],
             [
              0.3333333333333333,
              "#9c179e"
             ],
             [
              0.4444444444444444,
              "#bd3786"
             ],
             [
              0.5555555555555556,
              "#d8576b"
             ],
             [
              0.6666666666666666,
              "#ed7953"
             ],
             [
              0.7777777777777778,
              "#fb9f3a"
             ],
             [
              0.8888888888888888,
              "#fdca26"
             ],
             [
              1,
              "#f0f921"
             ]
            ],
            "type": "histogram2dcontour"
           }
          ],
          "mesh3d": [
           {
            "colorbar": {
             "outlinewidth": 0,
             "ticks": ""
            },
            "type": "mesh3d"
           }
          ],
          "parcoords": [
           {
            "line": {
             "colorbar": {
              "outlinewidth": 0,
              "ticks": ""
             }
            },
            "type": "parcoords"
           }
          ],
          "pie": [
           {
            "automargin": true,
            "type": "pie"
           }
          ],
          "scatter": [
           {
            "marker": {
             "colorbar": {
              "outlinewidth": 0,
              "ticks": ""
             }
            },
            "type": "scatter"
           }
          ],
          "scatter3d": [
           {
            "line": {
             "colorbar": {
              "outlinewidth": 0,
              "ticks": ""
             }
            },
            "marker": {
             "colorbar": {
              "outlinewidth": 0,
              "ticks": ""
             }
            },
            "type": "scatter3d"
           }
          ],
          "scattercarpet": [
           {
            "marker": {
             "colorbar": {
              "outlinewidth": 0,
              "ticks": ""
             }
            },
            "type": "scattercarpet"
           }
          ],
          "scattergeo": [
           {
            "marker": {
             "colorbar": {
              "outlinewidth": 0,
              "ticks": ""
             }
            },
            "type": "scattergeo"
           }
          ],
          "scattergl": [
           {
            "marker": {
             "colorbar": {
              "outlinewidth": 0,
              "ticks": ""
             }
            },
            "type": "scattergl"
           }
          ],
          "scattermapbox": [
           {
            "marker": {
             "colorbar": {
              "outlinewidth": 0,
              "ticks": ""
             }
            },
            "type": "scattermapbox"
           }
          ],
          "scatterpolar": [
           {
            "marker": {
             "colorbar": {
              "outlinewidth": 0,
              "ticks": ""
             }
            },
            "type": "scatterpolar"
           }
          ],
          "scatterpolargl": [
           {
            "marker": {
             "colorbar": {
              "outlinewidth": 0,
              "ticks": ""
             }
            },
            "type": "scatterpolargl"
           }
          ],
          "scatterternary": [
           {
            "marker": {
             "colorbar": {
              "outlinewidth": 0,
              "ticks": ""
             }
            },
            "type": "scatterternary"
           }
          ],
          "surface": [
           {
            "colorbar": {
             "outlinewidth": 0,
             "ticks": ""
            },
            "colorscale": [
             [
              0,
              "#0d0887"
             ],
             [
              0.1111111111111111,
              "#46039f"
             ],
             [
              0.2222222222222222,
              "#7201a8"
             ],
             [
              0.3333333333333333,
              "#9c179e"
             ],
             [
              0.4444444444444444,
              "#bd3786"
             ],
             [
              0.5555555555555556,
              "#d8576b"
             ],
             [
              0.6666666666666666,
              "#ed7953"
             ],
             [
              0.7777777777777778,
              "#fb9f3a"
             ],
             [
              0.8888888888888888,
              "#fdca26"
             ],
             [
              1,
              "#f0f921"
             ]
            ],
            "type": "surface"
           }
          ],
          "table": [
           {
            "cells": {
             "fill": {
              "color": "#EBF0F8"
             },
             "line": {
              "color": "white"
             }
            },
            "header": {
             "fill": {
              "color": "#C8D4E3"
             },
             "line": {
              "color": "white"
             }
            },
            "type": "table"
           }
          ]
         },
         "layout": {
          "annotationdefaults": {
           "arrowcolor": "#2a3f5f",
           "arrowhead": 0,
           "arrowwidth": 1
          },
          "coloraxis": {
           "colorbar": {
            "outlinewidth": 0,
            "ticks": ""
           }
          },
          "colorscale": {
           "diverging": [
            [
             0,
             "#8e0152"
            ],
            [
             0.1,
             "#c51b7d"
            ],
            [
             0.2,
             "#de77ae"
            ],
            [
             0.3,
             "#f1b6da"
            ],
            [
             0.4,
             "#fde0ef"
            ],
            [
             0.5,
             "#f7f7f7"
            ],
            [
             0.6,
             "#e6f5d0"
            ],
            [
             0.7,
             "#b8e186"
            ],
            [
             0.8,
             "#7fbc41"
            ],
            [
             0.9,
             "#4d9221"
            ],
            [
             1,
             "#276419"
            ]
           ],
           "sequential": [
            [
             0,
             "#0d0887"
            ],
            [
             0.1111111111111111,
             "#46039f"
            ],
            [
             0.2222222222222222,
             "#7201a8"
            ],
            [
             0.3333333333333333,
             "#9c179e"
            ],
            [
             0.4444444444444444,
             "#bd3786"
            ],
            [
             0.5555555555555556,
             "#d8576b"
            ],
            [
             0.6666666666666666,
             "#ed7953"
            ],
            [
             0.7777777777777778,
             "#fb9f3a"
            ],
            [
             0.8888888888888888,
             "#fdca26"
            ],
            [
             1,
             "#f0f921"
            ]
           ],
           "sequentialminus": [
            [
             0,
             "#0d0887"
            ],
            [
             0.1111111111111111,
             "#46039f"
            ],
            [
             0.2222222222222222,
             "#7201a8"
            ],
            [
             0.3333333333333333,
             "#9c179e"
            ],
            [
             0.4444444444444444,
             "#bd3786"
            ],
            [
             0.5555555555555556,
             "#d8576b"
            ],
            [
             0.6666666666666666,
             "#ed7953"
            ],
            [
             0.7777777777777778,
             "#fb9f3a"
            ],
            [
             0.8888888888888888,
             "#fdca26"
            ],
            [
             1,
             "#f0f921"
            ]
           ]
          },
          "colorway": [
           "#636efa",
           "#EF553B",
           "#00cc96",
           "#ab63fa",
           "#FFA15A",
           "#19d3f3",
           "#FF6692",
           "#B6E880",
           "#FF97FF",
           "#FECB52"
          ],
          "font": {
           "color": "#2a3f5f"
          },
          "geo": {
           "bgcolor": "white",
           "lakecolor": "white",
           "landcolor": "#E5ECF6",
           "showlakes": true,
           "showland": true,
           "subunitcolor": "white"
          },
          "hoverlabel": {
           "align": "left"
          },
          "hovermode": "closest",
          "mapbox": {
           "style": "light"
          },
          "paper_bgcolor": "white",
          "plot_bgcolor": "#E5ECF6",
          "polar": {
           "angularaxis": {
            "gridcolor": "white",
            "linecolor": "white",
            "ticks": ""
           },
           "bgcolor": "#E5ECF6",
           "radialaxis": {
            "gridcolor": "white",
            "linecolor": "white",
            "ticks": ""
           }
          },
          "scene": {
           "xaxis": {
            "backgroundcolor": "#E5ECF6",
            "gridcolor": "white",
            "gridwidth": 2,
            "linecolor": "white",
            "showbackground": true,
            "ticks": "",
            "zerolinecolor": "white"
           },
           "yaxis": {
            "backgroundcolor": "#E5ECF6",
            "gridcolor": "white",
            "gridwidth": 2,
            "linecolor": "white",
            "showbackground": true,
            "ticks": "",
            "zerolinecolor": "white"
           },
           "zaxis": {
            "backgroundcolor": "#E5ECF6",
            "gridcolor": "white",
            "gridwidth": 2,
            "linecolor": "white",
            "showbackground": true,
            "ticks": "",
            "zerolinecolor": "white"
           }
          },
          "shapedefaults": {
           "line": {
            "color": "#2a3f5f"
           }
          },
          "ternary": {
           "aaxis": {
            "gridcolor": "white",
            "linecolor": "white",
            "ticks": ""
           },
           "baxis": {
            "gridcolor": "white",
            "linecolor": "white",
            "ticks": ""
           },
           "bgcolor": "#E5ECF6",
           "caxis": {
            "gridcolor": "white",
            "linecolor": "white",
            "ticks": ""
           }
          },
          "title": {
           "x": 0.05
          },
          "xaxis": {
           "automargin": true,
           "gridcolor": "white",
           "linecolor": "white",
           "ticks": "",
           "title": {
            "standoff": 15
           },
           "zerolinecolor": "white",
           "zerolinewidth": 2
          },
          "yaxis": {
           "automargin": true,
           "gridcolor": "white",
           "linecolor": "white",
           "ticks": "",
           "title": {
            "standoff": 15
           },
           "zerolinecolor": "white",
           "zerolinewidth": 2
          }
         }
        },
        "title": {
         "text": "Evénements qui y ont eu lieu triés par le nombre de mentions au/en : FR en/le: 20190307"
        },
        "xaxis": {
         "anchor": "y",
         "autorange": true,
         "domain": [
          0,
          1
         ],
         "range": [
          0,
          423.1578947368421
         ],
         "title": {
          "text": "count"
         },
         "type": "linear"
        },
        "yaxis": {
         "anchor": "x",
         "autorange": true,
         "domain": [
          0,
          1
         ],
         "range": [
          -0.5,
          9.5
         ],
         "title": {
          "text": "eventid"
         },
         "type": "category"
        }
       }
      },
      "image/png": "[encoded data removed]",
      "text/html": [
       "<div>\n",
       "        \n",
       "        \n",
       "            <div id=\"4650eed0-daad-4f67-b4ea-9f1bde885ed1\" class=\"plotly-graph-div\" style=\"height:525px; width:100%;\"></div>\n",
       "            <script type=\"text/javascript\">\n",
       "                require([\"plotly\"], function(Plotly) {\n",
       "                    window.PLOTLYENV=window.PLOTLYENV || {};\n",
       "                    \n",
       "                if (document.getElementById(\"4650eed0-daad-4f67-b4ea-9f1bde885ed1\")) {\n",
       "                    Plotly.newPlot(\n",
       "                        '4650eed0-daad-4f67-b4ea-9f1bde885ed1',\n",
       "                        [{\"alignmentgroup\": \"True\", \"hoverlabel\": {\"namelength\": 0}, \"hovertemplate\": \"count=%{text}<br>eventid=%{y}\", \"legendgroup\": \"\", \"marker\": {\"color\": \"#636efa\"}, \"name\": \"\", \"offsetgroup\": \"\", \"orientation\": \"h\", \"showlegend\": false, \"text\": [402.0, 240.0, 230.0, 227.0, 223.0, 219.0, 206.0, 188.0, 182.0, 174.0], \"textposition\": \"auto\", \"type\": \"bar\", \"x\": [402, 240, 230, 227, 223, 219, 206, 188, 182, 174], \"xaxis\": \"x\", \"y\": [\"\\u00a4828951745\", \"\\u00a4828895028\", \"\\u00a4828951847\", \"\\u00a4828896217\", \"\\u00a4828987882\", \"\\u00a4828912312\", \"\\u00a4828987872\", \"\\u00a4828903044\", \"\\u00a4828903043\", \"\\u00a4828908848\"], \"yaxis\": \"y\"}],\n",
       "                        {\"barmode\": \"relative\", \"legend\": {\"tracegroupgap\": 0}, \"template\": {\"data\": {\"bar\": [{\"error_x\": {\"color\": \"#2a3f5f\"}, \"error_y\": {\"color\": \"#2a3f5f\"}, \"marker\": {\"line\": {\"color\": \"#E5ECF6\", \"width\": 0.5}}, \"type\": \"bar\"}], \"barpolar\": [{\"marker\": {\"line\": {\"color\": \"#E5ECF6\", \"width\": 0.5}}, \"type\": \"barpolar\"}], \"carpet\": [{\"aaxis\": {\"endlinecolor\": \"#2a3f5f\", \"gridcolor\": \"white\", \"linecolor\": \"white\", \"minorgridcolor\": \"white\", \"startlinecolor\": \"#2a3f5f\"}, \"baxis\": {\"endlinecolor\": \"#2a3f5f\", \"gridcolor\": \"white\", \"linecolor\": \"white\", \"minorgridcolor\": \"white\", \"startlinecolor\": \"#2a3f5f\"}, \"type\": \"carpet\"}], \"choropleth\": [{\"colorbar\": {\"outlinewidth\": 0, \"ticks\": \"\"}, \"type\": \"choropleth\"}], \"contour\": [{\"colorbar\": {\"outlinewidth\": 0, \"ticks\": \"\"}, \"colorscale\": [[0.0, \"#0d0887\"], [0.1111111111111111, \"#46039f\"], [0.2222222222222222, \"#7201a8\"], [0.3333333333333333, \"#9c179e\"], [0.4444444444444444, \"#bd3786\"], [0.5555555555555556, \"#d8576b\"], [0.6666666666666666, \"#ed7953\"], [0.7777777777777778, \"#fb9f3a\"], [0.8888888888888888, \"#fdca26\"], [1.0, \"#f0f921\"]], \"type\": \"contour\"}], \"contourcarpet\": [{\"colorbar\": {\"outlinewidth\": 0, \"ticks\": \"\"}, \"type\": \"contourcarpet\"}], \"heatmap\": [{\"colorbar\": {\"outlinewidth\": 0, \"ticks\": \"\"}, \"colorscale\": [[0.0, \"#0d0887\"], [0.1111111111111111, \"#46039f\"], [0.2222222222222222, \"#7201a8\"], [0.3333333333333333, \"#9c179e\"], [0.4444444444444444, \"#bd3786\"], [0.5555555555555556, \"#d8576b\"], [0.6666666666666666, \"#ed7953\"], [0.7777777777777778, \"#fb9f3a\"], [0.8888888888888888, \"#fdca26\"], [1.0, \"#f0f921\"]], \"type\": \"heatmap\"}], \"heatmapgl\": [{\"colorbar\": {\"outlinewidth\": 0, \"ticks\": \"\"}, \"colorscale\": [[0.0, \"#0d0887\"], [0.1111111111111111, \"#46039f\"], [0.2222222222222222, \"#7201a8\"], [0.3333333333333333, \"#9c179e\"], [0.4444444444444444, \"#bd3786\"], [0.5555555555555556, \"#d8576b\"], [0.6666666666666666, \"#ed7953\"], [0.7777777777777778, \"#fb9f3a\"], [0.8888888888888888, \"#fdca26\"], [1.0, \"#f0f921\"]], \"type\": \"heatmapgl\"}], \"histogram\": [{\"marker\": {\"colorbar\": {\"outlinewidth\": 0, \"ticks\": \"\"}}, \"type\": \"histogram\"}], \"histogram2d\": [{\"colorbar\": {\"outlinewidth\": 0, \"ticks\": \"\"}, \"colorscale\": [[0.0, \"#0d0887\"], [0.1111111111111111, \"#46039f\"], [0.2222222222222222, \"#7201a8\"], [0.3333333333333333, \"#9c179e\"], [0.4444444444444444, \"#bd3786\"], [0.5555555555555556, \"#d8576b\"], [0.6666666666666666, \"#ed7953\"], [0.7777777777777778, \"#fb9f3a\"], [0.8888888888888888, \"#fdca26\"], [1.0, \"#f0f921\"]], \"type\": \"histogram2d\"}], \"histogram2dcontour\": [{\"colorbar\": {\"outlinewidth\": 0, \"ticks\": \"\"}, \"colorscale\": [[0.0, \"#0d0887\"], [0.1111111111111111, \"#46039f\"], [0.2222222222222222, \"#7201a8\"], [0.3333333333333333, \"#9c179e\"], [0.4444444444444444, \"#bd3786\"], [0.5555555555555556, \"#d8576b\"], [0.6666666666666666, \"#ed7953\"], [0.7777777777777778, \"#fb9f3a\"], [0.8888888888888888, \"#fdca26\"], [1.0, \"#f0f921\"]], \"type\": \"histogram2dcontour\"}], \"mesh3d\": [{\"colorbar\": {\"outlinewidth\": 0, \"ticks\": \"\"}, \"type\": \"mesh3d\"}], \"parcoords\": [{\"line\": {\"colorbar\": {\"outlinewidth\": 0, \"ticks\": \"\"}}, \"type\": \"parcoords\"}], \"pie\": [{\"automargin\": true, \"type\": \"pie\"}], \"scatter\": [{\"marker\": {\"colorbar\": {\"outlinewidth\": 0, \"ticks\": \"\"}}, \"type\": \"scatter\"}], \"scatter3d\": [{\"line\": {\"colorbar\": {\"outlinewidth\": 0, \"ticks\": \"\"}}, \"marker\": {\"colorbar\": {\"outlinewidth\": 0, \"ticks\": \"\"}}, \"type\": \"scatter3d\"}], \"scattercarpet\": [{\"marker\": {\"colorbar\": {\"outlinewidth\": 0, \"ticks\": \"\"}}, \"type\": \"scattercarpet\"}], \"scattergeo\": [{\"marker\": {\"colorbar\": {\"outlinewidth\": 0, \"ticks\": \"\"}}, \"type\": \"scattergeo\"}], \"scattergl\": [{\"marker\": {\"colorbar\": {\"outlinewidth\": 0, \"ticks\": \"\"}}, \"type\": \"scattergl\"}], \"scattermapbox\": [{\"marker\": {\"colorbar\": {\"outlinewidth\": 0, \"ticks\": \"\"}}, \"type\": \"scattermapbox\"}], \"scatterpolar\": [{\"marker\": {\"colorbar\": {\"outlinewidth\": 0, \"ticks\": \"\"}}, \"type\": \"scatterpolar\"}], \"scatterpolargl\": [{\"marker\": {\"colorbar\": {\"outlinewidth\": 0, \"ticks\": \"\"}}, \"type\": \"scatterpolargl\"}], \"scatterternary\": [{\"marker\": {\"colorbar\": {\"outlinewidth\": 0, \"ticks\": \"\"}}, \"type\": \"scatterternary\"}], \"surface\": [{\"colorbar\": {\"outlinewidth\": 0, \"ticks\": \"\"}, \"colorscale\": [[0.0, \"#0d0887\"], [0.1111111111111111, \"#46039f\"], [0.2222222222222222, \"#7201a8\"], [0.3333333333333333, \"#9c179e\"], [0.4444444444444444, \"#bd3786\"], [0.5555555555555556, \"#d8576b\"], [0.6666666666666666, \"#ed7953\"], [0.7777777777777778, \"#fb9f3a\"], [0.8888888888888888, \"#fdca26\"], [1.0, \"#f0f921\"]], \"type\": \"surface\"}], \"table\": [{\"cells\": {\"fill\": {\"color\": \"#EBF0F8\"}, \"line\": {\"color\": \"white\"}}, \"header\": {\"fill\": {\"color\": \"#C8D4E3\"}, \"line\": {\"color\": \"white\"}}, \"type\": \"table\"}]}, \"layout\": {\"annotationdefaults\": {\"arrowcolor\": \"#2a3f5f\", \"arrowhead\": 0, \"arrowwidth\": 1}, \"coloraxis\": {\"colorbar\": {\"outlinewidth\": 0, \"ticks\": \"\"}}, \"colorscale\": {\"diverging\": [[0, \"#8e0152\"], [0.1, \"#c51b7d\"], [0.2, \"#de77ae\"], [0.3, \"#f1b6da\"], [0.4, \"#fde0ef\"], [0.5, \"#f7f7f7\"], [0.6, \"#e6f5d0\"], [0.7, \"#b8e186\"], [0.8, \"#7fbc41\"], [0.9, \"#4d9221\"], [1, \"#276419\"]], \"sequential\": [[0.0, \"#0d0887\"], [0.1111111111111111, \"#46039f\"], [0.2222222222222222, \"#7201a8\"], [0.3333333333333333, \"#9c179e\"], [0.4444444444444444, \"#bd3786\"], [0.5555555555555556, \"#d8576b\"], [0.6666666666666666, \"#ed7953\"], [0.7777777777777778, \"#fb9f3a\"], [0.8888888888888888, \"#fdca26\"], [1.0, \"#f0f921\"]], \"sequentialminus\": [[0.0, \"#0d0887\"], [0.1111111111111111, \"#46039f\"], [0.2222222222222222, \"#7201a8\"], [0.3333333333333333, \"#9c179e\"], [0.4444444444444444, \"#bd3786\"], [0.5555555555555556, \"#d8576b\"], [0.6666666666666666, \"#ed7953\"], [0.7777777777777778, \"#fb9f3a\"], [0.8888888888888888, \"#fdca26\"], [1.0, \"#f0f921\"]]}, \"colorway\": [\"#636efa\", \"#EF553B\", \"#00cc96\", \"#ab63fa\", \"#FFA15A\", \"#19d3f3\", \"#FF6692\", \"#B6E880\", \"#FF97FF\", \"#FECB52\"], \"font\": {\"color\": \"#2a3f5f\"}, \"geo\": {\"bgcolor\": \"white\", \"lakecolor\": \"white\", \"landcolor\": \"#E5ECF6\", \"showlakes\": true, \"showland\": true, \"subunitcolor\": \"white\"}, \"hoverlabel\": {\"align\": \"left\"}, \"hovermode\": \"closest\", \"mapbox\": {\"style\": \"light\"}, \"paper_bgcolor\": \"white\", \"plot_bgcolor\": \"#E5ECF6\", \"polar\": {\"angularaxis\": {\"gridcolor\": \"white\", \"linecolor\": \"white\", \"ticks\": \"\"}, \"bgcolor\": \"#E5ECF6\", \"radialaxis\": {\"gridcolor\": \"white\", \"linecolor\": \"white\", \"ticks\": \"\"}}, \"scene\": {\"xaxis\": {\"backgroundcolor\": \"#E5ECF6\", \"gridcolor\": \"white\", \"gridwidth\": 2, \"linecolor\": \"white\", \"showbackground\": true, \"ticks\": \"\", \"zerolinecolor\": \"white\"}, \"yaxis\": {\"backgroundcolor\": \"#E5ECF6\", \"gridcolor\": \"white\", \"gridwidth\": 2, \"linecolor\": \"white\", \"showbackground\": true, \"ticks\": \"\", \"zerolinecolor\": \"white\"}, \"zaxis\": {\"backgroundcolor\": \"#E5ECF6\", \"gridcolor\": \"white\", \"gridwidth\": 2, \"linecolor\": \"white\", \"showbackground\": true, \"ticks\": \"\", \"zerolinecolor\": \"white\"}}, \"shapedefaults\": {\"line\": {\"color\": \"#2a3f5f\"}}, \"ternary\": {\"aaxis\": {\"gridcolor\": \"white\", \"linecolor\": \"white\", \"ticks\": \"\"}, \"baxis\": {\"gridcolor\": \"white\", \"linecolor\": \"white\", \"ticks\": \"\"}, \"bgcolor\": \"#E5ECF6\", \"caxis\": {\"gridcolor\": \"white\", \"linecolor\": \"white\", \"ticks\": \"\"}}, \"title\": {\"x\": 0.05}, \"xaxis\": {\"automargin\": true, \"gridcolor\": \"white\", \"linecolor\": \"white\", \"ticks\": \"\", \"title\": {\"standoff\": 15}, \"zerolinecolor\": \"white\", \"zerolinewidth\": 2}, \"yaxis\": {\"automargin\": true, \"gridcolor\": \"white\", \"linecolor\": \"white\", \"ticks\": \"\", \"title\": {\"standoff\": 15}, \"zerolinecolor\": \"white\", \"zerolinewidth\": 2}}}, \"title\": {\"text\": \"Ev\\u00e9nements qui y ont eu lieu tri\\u00e9s par le nombre de mentions au/en : FR en/le: 20190307\"}, \"xaxis\": {\"anchor\": \"y\", \"domain\": [0.0, 1.0], \"title\": {\"text\": \"count\"}}, \"yaxis\": {\"anchor\": \"x\", \"domain\": [0.0, 1.0], \"title\": {\"text\": \"eventid\"}}},\n",
       "                        {\"responsive\": true}\n",
       "                    ).then(function(){\n",
       "                            \n",
       "var gd = document.getElementById('4650eed0-daad-4f67-b4ea-9f1bde885ed1');\n",
       "var x = new MutationObserver(function (mutations, observer) {{\n",
       "        var display = window.getComputedStyle(gd).display;\n",
       "        if (!display || display === 'none') {{\n",
       "            console.log([gd, 'removed!']);\n",
       "            Plotly.purge(gd);\n",
       "            observer.disconnect();\n",
       "        }}\n",
       "}});\n",
       "\n",
       "// Listen for the removal of the full notebook cells\n",
       "var notebookContainer = gd.closest('#notebook-container');\n",
       "if (notebookContainer) {{\n",
       "    x.observe(notebookContainer, {childList: true});\n",
       "}}\n",
       "\n",
       "// Listen for the clearing of the current output cell\n",
       "var outputEl = gd.closest('.output');\n",
       "if (outputEl) {{\n",
       "    x.observe(outputEl, {childList: true});\n",
       "}}\n",
       "\n",
       "                        })\n",
       "                };\n",
       "                });\n",
       "            </script>\n",
       "        </div>"
      ]
     },
     "metadata": {},
     "output_type": "display_data"
    }
   ],
   "source": [
    "country= \"FR\"\n",
    "date = '20190307'\n",
    "a = requete2(country, year= date[:4], monthyear= date[:6], date= date)\n",
    "plot_bar_chart_plotly(a, country, date)"
   ]
  },
  {
   "cell_type": "code",
   "execution_count": 146,
   "metadata": {},
   "outputs": [
    {
     "data": {
      "application/vnd.plotly.v1+json": {
       "config": {
        "plotlyServerURL": "https://plot.ly"
       },
       "data": [
        {
         "alignmentgroup": "True",
         "hoverlabel": {
          "namelength": 0
         },
         "hovertemplate": "count=%{text}<br>eventid=%{y}",
         "legendgroup": "",
         "marker": {
          "color": "#636efa"
         },
         "name": "",
         "offsetgroup": "",
         "orientation": "h",
         "showlegend": false,
         "text": [
          556,
          472,
          402,
          402,
          366,
          351,
          326,
          319,
          318,
          312
         ],
         "textposition": "auto",
         "type": "bar",
         "x": [
          556,
          472,
          402,
          402,
          366,
          351,
          326,
          319,
          318,
          312
         ],
         "xaxis": "x",
         "y": [
          "¤832973841",
          "¤830308086",
          "¤828951745",
          "¤831183023",
          "¤832983726",
          "¤832938964",
          "¤831161272",
          "¤832904232",
          "¤829298401",
          "¤832902999"
         ],
         "yaxis": "y"
        }
       ],
       "layout": {
        "autosize": true,
        "barmode": "relative",
        "legend": {
         "tracegroupgap": 0
        },
        "template": {
         "data": {
          "bar": [
           {
            "error_x": {
             "color": "#2a3f5f"
            },
            "error_y": {
             "color": "#2a3f5f"
            },
            "marker": {
             "line": {
              "color": "#E5ECF6",
              "width": 0.5
             }
            },
            "type": "bar"
           }
          ],
          "barpolar": [
           {
            "marker": {
             "line": {
              "color": "#E5ECF6",
              "width": 0.5
             }
            },
            "type": "barpolar"
           }
          ],
          "carpet": [
           {
            "aaxis": {
             "endlinecolor": "#2a3f5f",
             "gridcolor": "white",
             "linecolor": "white",
             "minorgridcolor": "white",
             "startlinecolor": "#2a3f5f"
            },
            "baxis": {
             "endlinecolor": "#2a3f5f",
             "gridcolor": "white",
             "linecolor": "white",
             "minorgridcolor": "white",
             "startlinecolor": "#2a3f5f"
            },
            "type": "carpet"
           }
          ],
          "choropleth": [
           {
            "colorbar": {
             "outlinewidth": 0,
             "ticks": ""
            },
            "type": "choropleth"
           }
          ],
          "contour": [
           {
            "colorbar": {
             "outlinewidth": 0,
             "ticks": ""
            },
            "colorscale": [
             [
              0,
              "#0d0887"
             ],
             [
              0.1111111111111111,
              "#46039f"
             ],
             [
              0.2222222222222222,
              "#7201a8"
             ],
             [
              0.3333333333333333,
              "#9c179e"
             ],
             [
              0.4444444444444444,
              "#bd3786"
             ],
             [
              0.5555555555555556,
              "#d8576b"
             ],
             [
              0.6666666666666666,
              "#ed7953"
             ],
             [
              0.7777777777777778,
              "#fb9f3a"
             ],
             [
              0.8888888888888888,
              "#fdca26"
             ],
             [
              1,
              "#f0f921"
             ]
            ],
            "type": "contour"
           }
          ],
          "contourcarpet": [
           {
            "colorbar": {
             "outlinewidth": 0,
             "ticks": ""
            },
            "type": "contourcarpet"
           }
          ],
          "heatmap": [
           {
            "colorbar": {
             "outlinewidth": 0,
             "ticks": ""
            },
            "colorscale": [
             [
              0,
              "#0d0887"
             ],
             [
              0.1111111111111111,
              "#46039f"
             ],
             [
              0.2222222222222222,
              "#7201a8"
             ],
             [
              0.3333333333333333,
              "#9c179e"
             ],
             [
              0.4444444444444444,
              "#bd3786"
             ],
             [
              0.5555555555555556,
              "#d8576b"
             ],
             [
              0.6666666666666666,
              "#ed7953"
             ],
             [
              0.7777777777777778,
              "#fb9f3a"
             ],
             [
              0.8888888888888888,
              "#fdca26"
             ],
             [
              1,
              "#f0f921"
             ]
            ],
            "type": "heatmap"
           }
          ],
          "heatmapgl": [
           {
            "colorbar": {
             "outlinewidth": 0,
             "ticks": ""
            },
            "colorscale": [
             [
              0,
              "#0d0887"
             ],
             [
              0.1111111111111111,
              "#46039f"
             ],
             [
              0.2222222222222222,
              "#7201a8"
             ],
             [
              0.3333333333333333,
              "#9c179e"
             ],
             [
              0.4444444444444444,
              "#bd3786"
             ],
             [
              0.5555555555555556,
              "#d8576b"
             ],
             [
              0.6666666666666666,
              "#ed7953"
             ],
             [
              0.7777777777777778,
              "#fb9f3a"
             ],
             [
              0.8888888888888888,
              "#fdca26"
             ],
             [
              1,
              "#f0f921"
             ]
            ],
            "type": "heatmapgl"
           }
          ],
          "histogram": [
           {
            "marker": {
             "colorbar": {
              "outlinewidth": 0,
              "ticks": ""
             }
            },
            "type": "histogram"
           }
          ],
          "histogram2d": [
           {
            "colorbar": {
             "outlinewidth": 0,
             "ticks": ""
            },
            "colorscale": [
             [
              0,
              "#0d0887"
             ],
             [
              0.1111111111111111,
              "#46039f"
             ],
             [
              0.2222222222222222,
              "#7201a8"
             ],
             [
              0.3333333333333333,
              "#9c179e"
             ],
             [
              0.4444444444444444,
              "#bd3786"
             ],
             [
              0.5555555555555556,
              "#d8576b"
             ],
             [
              0.6666666666666666,
              "#ed7953"
             ],
             [
              0.7777777777777778,
              "#fb9f3a"
             ],
             [
              0.8888888888888888,
              "#fdca26"
             ],
             [
              1,
              "#f0f921"
             ]
            ],
            "type": "histogram2d"
           }
          ],
          "histogram2dcontour": [
           {
            "colorbar": {
             "outlinewidth": 0,
             "ticks": ""
            },
            "colorscale": [
             [
              0,
              "#0d0887"
             ],
             [
              0.1111111111111111,
              "#46039f"
             ],
             [
              0.2222222222222222,
              "#7201a8"
             ],
             [
              0.3333333333333333,
              "#9c179e"
             ],
             [
              0.4444444444444444,
              "#bd3786"
             ],
             [
              0.5555555555555556,
              "#d8576b"
             ],
             [
              0.6666666666666666,
              "#ed7953"
             ],
             [
              0.7777777777777778,
              "#fb9f3a"
             ],
             [
              0.8888888888888888,
              "#fdca26"
             ],
             [
              1,
              "#f0f921"
             ]
            ],
            "type": "histogram2dcontour"
           }
          ],
          "mesh3d": [
           {
            "colorbar": {
             "outlinewidth": 0,
             "ticks": ""
            },
            "type": "mesh3d"
           }
          ],
          "parcoords": [
           {
            "line": {
             "colorbar": {
              "outlinewidth": 0,
              "ticks": ""
             }
            },
            "type": "parcoords"
           }
          ],
          "pie": [
           {
            "automargin": true,
            "type": "pie"
           }
          ],
          "scatter": [
           {
            "marker": {
             "colorbar": {
              "outlinewidth": 0,
              "ticks": ""
             }
            },
            "type": "scatter"
           }
          ],
          "scatter3d": [
           {
            "line": {
             "colorbar": {
              "outlinewidth": 0,
              "ticks": ""
             }
            },
            "marker": {
             "colorbar": {
              "outlinewidth": 0,
              "ticks": ""
             }
            },
            "type": "scatter3d"
           }
          ],
          "scattercarpet": [
           {
            "marker": {
             "colorbar": {
              "outlinewidth": 0,
              "ticks": ""
             }
            },
            "type": "scattercarpet"
           }
          ],
          "scattergeo": [
           {
            "marker": {
             "colorbar": {
              "outlinewidth": 0,
              "ticks": ""
             }
            },
            "type": "scattergeo"
           }
          ],
          "scattergl": [
           {
            "marker": {
             "colorbar": {
              "outlinewidth": 0,
              "ticks": ""
             }
            },
            "type": "scattergl"
           }
          ],
          "scattermapbox": [
           {
            "marker": {
             "colorbar": {
              "outlinewidth": 0,
              "ticks": ""
             }
            },
            "type": "scattermapbox"
           }
          ],
          "scatterpolar": [
           {
            "marker": {
             "colorbar": {
              "outlinewidth": 0,
              "ticks": ""
             }
            },
            "type": "scatterpolar"
           }
          ],
          "scatterpolargl": [
           {
            "marker": {
             "colorbar": {
              "outlinewidth": 0,
              "ticks": ""
             }
            },
            "type": "scatterpolargl"
           }
          ],
          "scatterternary": [
           {
            "marker": {
             "colorbar": {
              "outlinewidth": 0,
              "ticks": ""
             }
            },
            "type": "scatterternary"
           }
          ],
          "surface": [
           {
            "colorbar": {
             "outlinewidth": 0,
             "ticks": ""
            },
            "colorscale": [
             [
              0,
              "#0d0887"
             ],
             [
              0.1111111111111111,
              "#46039f"
             ],
             [
              0.2222222222222222,
              "#7201a8"
             ],
             [
              0.3333333333333333,
              "#9c179e"
             ],
             [
              0.4444444444444444,
              "#bd3786"
             ],
             [
              0.5555555555555556,
              "#d8576b"
             ],
             [
              0.6666666666666666,
              "#ed7953"
             ],
             [
              0.7777777777777778,
              "#fb9f3a"
             ],
             [
              0.8888888888888888,
              "#fdca26"
             ],
             [
              1,
              "#f0f921"
             ]
            ],
            "type": "surface"
           }
          ],
          "table": [
           {
            "cells": {
             "fill": {
              "color": "#EBF0F8"
             },
             "line": {
              "color": "white"
             }
            },
            "header": {
             "fill": {
              "color": "#C8D4E3"
             },
             "line": {
              "color": "white"
             }
            },
            "type": "table"
           }
          ]
         },
         "layout": {
          "annotationdefaults": {
           "arrowcolor": "#2a3f5f",
           "arrowhead": 0,
           "arrowwidth": 1
          },
          "coloraxis": {
           "colorbar": {
            "outlinewidth": 0,
            "ticks": ""
           }
          },
          "colorscale": {
           "diverging": [
            [
             0,
             "#8e0152"
            ],
            [
             0.1,
             "#c51b7d"
            ],
            [
             0.2,
             "#de77ae"
            ],
            [
             0.3,
             "#f1b6da"
            ],
            [
             0.4,
             "#fde0ef"
            ],
            [
             0.5,
             "#f7f7f7"
            ],
            [
             0.6,
             "#e6f5d0"
            ],
            [
             0.7,
             "#b8e186"
            ],
            [
             0.8,
             "#7fbc41"
            ],
            [
             0.9,
             "#4d9221"
            ],
            [
             1,
             "#276419"
            ]
           ],
           "sequential": [
            [
             0,
             "#0d0887"
            ],
            [
             0.1111111111111111,
             "#46039f"
            ],
            [
             0.2222222222222222,
             "#7201a8"
            ],
            [
             0.3333333333333333,
             "#9c179e"
            ],
            [
             0.4444444444444444,
             "#bd3786"
            ],
            [
             0.5555555555555556,
             "#d8576b"
            ],
            [
             0.6666666666666666,
             "#ed7953"
            ],
            [
             0.7777777777777778,
             "#fb9f3a"
            ],
            [
             0.8888888888888888,
             "#fdca26"
            ],
            [
             1,
             "#f0f921"
            ]
           ],
           "sequentialminus": [
            [
             0,
             "#0d0887"
            ],
            [
             0.1111111111111111,
             "#46039f"
            ],
            [
             0.2222222222222222,
             "#7201a8"
            ],
            [
             0.3333333333333333,
             "#9c179e"
            ],
            [
             0.4444444444444444,
             "#bd3786"
            ],
            [
             0.5555555555555556,
             "#d8576b"
            ],
            [
             0.6666666666666666,
             "#ed7953"
            ],
            [
             0.7777777777777778,
             "#fb9f3a"
            ],
            [
             0.8888888888888888,
             "#fdca26"
            ],
            [
             1,
             "#f0f921"
            ]
           ]
          },
          "colorway": [
           "#636efa",
           "#EF553B",
           "#00cc96",
           "#ab63fa",
           "#FFA15A",
           "#19d3f3",
           "#FF6692",
           "#B6E880",
           "#FF97FF",
           "#FECB52"
          ],
          "font": {
           "color": "#2a3f5f"
          },
          "geo": {
           "bgcolor": "white",
           "lakecolor": "white",
           "landcolor": "#E5ECF6",
           "showlakes": true,
           "showland": true,
           "subunitcolor": "white"
          },
          "hoverlabel": {
           "align": "left"
          },
          "hovermode": "closest",
          "mapbox": {
           "style": "light"
          },
          "paper_bgcolor": "white",
          "plot_bgcolor": "#E5ECF6",
          "polar": {
           "angularaxis": {
            "gridcolor": "white",
            "linecolor": "white",
            "ticks": ""
           },
           "bgcolor": "#E5ECF6",
           "radialaxis": {
            "gridcolor": "white",
            "linecolor": "white",
            "ticks": ""
           }
          },
          "scene": {
           "xaxis": {
            "backgroundcolor": "#E5ECF6",
            "gridcolor": "white",
            "gridwidth": 2,
            "linecolor": "white",
            "showbackground": true,
            "ticks": "",
            "zerolinecolor": "white"
           },
           "yaxis": {
            "backgroundcolor": "#E5ECF6",
            "gridcolor": "white",
            "gridwidth": 2,
            "linecolor": "white",
            "showbackground": true,
            "ticks": "",
            "zerolinecolor": "white"
           },
           "zaxis": {
            "backgroundcolor": "#E5ECF6",
            "gridcolor": "white",
            "gridwidth": 2,
            "linecolor": "white",
            "showbackground": true,
            "ticks": "",
            "zerolinecolor": "white"
           }
          },
          "shapedefaults": {
           "line": {
            "color": "#2a3f5f"
           }
          },
          "ternary": {
           "aaxis": {
            "gridcolor": "white",
            "linecolor": "white",
            "ticks": ""
           },
           "baxis": {
            "gridcolor": "white",
            "linecolor": "white",
            "ticks": ""
           },
           "bgcolor": "#E5ECF6",
           "caxis": {
            "gridcolor": "white",
            "linecolor": "white",
            "ticks": ""
           }
          },
          "title": {
           "x": 0.05
          },
          "xaxis": {
           "automargin": true,
           "gridcolor": "white",
           "linecolor": "white",
           "ticks": "",
           "title": {
            "standoff": 15
           },
           "zerolinecolor": "white",
           "zerolinewidth": 2
          },
          "yaxis": {
           "automargin": true,
           "gridcolor": "white",
           "linecolor": "white",
           "ticks": "",
           "title": {
            "standoff": 15
           },
           "zerolinecolor": "white",
           "zerolinewidth": 2
          }
         }
        },
        "title": {
         "text": "Evénements qui y ont eu lieu triés par le nombre de mentions au/en : FR en/le: 201903"
        },
        "xaxis": {
         "anchor": "y",
         "autorange": true,
         "domain": [
          0,
          1
         ],
         "range": [
          0,
          585.2631578947369
         ],
         "title": {
          "text": "count"
         },
         "type": "linear"
        },
        "yaxis": {
         "anchor": "x",
         "autorange": true,
         "domain": [
          0,
          1
         ],
         "range": [
          -0.5,
          9.5
         ],
         "title": {
          "text": "eventid"
         },
         "type": "category"
        }
       }
      },
      "image/png": "[encoded data removed]",
      "text/html": [
       "<div>\n",
       "        \n",
       "        \n",
       "            <div id=\"1022e89c-a71f-4d54-9077-f3498f1c2b9e\" class=\"plotly-graph-div\" style=\"height:525px; width:100%;\"></div>\n",
       "            <script type=\"text/javascript\">\n",
       "                require([\"plotly\"], function(Plotly) {\n",
       "                    window.PLOTLYENV=window.PLOTLYENV || {};\n",
       "                    \n",
       "                if (document.getElementById(\"1022e89c-a71f-4d54-9077-f3498f1c2b9e\")) {\n",
       "                    Plotly.newPlot(\n",
       "                        '1022e89c-a71f-4d54-9077-f3498f1c2b9e',\n",
       "                        [{\"alignmentgroup\": \"True\", \"hoverlabel\": {\"namelength\": 0}, \"hovertemplate\": \"count=%{text}<br>eventid=%{y}\", \"legendgroup\": \"\", \"marker\": {\"color\": \"#636efa\"}, \"name\": \"\", \"offsetgroup\": \"\", \"orientation\": \"h\", \"showlegend\": false, \"text\": [556.0, 472.0, 402.0, 402.0, 366.0, 351.0, 326.0, 319.0, 318.0, 312.0], \"textposition\": \"auto\", \"type\": \"bar\", \"x\": [556, 472, 402, 402, 366, 351, 326, 319, 318, 312], \"xaxis\": \"x\", \"y\": [\"\\u00a4832973841\", \"\\u00a4830308086\", \"\\u00a4828951745\", \"\\u00a4831183023\", \"\\u00a4832983726\", \"\\u00a4832938964\", \"\\u00a4831161272\", \"\\u00a4832904232\", \"\\u00a4829298401\", \"\\u00a4832902999\"], \"yaxis\": \"y\"}],\n",
       "                        {\"barmode\": \"relative\", \"legend\": {\"tracegroupgap\": 0}, \"template\": {\"data\": {\"bar\": [{\"error_x\": {\"color\": \"#2a3f5f\"}, \"error_y\": {\"color\": \"#2a3f5f\"}, \"marker\": {\"line\": {\"color\": \"#E5ECF6\", \"width\": 0.5}}, \"type\": \"bar\"}], \"barpolar\": [{\"marker\": {\"line\": {\"color\": \"#E5ECF6\", \"width\": 0.5}}, \"type\": \"barpolar\"}], \"carpet\": [{\"aaxis\": {\"endlinecolor\": \"#2a3f5f\", \"gridcolor\": \"white\", \"linecolor\": \"white\", \"minorgridcolor\": \"white\", \"startlinecolor\": \"#2a3f5f\"}, \"baxis\": {\"endlinecolor\": \"#2a3f5f\", \"gridcolor\": \"white\", \"linecolor\": \"white\", \"minorgridcolor\": \"white\", \"startlinecolor\": \"#2a3f5f\"}, \"type\": \"carpet\"}], \"choropleth\": [{\"colorbar\": {\"outlinewidth\": 0, \"ticks\": \"\"}, \"type\": \"choropleth\"}], \"contour\": [{\"colorbar\": {\"outlinewidth\": 0, \"ticks\": \"\"}, \"colorscale\": [[0.0, \"#0d0887\"], [0.1111111111111111, \"#46039f\"], [0.2222222222222222, \"#7201a8\"], [0.3333333333333333, \"#9c179e\"], [0.4444444444444444, \"#bd3786\"], [0.5555555555555556, \"#d8576b\"], [0.6666666666666666, \"#ed7953\"], [0.7777777777777778, \"#fb9f3a\"], [0.8888888888888888, \"#fdca26\"], [1.0, \"#f0f921\"]], \"type\": \"contour\"}], \"contourcarpet\": [{\"colorbar\": {\"outlinewidth\": 0, \"ticks\": \"\"}, \"type\": \"contourcarpet\"}], \"heatmap\": [{\"colorbar\": {\"outlinewidth\": 0, \"ticks\": \"\"}, \"colorscale\": [[0.0, \"#0d0887\"], [0.1111111111111111, \"#46039f\"], [0.2222222222222222, \"#7201a8\"], [0.3333333333333333, \"#9c179e\"], [0.4444444444444444, \"#bd3786\"], [0.5555555555555556, \"#d8576b\"], [0.6666666666666666, \"#ed7953\"], [0.7777777777777778, \"#fb9f3a\"], [0.8888888888888888, \"#fdca26\"], [1.0, \"#f0f921\"]], \"type\": \"heatmap\"}], \"heatmapgl\": [{\"colorbar\": {\"outlinewidth\": 0, \"ticks\": \"\"}, \"colorscale\": [[0.0, \"#0d0887\"], [0.1111111111111111, \"#46039f\"], [0.2222222222222222, \"#7201a8\"], [0.3333333333333333, \"#9c179e\"], [0.4444444444444444, \"#bd3786\"], [0.5555555555555556, \"#d8576b\"], [0.6666666666666666, \"#ed7953\"], [0.7777777777777778, \"#fb9f3a\"], [0.8888888888888888, \"#fdca26\"], [1.0, \"#f0f921\"]], \"type\": \"heatmapgl\"}], \"histogram\": [{\"marker\": {\"colorbar\": {\"outlinewidth\": 0, \"ticks\": \"\"}}, \"type\": \"histogram\"}], \"histogram2d\": [{\"colorbar\": {\"outlinewidth\": 0, \"ticks\": \"\"}, \"colorscale\": [[0.0, \"#0d0887\"], [0.1111111111111111, \"#46039f\"], [0.2222222222222222, \"#7201a8\"], [0.3333333333333333, \"#9c179e\"], [0.4444444444444444, \"#bd3786\"], [0.5555555555555556, \"#d8576b\"], [0.6666666666666666, \"#ed7953\"], [0.7777777777777778, \"#fb9f3a\"], [0.8888888888888888, \"#fdca26\"], [1.0, \"#f0f921\"]], \"type\": \"histogram2d\"}], \"histogram2dcontour\": [{\"colorbar\": {\"outlinewidth\": 0, \"ticks\": \"\"}, \"colorscale\": [[0.0, \"#0d0887\"], [0.1111111111111111, \"#46039f\"], [0.2222222222222222, \"#7201a8\"], [0.3333333333333333, \"#9c179e\"], [0.4444444444444444, \"#bd3786\"], [0.5555555555555556, \"#d8576b\"], [0.6666666666666666, \"#ed7953\"], [0.7777777777777778, \"#fb9f3a\"], [0.8888888888888888, \"#fdca26\"], [1.0, \"#f0f921\"]], \"type\": \"histogram2dcontour\"}], \"mesh3d\": [{\"colorbar\": {\"outlinewidth\": 0, \"ticks\": \"\"}, \"type\": \"mesh3d\"}], \"parcoords\": [{\"line\": {\"colorbar\": {\"outlinewidth\": 0, \"ticks\": \"\"}}, \"type\": \"parcoords\"}], \"pie\": [{\"automargin\": true, \"type\": \"pie\"}], \"scatter\": [{\"marker\": {\"colorbar\": {\"outlinewidth\": 0, \"ticks\": \"\"}}, \"type\": \"scatter\"}], \"scatter3d\": [{\"line\": {\"colorbar\": {\"outlinewidth\": 0, \"ticks\": \"\"}}, \"marker\": {\"colorbar\": {\"outlinewidth\": 0, \"ticks\": \"\"}}, \"type\": \"scatter3d\"}], \"scattercarpet\": [{\"marker\": {\"colorbar\": {\"outlinewidth\": 0, \"ticks\": \"\"}}, \"type\": \"scattercarpet\"}], \"scattergeo\": [{\"marker\": {\"colorbar\": {\"outlinewidth\": 0, \"ticks\": \"\"}}, \"type\": \"scattergeo\"}], \"scattergl\": [{\"marker\": {\"colorbar\": {\"outlinewidth\": 0, \"ticks\": \"\"}}, \"type\": \"scattergl\"}], \"scattermapbox\": [{\"marker\": {\"colorbar\": {\"outlinewidth\": 0, \"ticks\": \"\"}}, \"type\": \"scattermapbox\"}], \"scatterpolar\": [{\"marker\": {\"colorbar\": {\"outlinewidth\": 0, \"ticks\": \"\"}}, \"type\": \"scatterpolar\"}], \"scatterpolargl\": [{\"marker\": {\"colorbar\": {\"outlinewidth\": 0, \"ticks\": \"\"}}, \"type\": \"scatterpolargl\"}], \"scatterternary\": [{\"marker\": {\"colorbar\": {\"outlinewidth\": 0, \"ticks\": \"\"}}, \"type\": \"scatterternary\"}], \"surface\": [{\"colorbar\": {\"outlinewidth\": 0, \"ticks\": \"\"}, \"colorscale\": [[0.0, \"#0d0887\"], [0.1111111111111111, \"#46039f\"], [0.2222222222222222, \"#7201a8\"], [0.3333333333333333, \"#9c179e\"], [0.4444444444444444, \"#bd3786\"], [0.5555555555555556, \"#d8576b\"], [0.6666666666666666, \"#ed7953\"], [0.7777777777777778, \"#fb9f3a\"], [0.8888888888888888, \"#fdca26\"], [1.0, \"#f0f921\"]], \"type\": \"surface\"}], \"table\": [{\"cells\": {\"fill\": {\"color\": \"#EBF0F8\"}, \"line\": {\"color\": \"white\"}}, \"header\": {\"fill\": {\"color\": \"#C8D4E3\"}, \"line\": {\"color\": \"white\"}}, \"type\": \"table\"}]}, \"layout\": {\"annotationdefaults\": {\"arrowcolor\": \"#2a3f5f\", \"arrowhead\": 0, \"arrowwidth\": 1}, \"coloraxis\": {\"colorbar\": {\"outlinewidth\": 0, \"ticks\": \"\"}}, \"colorscale\": {\"diverging\": [[0, \"#8e0152\"], [0.1, \"#c51b7d\"], [0.2, \"#de77ae\"], [0.3, \"#f1b6da\"], [0.4, \"#fde0ef\"], [0.5, \"#f7f7f7\"], [0.6, \"#e6f5d0\"], [0.7, \"#b8e186\"], [0.8, \"#7fbc41\"], [0.9, \"#4d9221\"], [1, \"#276419\"]], \"sequential\": [[0.0, \"#0d0887\"], [0.1111111111111111, \"#46039f\"], [0.2222222222222222, \"#7201a8\"], [0.3333333333333333, \"#9c179e\"], [0.4444444444444444, \"#bd3786\"], [0.5555555555555556, \"#d8576b\"], [0.6666666666666666, \"#ed7953\"], [0.7777777777777778, \"#fb9f3a\"], [0.8888888888888888, \"#fdca26\"], [1.0, \"#f0f921\"]], \"sequentialminus\": [[0.0, \"#0d0887\"], [0.1111111111111111, \"#46039f\"], [0.2222222222222222, \"#7201a8\"], [0.3333333333333333, \"#9c179e\"], [0.4444444444444444, \"#bd3786\"], [0.5555555555555556, \"#d8576b\"], [0.6666666666666666, \"#ed7953\"], [0.7777777777777778, \"#fb9f3a\"], [0.8888888888888888, \"#fdca26\"], [1.0, \"#f0f921\"]]}, \"colorway\": [\"#636efa\", \"#EF553B\", \"#00cc96\", \"#ab63fa\", \"#FFA15A\", \"#19d3f3\", \"#FF6692\", \"#B6E880\", \"#FF97FF\", \"#FECB52\"], \"font\": {\"color\": \"#2a3f5f\"}, \"geo\": {\"bgcolor\": \"white\", \"lakecolor\": \"white\", \"landcolor\": \"#E5ECF6\", \"showlakes\": true, \"showland\": true, \"subunitcolor\": \"white\"}, \"hoverlabel\": {\"align\": \"left\"}, \"hovermode\": \"closest\", \"mapbox\": {\"style\": \"light\"}, \"paper_bgcolor\": \"white\", \"plot_bgcolor\": \"#E5ECF6\", \"polar\": {\"angularaxis\": {\"gridcolor\": \"white\", \"linecolor\": \"white\", \"ticks\": \"\"}, \"bgcolor\": \"#E5ECF6\", \"radialaxis\": {\"gridcolor\": \"white\", \"linecolor\": \"white\", \"ticks\": \"\"}}, \"scene\": {\"xaxis\": {\"backgroundcolor\": \"#E5ECF6\", \"gridcolor\": \"white\", \"gridwidth\": 2, \"linecolor\": \"white\", \"showbackground\": true, \"ticks\": \"\", \"zerolinecolor\": \"white\"}, \"yaxis\": {\"backgroundcolor\": \"#E5ECF6\", \"gridcolor\": \"white\", \"gridwidth\": 2, \"linecolor\": \"white\", \"showbackground\": true, \"ticks\": \"\", \"zerolinecolor\": \"white\"}, \"zaxis\": {\"backgroundcolor\": \"#E5ECF6\", \"gridcolor\": \"white\", \"gridwidth\": 2, \"linecolor\": \"white\", \"showbackground\": true, \"ticks\": \"\", \"zerolinecolor\": \"white\"}}, \"shapedefaults\": {\"line\": {\"color\": \"#2a3f5f\"}}, \"ternary\": {\"aaxis\": {\"gridcolor\": \"white\", \"linecolor\": \"white\", \"ticks\": \"\"}, \"baxis\": {\"gridcolor\": \"white\", \"linecolor\": \"white\", \"ticks\": \"\"}, \"bgcolor\": \"#E5ECF6\", \"caxis\": {\"gridcolor\": \"white\", \"linecolor\": \"white\", \"ticks\": \"\"}}, \"title\": {\"x\": 0.05}, \"xaxis\": {\"automargin\": true, \"gridcolor\": \"white\", \"linecolor\": \"white\", \"ticks\": \"\", \"title\": {\"standoff\": 15}, \"zerolinecolor\": \"white\", \"zerolinewidth\": 2}, \"yaxis\": {\"automargin\": true, \"gridcolor\": \"white\", \"linecolor\": \"white\", \"ticks\": \"\", \"title\": {\"standoff\": 15}, \"zerolinecolor\": \"white\", \"zerolinewidth\": 2}}}, \"title\": {\"text\": \"Ev\\u00e9nements qui y ont eu lieu tri\\u00e9s par le nombre de mentions au/en : FR en/le: 201903\"}, \"xaxis\": {\"anchor\": \"y\", \"domain\": [0.0, 1.0], \"title\": {\"text\": \"count\"}}, \"yaxis\": {\"anchor\": \"x\", \"domain\": [0.0, 1.0], \"title\": {\"text\": \"eventid\"}}},\n",
       "                        {\"responsive\": true}\n",
       "                    ).then(function(){\n",
       "                            \n",
       "var gd = document.getElementById('1022e89c-a71f-4d54-9077-f3498f1c2b9e');\n",
       "var x = new MutationObserver(function (mutations, observer) {{\n",
       "        var display = window.getComputedStyle(gd).display;\n",
       "        if (!display || display === 'none') {{\n",
       "            console.log([gd, 'removed!']);\n",
       "            Plotly.purge(gd);\n",
       "            observer.disconnect();\n",
       "        }}\n",
       "}});\n",
       "\n",
       "// Listen for the removal of the full notebook cells\n",
       "var notebookContainer = gd.closest('#notebook-container');\n",
       "if (notebookContainer) {{\n",
       "    x.observe(notebookContainer, {childList: true});\n",
       "}}\n",
       "\n",
       "// Listen for the clearing of the current output cell\n",
       "var outputEl = gd.closest('.output');\n",
       "if (outputEl) {{\n",
       "    x.observe(outputEl, {childList: true});\n",
       "}}\n",
       "\n",
       "                        })\n",
       "                };\n",
       "                });\n",
       "            </script>\n",
       "        </div>"
      ]
     },
     "metadata": {},
     "output_type": "display_data"
    }
   ],
   "source": [
    "date = '201903'\n",
    "a = requete2(country, year= date[:4], monthyear= date[:6])\n",
    "plot_bar_chart_plotly(a, country, date)"
   ]
  },
  {
   "cell_type": "code",
   "execution_count": 147,
   "metadata": {},
   "outputs": [
    {
     "data": {
      "application/vnd.plotly.v1+json": {
       "config": {
        "plotlyServerURL": "https://plot.ly"
       },
       "data": [
        {
         "alignmentgroup": "True",
         "hoverlabel": {
          "namelength": 0
         },
         "hovertemplate": "count=%{text}<br>eventid=%{y}",
         "legendgroup": "",
         "marker": {
          "color": "#636efa"
         },
         "name": "",
         "offsetgroup": "",
         "orientation": "h",
         "showlegend": false,
         "text": [
          2531,
          2357,
          2345,
          2093,
          1989,
          1707,
          1524,
          1426,
          1395,
          1269
         ],
         "textposition": "auto",
         "type": "bar",
         "x": [
          2531,
          2357,
          2345,
          2093,
          1989,
          1707,
          1524,
          1426,
          1395,
          1269
         ],
         "xaxis": "x",
         "y": [
          "¤838627263",
          "¤838626927",
          "¤838451189",
          "¤838626938",
          "¤838626935",
          "¤838626951",
          "¤838410009",
          "¤839176816",
          "¤838626940",
          "¤868098924"
         ],
         "yaxis": "y"
        }
       ],
       "layout": {
        "autosize": true,
        "barmode": "relative",
        "legend": {
         "tracegroupgap": 0
        },
        "template": {
         "data": {
          "bar": [
           {
            "error_x": {
             "color": "#2a3f5f"
            },
            "error_y": {
             "color": "#2a3f5f"
            },
            "marker": {
             "line": {
              "color": "#E5ECF6",
              "width": 0.5
             }
            },
            "type": "bar"
           }
          ],
          "barpolar": [
           {
            "marker": {
             "line": {
              "color": "#E5ECF6",
              "width": 0.5
             }
            },
            "type": "barpolar"
           }
          ],
          "carpet": [
           {
            "aaxis": {
             "endlinecolor": "#2a3f5f",
             "gridcolor": "white",
             "linecolor": "white",
             "minorgridcolor": "white",
             "startlinecolor": "#2a3f5f"
            },
            "baxis": {
             "endlinecolor": "#2a3f5f",
             "gridcolor": "white",
             "linecolor": "white",
             "minorgridcolor": "white",
             "startlinecolor": "#2a3f5f"
            },
            "type": "carpet"
           }
          ],
          "choropleth": [
           {
            "colorbar": {
             "outlinewidth": 0,
             "ticks": ""
            },
            "type": "choropleth"
           }
          ],
          "contour": [
           {
            "colorbar": {
             "outlinewidth": 0,
             "ticks": ""
            },
            "colorscale": [
             [
              0,
              "#0d0887"
             ],
             [
              0.1111111111111111,
              "#46039f"
             ],
             [
              0.2222222222222222,
              "#7201a8"
             ],
             [
              0.3333333333333333,
              "#9c179e"
             ],
             [
              0.4444444444444444,
              "#bd3786"
             ],
             [
              0.5555555555555556,
              "#d8576b"
             ],
             [
              0.6666666666666666,
              "#ed7953"
             ],
             [
              0.7777777777777778,
              "#fb9f3a"
             ],
             [
              0.8888888888888888,
              "#fdca26"
             ],
             [
              1,
              "#f0f921"
             ]
            ],
            "type": "contour"
           }
          ],
          "contourcarpet": [
           {
            "colorbar": {
             "outlinewidth": 0,
             "ticks": ""
            },
            "type": "contourcarpet"
           }
          ],
          "heatmap": [
           {
            "colorbar": {
             "outlinewidth": 0,
             "ticks": ""
            },
            "colorscale": [
             [
              0,
              "#0d0887"
             ],
             [
              0.1111111111111111,
              "#46039f"
             ],
             [
              0.2222222222222222,
              "#7201a8"
             ],
             [
              0.3333333333333333,
              "#9c179e"
             ],
             [
              0.4444444444444444,
              "#bd3786"
             ],
             [
              0.5555555555555556,
              "#d8576b"
             ],
             [
              0.6666666666666666,
              "#ed7953"
             ],
             [
              0.7777777777777778,
              "#fb9f3a"
             ],
             [
              0.8888888888888888,
              "#fdca26"
             ],
             [
              1,
              "#f0f921"
             ]
            ],
            "type": "heatmap"
           }
          ],
          "heatmapgl": [
           {
            "colorbar": {
             "outlinewidth": 0,
             "ticks": ""
            },
            "colorscale": [
             [
              0,
              "#0d0887"
             ],
             [
              0.1111111111111111,
              "#46039f"
             ],
             [
              0.2222222222222222,
              "#7201a8"
             ],
             [
              0.3333333333333333,
              "#9c179e"
             ],
             [
              0.4444444444444444,
              "#bd3786"
             ],
             [
              0.5555555555555556,
              "#d8576b"
             ],
             [
              0.6666666666666666,
              "#ed7953"
             ],
             [
              0.7777777777777778,
              "#fb9f3a"
             ],
             [
              0.8888888888888888,
              "#fdca26"
             ],
             [
              1,
              "#f0f921"
             ]
            ],
            "type": "heatmapgl"
           }
          ],
          "histogram": [
           {
            "marker": {
             "colorbar": {
              "outlinewidth": 0,
              "ticks": ""
             }
            },
            "type": "histogram"
           }
          ],
          "histogram2d": [
           {
            "colorbar": {
             "outlinewidth": 0,
             "ticks": ""
            },
            "colorscale": [
             [
              0,
              "#0d0887"
             ],
             [
              0.1111111111111111,
              "#46039f"
             ],
             [
              0.2222222222222222,
              "#7201a8"
             ],
             [
              0.3333333333333333,
              "#9c179e"
             ],
             [
              0.4444444444444444,
              "#bd3786"
             ],
             [
              0.5555555555555556,
              "#d8576b"
             ],
             [
              0.6666666666666666,
              "#ed7953"
             ],
             [
              0.7777777777777778,
              "#fb9f3a"
             ],
             [
              0.8888888888888888,
              "#fdca26"
             ],
             [
              1,
              "#f0f921"
             ]
            ],
            "type": "histogram2d"
           }
          ],
          "histogram2dcontour": [
           {
            "colorbar": {
             "outlinewidth": 0,
             "ticks": ""
            },
            "colorscale": [
             [
              0,
              "#0d0887"
             ],
             [
              0.1111111111111111,
              "#46039f"
             ],
             [
              0.2222222222222222,
              "#7201a8"
             ],
             [
              0.3333333333333333,
              "#9c179e"
             ],
             [
              0.4444444444444444,
              "#bd3786"
             ],
             [
              0.5555555555555556,
              "#d8576b"
             ],
             [
              0.6666666666666666,
              "#ed7953"
             ],
             [
              0.7777777777777778,
              "#fb9f3a"
             ],
             [
              0.8888888888888888,
              "#fdca26"
             ],
             [
              1,
              "#f0f921"
             ]
            ],
            "type": "histogram2dcontour"
           }
          ],
          "mesh3d": [
           {
            "colorbar": {
             "outlinewidth": 0,
             "ticks": ""
            },
            "type": "mesh3d"
           }
          ],
          "parcoords": [
           {
            "line": {
             "colorbar": {
              "outlinewidth": 0,
              "ticks": ""
             }
            },
            "type": "parcoords"
           }
          ],
          "pie": [
           {
            "automargin": true,
            "type": "pie"
           }
          ],
          "scatter": [
           {
            "marker": {
             "colorbar": {
              "outlinewidth": 0,
              "ticks": ""
             }
            },
            "type": "scatter"
           }
          ],
          "scatter3d": [
           {
            "line": {
             "colorbar": {
              "outlinewidth": 0,
              "ticks": ""
             }
            },
            "marker": {
             "colorbar": {
              "outlinewidth": 0,
              "ticks": ""
             }
            },
            "type": "scatter3d"
           }
          ],
          "scattercarpet": [
           {
            "marker": {
             "colorbar": {
              "outlinewidth": 0,
              "ticks": ""
             }
            },
            "type": "scattercarpet"
           }
          ],
          "scattergeo": [
           {
            "marker": {
             "colorbar": {
              "outlinewidth": 0,
              "ticks": ""
             }
            },
            "type": "scattergeo"
           }
          ],
          "scattergl": [
           {
            "marker": {
             "colorbar": {
              "outlinewidth": 0,
              "ticks": ""
             }
            },
            "type": "scattergl"
           }
          ],
          "scattermapbox": [
           {
            "marker": {
             "colorbar": {
              "outlinewidth": 0,
              "ticks": ""
             }
            },
            "type": "scattermapbox"
           }
          ],
          "scatterpolar": [
           {
            "marker": {
             "colorbar": {
              "outlinewidth": 0,
              "ticks": ""
             }
            },
            "type": "scatterpolar"
           }
          ],
          "scatterpolargl": [
           {
            "marker": {
             "colorbar": {
              "outlinewidth": 0,
              "ticks": ""
             }
            },
            "type": "scatterpolargl"
           }
          ],
          "scatterternary": [
           {
            "marker": {
             "colorbar": {
              "outlinewidth": 0,
              "ticks": ""
             }
            },
            "type": "scatterternary"
           }
          ],
          "surface": [
           {
            "colorbar": {
             "outlinewidth": 0,
             "ticks": ""
            },
            "colorscale": [
             [
              0,
              "#0d0887"
             ],
             [
              0.1111111111111111,
              "#46039f"
             ],
             [
              0.2222222222222222,
              "#7201a8"
             ],
             [
              0.3333333333333333,
              "#9c179e"
             ],
             [
              0.4444444444444444,
              "#bd3786"
             ],
             [
              0.5555555555555556,
              "#d8576b"
             ],
             [
              0.6666666666666666,
              "#ed7953"
             ],
             [
              0.7777777777777778,
              "#fb9f3a"
             ],
             [
              0.8888888888888888,
              "#fdca26"
             ],
             [
              1,
              "#f0f921"
             ]
            ],
            "type": "surface"
           }
          ],
          "table": [
           {
            "cells": {
             "fill": {
              "color": "#EBF0F8"
             },
             "line": {
              "color": "white"
             }
            },
            "header": {
             "fill": {
              "color": "#C8D4E3"
             },
             "line": {
              "color": "white"
             }
            },
            "type": "table"
           }
          ]
         },
         "layout": {
          "annotationdefaults": {
           "arrowcolor": "#2a3f5f",
           "arrowhead": 0,
           "arrowwidth": 1
          },
          "coloraxis": {
           "colorbar": {
            "outlinewidth": 0,
            "ticks": ""
           }
          },
          "colorscale": {
           "diverging": [
            [
             0,
             "#8e0152"
            ],
            [
             0.1,
             "#c51b7d"
            ],
            [
             0.2,
             "#de77ae"
            ],
            [
             0.3,
             "#f1b6da"
            ],
            [
             0.4,
             "#fde0ef"
            ],
            [
             0.5,
             "#f7f7f7"
            ],
            [
             0.6,
             "#e6f5d0"
            ],
            [
             0.7,
             "#b8e186"
            ],
            [
             0.8,
             "#7fbc41"
            ],
            [
             0.9,
             "#4d9221"
            ],
            [
             1,
             "#276419"
            ]
           ],
           "sequential": [
            [
             0,
             "#0d0887"
            ],
            [
             0.1111111111111111,
             "#46039f"
            ],
            [
             0.2222222222222222,
             "#7201a8"
            ],
            [
             0.3333333333333333,
             "#9c179e"
            ],
            [
             0.4444444444444444,
             "#bd3786"
            ],
            [
             0.5555555555555556,
             "#d8576b"
            ],
            [
             0.6666666666666666,
             "#ed7953"
            ],
            [
             0.7777777777777778,
             "#fb9f3a"
            ],
            [
             0.8888888888888888,
             "#fdca26"
            ],
            [
             1,
             "#f0f921"
            ]
           ],
           "sequentialminus": [
            [
             0,
             "#0d0887"
            ],
            [
             0.1111111111111111,
             "#46039f"
            ],
            [
             0.2222222222222222,
             "#7201a8"
            ],
            [
             0.3333333333333333,
             "#9c179e"
            ],
            [
             0.4444444444444444,
             "#bd3786"
            ],
            [
             0.5555555555555556,
             "#d8576b"
            ],
            [
             0.6666666666666666,
             "#ed7953"
            ],
            [
             0.7777777777777778,
             "#fb9f3a"
            ],
            [
             0.8888888888888888,
             "#fdca26"
            ],
            [
             1,
             "#f0f921"
            ]
           ]
          },
          "colorway": [
           "#636efa",
           "#EF553B",
           "#00cc96",
           "#ab63fa",
           "#FFA15A",
           "#19d3f3",
           "#FF6692",
           "#B6E880",
           "#FF97FF",
           "#FECB52"
          ],
          "font": {
           "color": "#2a3f5f"
          },
          "geo": {
           "bgcolor": "white",
           "lakecolor": "white",
           "landcolor": "#E5ECF6",
           "showlakes": true,
           "showland": true,
           "subunitcolor": "white"
          },
          "hoverlabel": {
           "align": "left"
          },
          "hovermode": "closest",
          "mapbox": {
           "style": "light"
          },
          "paper_bgcolor": "white",
          "plot_bgcolor": "#E5ECF6",
          "polar": {
           "angularaxis": {
            "gridcolor": "white",
            "linecolor": "white",
            "ticks": ""
           },
           "bgcolor": "#E5ECF6",
           "radialaxis": {
            "gridcolor": "white",
            "linecolor": "white",
            "ticks": ""
           }
          },
          "scene": {
           "xaxis": {
            "backgroundcolor": "#E5ECF6",
            "gridcolor": "white",
            "gridwidth": 2,
            "linecolor": "white",
            "showbackground": true,
            "ticks": "",
            "zerolinecolor": "white"
           },
           "yaxis": {
            "backgroundcolor": "#E5ECF6",
            "gridcolor": "white",
            "gridwidth": 2,
            "linecolor": "white",
            "showbackground": true,
            "ticks": "",
            "zerolinecolor": "white"
           },
           "zaxis": {
            "backgroundcolor": "#E5ECF6",
            "gridcolor": "white",
            "gridwidth": 2,
            "linecolor": "white",
            "showbackground": true,
            "ticks": "",
            "zerolinecolor": "white"
           }
          },
          "shapedefaults": {
           "line": {
            "color": "#2a3f5f"
           }
          },
          "ternary": {
           "aaxis": {
            "gridcolor": "white",
            "linecolor": "white",
            "ticks": ""
           },
           "baxis": {
            "gridcolor": "white",
            "linecolor": "white",
            "ticks": ""
           },
           "bgcolor": "#E5ECF6",
           "caxis": {
            "gridcolor": "white",
            "linecolor": "white",
            "ticks": ""
           }
          },
          "title": {
           "x": 0.05
          },
          "xaxis": {
           "automargin": true,
           "gridcolor": "white",
           "linecolor": "white",
           "ticks": "",
           "title": {
            "standoff": 15
           },
           "zerolinecolor": "white",
           "zerolinewidth": 2
          },
          "yaxis": {
           "automargin": true,
           "gridcolor": "white",
           "linecolor": "white",
           "ticks": "",
           "title": {
            "standoff": 15
           },
           "zerolinecolor": "white",
           "zerolinewidth": 2
          }
         }
        },
        "title": {
         "text": "Evénements qui y ont eu lieu triés par le nombre de mentions au/en : FR en/le: 2019"
        },
        "xaxis": {
         "anchor": "y",
         "autorange": true,
         "domain": [
          0,
          1
         ],
         "range": [
          0,
          2664.2105263157896
         ],
         "title": {
          "text": "count"
         },
         "type": "linear"
        },
        "yaxis": {
         "anchor": "x",
         "autorange": true,
         "domain": [
          0,
          1
         ],
         "range": [
          -0.5,
          9.5
         ],
         "title": {
          "text": "eventid"
         },
         "type": "category"
        }
       }
      },
      "image/png": "[encoded data removed]",
      "text/html": [
       "<div>\n",
       "        \n",
       "        \n",
       "            <div id=\"20d1eca1-85ab-4997-b895-18e570e9b1e4\" class=\"plotly-graph-div\" style=\"height:525px; width:100%;\"></div>\n",
       "            <script type=\"text/javascript\">\n",
       "                require([\"plotly\"], function(Plotly) {\n",
       "                    window.PLOTLYENV=window.PLOTLYENV || {};\n",
       "                    \n",
       "                if (document.getElementById(\"20d1eca1-85ab-4997-b895-18e570e9b1e4\")) {\n",
       "                    Plotly.newPlot(\n",
       "                        '20d1eca1-85ab-4997-b895-18e570e9b1e4',\n",
       "                        [{\"alignmentgroup\": \"True\", \"hoverlabel\": {\"namelength\": 0}, \"hovertemplate\": \"count=%{text}<br>eventid=%{y}\", \"legendgroup\": \"\", \"marker\": {\"color\": \"#636efa\"}, \"name\": \"\", \"offsetgroup\": \"\", \"orientation\": \"h\", \"showlegend\": false, \"text\": [2531.0, 2357.0, 2345.0, 2093.0, 1989.0, 1707.0, 1524.0, 1426.0, 1395.0, 1269.0], \"textposition\": \"auto\", \"type\": \"bar\", \"x\": [2531, 2357, 2345, 2093, 1989, 1707, 1524, 1426, 1395, 1269], \"xaxis\": \"x\", \"y\": [\"\\u00a4838627263\", \"\\u00a4838626927\", \"\\u00a4838451189\", \"\\u00a4838626938\", \"\\u00a4838626935\", \"\\u00a4838626951\", \"\\u00a4838410009\", \"\\u00a4839176816\", \"\\u00a4838626940\", \"\\u00a4868098924\"], \"yaxis\": \"y\"}],\n",
       "                        {\"barmode\": \"relative\", \"legend\": {\"tracegroupgap\": 0}, \"template\": {\"data\": {\"bar\": [{\"error_x\": {\"color\": \"#2a3f5f\"}, \"error_y\": {\"color\": \"#2a3f5f\"}, \"marker\": {\"line\": {\"color\": \"#E5ECF6\", \"width\": 0.5}}, \"type\": \"bar\"}], \"barpolar\": [{\"marker\": {\"line\": {\"color\": \"#E5ECF6\", \"width\": 0.5}}, \"type\": \"barpolar\"}], \"carpet\": [{\"aaxis\": {\"endlinecolor\": \"#2a3f5f\", \"gridcolor\": \"white\", \"linecolor\": \"white\", \"minorgridcolor\": \"white\", \"startlinecolor\": \"#2a3f5f\"}, \"baxis\": {\"endlinecolor\": \"#2a3f5f\", \"gridcolor\": \"white\", \"linecolor\": \"white\", \"minorgridcolor\": \"white\", \"startlinecolor\": \"#2a3f5f\"}, \"type\": \"carpet\"}], \"choropleth\": [{\"colorbar\": {\"outlinewidth\": 0, \"ticks\": \"\"}, \"type\": \"choropleth\"}], \"contour\": [{\"colorbar\": {\"outlinewidth\": 0, \"ticks\": \"\"}, \"colorscale\": [[0.0, \"#0d0887\"], [0.1111111111111111, \"#46039f\"], [0.2222222222222222, \"#7201a8\"], [0.3333333333333333, \"#9c179e\"], [0.4444444444444444, \"#bd3786\"], [0.5555555555555556, \"#d8576b\"], [0.6666666666666666, \"#ed7953\"], [0.7777777777777778, \"#fb9f3a\"], [0.8888888888888888, \"#fdca26\"], [1.0, \"#f0f921\"]], \"type\": \"contour\"}], \"contourcarpet\": [{\"colorbar\": {\"outlinewidth\": 0, \"ticks\": \"\"}, \"type\": \"contourcarpet\"}], \"heatmap\": [{\"colorbar\": {\"outlinewidth\": 0, \"ticks\": \"\"}, \"colorscale\": [[0.0, \"#0d0887\"], [0.1111111111111111, \"#46039f\"], [0.2222222222222222, \"#7201a8\"], [0.3333333333333333, \"#9c179e\"], [0.4444444444444444, \"#bd3786\"], [0.5555555555555556, \"#d8576b\"], [0.6666666666666666, \"#ed7953\"], [0.7777777777777778, \"#fb9f3a\"], [0.8888888888888888, \"#fdca26\"], [1.0, \"#f0f921\"]], \"type\": \"heatmap\"}], \"heatmapgl\": [{\"colorbar\": {\"outlinewidth\": 0, \"ticks\": \"\"}, \"colorscale\": [[0.0, \"#0d0887\"], [0.1111111111111111, \"#46039f\"], [0.2222222222222222, \"#7201a8\"], [0.3333333333333333, \"#9c179e\"], [0.4444444444444444, \"#bd3786\"], [0.5555555555555556, \"#d8576b\"], [0.6666666666666666, \"#ed7953\"], [0.7777777777777778, \"#fb9f3a\"], [0.8888888888888888, \"#fdca26\"], [1.0, \"#f0f921\"]], \"type\": \"heatmapgl\"}], \"histogram\": [{\"marker\": {\"colorbar\": {\"outlinewidth\": 0, \"ticks\": \"\"}}, \"type\": \"histogram\"}], \"histogram2d\": [{\"colorbar\": {\"outlinewidth\": 0, \"ticks\": \"\"}, \"colorscale\": [[0.0, \"#0d0887\"], [0.1111111111111111, \"#46039f\"], [0.2222222222222222, \"#7201a8\"], [0.3333333333333333, \"#9c179e\"], [0.4444444444444444, \"#bd3786\"], [0.5555555555555556, \"#d8576b\"], [0.6666666666666666, \"#ed7953\"], [0.7777777777777778, \"#fb9f3a\"], [0.8888888888888888, \"#fdca26\"], [1.0, \"#f0f921\"]], \"type\": \"histogram2d\"}], \"histogram2dcontour\": [{\"colorbar\": {\"outlinewidth\": 0, \"ticks\": \"\"}, \"colorscale\": [[0.0, \"#0d0887\"], [0.1111111111111111, \"#46039f\"], [0.2222222222222222, \"#7201a8\"], [0.3333333333333333, \"#9c179e\"], [0.4444444444444444, \"#bd3786\"], [0.5555555555555556, \"#d8576b\"], [0.6666666666666666, \"#ed7953\"], [0.7777777777777778, \"#fb9f3a\"], [0.8888888888888888, \"#fdca26\"], [1.0, \"#f0f921\"]], \"type\": \"histogram2dcontour\"}], \"mesh3d\": [{\"colorbar\": {\"outlinewidth\": 0, \"ticks\": \"\"}, \"type\": \"mesh3d\"}], \"parcoords\": [{\"line\": {\"colorbar\": {\"outlinewidth\": 0, \"ticks\": \"\"}}, \"type\": \"parcoords\"}], \"pie\": [{\"automargin\": true, \"type\": \"pie\"}], \"scatter\": [{\"marker\": {\"colorbar\": {\"outlinewidth\": 0, \"ticks\": \"\"}}, \"type\": \"scatter\"}], \"scatter3d\": [{\"line\": {\"colorbar\": {\"outlinewidth\": 0, \"ticks\": \"\"}}, \"marker\": {\"colorbar\": {\"outlinewidth\": 0, \"ticks\": \"\"}}, \"type\": \"scatter3d\"}], \"scattercarpet\": [{\"marker\": {\"colorbar\": {\"outlinewidth\": 0, \"ticks\": \"\"}}, \"type\": \"scattercarpet\"}], \"scattergeo\": [{\"marker\": {\"colorbar\": {\"outlinewidth\": 0, \"ticks\": \"\"}}, \"type\": \"scattergeo\"}], \"scattergl\": [{\"marker\": {\"colorbar\": {\"outlinewidth\": 0, \"ticks\": \"\"}}, \"type\": \"scattergl\"}], \"scattermapbox\": [{\"marker\": {\"colorbar\": {\"outlinewidth\": 0, \"ticks\": \"\"}}, \"type\": \"scattermapbox\"}], \"scatterpolar\": [{\"marker\": {\"colorbar\": {\"outlinewidth\": 0, \"ticks\": \"\"}}, \"type\": \"scatterpolar\"}], \"scatterpolargl\": [{\"marker\": {\"colorbar\": {\"outlinewidth\": 0, \"ticks\": \"\"}}, \"type\": \"scatterpolargl\"}], \"scatterternary\": [{\"marker\": {\"colorbar\": {\"outlinewidth\": 0, \"ticks\": \"\"}}, \"type\": \"scatterternary\"}], \"surface\": [{\"colorbar\": {\"outlinewidth\": 0, \"ticks\": \"\"}, \"colorscale\": [[0.0, \"#0d0887\"], [0.1111111111111111, \"#46039f\"], [0.2222222222222222, \"#7201a8\"], [0.3333333333333333, \"#9c179e\"], [0.4444444444444444, \"#bd3786\"], [0.5555555555555556, \"#d8576b\"], [0.6666666666666666, \"#ed7953\"], [0.7777777777777778, \"#fb9f3a\"], [0.8888888888888888, \"#fdca26\"], [1.0, \"#f0f921\"]], \"type\": \"surface\"}], \"table\": [{\"cells\": {\"fill\": {\"color\": \"#EBF0F8\"}, \"line\": {\"color\": \"white\"}}, \"header\": {\"fill\": {\"color\": \"#C8D4E3\"}, \"line\": {\"color\": \"white\"}}, \"type\": \"table\"}]}, \"layout\": {\"annotationdefaults\": {\"arrowcolor\": \"#2a3f5f\", \"arrowhead\": 0, \"arrowwidth\": 1}, \"coloraxis\": {\"colorbar\": {\"outlinewidth\": 0, \"ticks\": \"\"}}, \"colorscale\": {\"diverging\": [[0, \"#8e0152\"], [0.1, \"#c51b7d\"], [0.2, \"#de77ae\"], [0.3, \"#f1b6da\"], [0.4, \"#fde0ef\"], [0.5, \"#f7f7f7\"], [0.6, \"#e6f5d0\"], [0.7, \"#b8e186\"], [0.8, \"#7fbc41\"], [0.9, \"#4d9221\"], [1, \"#276419\"]], \"sequential\": [[0.0, \"#0d0887\"], [0.1111111111111111, \"#46039f\"], [0.2222222222222222, \"#7201a8\"], [0.3333333333333333, \"#9c179e\"], [0.4444444444444444, \"#bd3786\"], [0.5555555555555556, \"#d8576b\"], [0.6666666666666666, \"#ed7953\"], [0.7777777777777778, \"#fb9f3a\"], [0.8888888888888888, \"#fdca26\"], [1.0, \"#f0f921\"]], \"sequentialminus\": [[0.0, \"#0d0887\"], [0.1111111111111111, \"#46039f\"], [0.2222222222222222, \"#7201a8\"], [0.3333333333333333, \"#9c179e\"], [0.4444444444444444, \"#bd3786\"], [0.5555555555555556, \"#d8576b\"], [0.6666666666666666, \"#ed7953\"], [0.7777777777777778, \"#fb9f3a\"], [0.8888888888888888, \"#fdca26\"], [1.0, \"#f0f921\"]]}, \"colorway\": [\"#636efa\", \"#EF553B\", \"#00cc96\", \"#ab63fa\", \"#FFA15A\", \"#19d3f3\", \"#FF6692\", \"#B6E880\", \"#FF97FF\", \"#FECB52\"], \"font\": {\"color\": \"#2a3f5f\"}, \"geo\": {\"bgcolor\": \"white\", \"lakecolor\": \"white\", \"landcolor\": \"#E5ECF6\", \"showlakes\": true, \"showland\": true, \"subunitcolor\": \"white\"}, \"hoverlabel\": {\"align\": \"left\"}, \"hovermode\": \"closest\", \"mapbox\": {\"style\": \"light\"}, \"paper_bgcolor\": \"white\", \"plot_bgcolor\": \"#E5ECF6\", \"polar\": {\"angularaxis\": {\"gridcolor\": \"white\", \"linecolor\": \"white\", \"ticks\": \"\"}, \"bgcolor\": \"#E5ECF6\", \"radialaxis\": {\"gridcolor\": \"white\", \"linecolor\": \"white\", \"ticks\": \"\"}}, \"scene\": {\"xaxis\": {\"backgroundcolor\": \"#E5ECF6\", \"gridcolor\": \"white\", \"gridwidth\": 2, \"linecolor\": \"white\", \"showbackground\": true, \"ticks\": \"\", \"zerolinecolor\": \"white\"}, \"yaxis\": {\"backgroundcolor\": \"#E5ECF6\", \"gridcolor\": \"white\", \"gridwidth\": 2, \"linecolor\": \"white\", \"showbackground\": true, \"ticks\": \"\", \"zerolinecolor\": \"white\"}, \"zaxis\": {\"backgroundcolor\": \"#E5ECF6\", \"gridcolor\": \"white\", \"gridwidth\": 2, \"linecolor\": \"white\", \"showbackground\": true, \"ticks\": \"\", \"zerolinecolor\": \"white\"}}, \"shapedefaults\": {\"line\": {\"color\": \"#2a3f5f\"}}, \"ternary\": {\"aaxis\": {\"gridcolor\": \"white\", \"linecolor\": \"white\", \"ticks\": \"\"}, \"baxis\": {\"gridcolor\": \"white\", \"linecolor\": \"white\", \"ticks\": \"\"}, \"bgcolor\": \"#E5ECF6\", \"caxis\": {\"gridcolor\": \"white\", \"linecolor\": \"white\", \"ticks\": \"\"}}, \"title\": {\"x\": 0.05}, \"xaxis\": {\"automargin\": true, \"gridcolor\": \"white\", \"linecolor\": \"white\", \"ticks\": \"\", \"title\": {\"standoff\": 15}, \"zerolinecolor\": \"white\", \"zerolinewidth\": 2}, \"yaxis\": {\"automargin\": true, \"gridcolor\": \"white\", \"linecolor\": \"white\", \"ticks\": \"\", \"title\": {\"standoff\": 15}, \"zerolinecolor\": \"white\", \"zerolinewidth\": 2}}}, \"title\": {\"text\": \"Ev\\u00e9nements qui y ont eu lieu tri\\u00e9s par le nombre de mentions au/en : FR en/le: 2019\"}, \"xaxis\": {\"anchor\": \"y\", \"domain\": [0.0, 1.0], \"title\": {\"text\": \"count\"}}, \"yaxis\": {\"anchor\": \"x\", \"domain\": [0.0, 1.0], \"title\": {\"text\": \"eventid\"}}},\n",
       "                        {\"responsive\": true}\n",
       "                    ).then(function(){\n",
       "                            \n",
       "var gd = document.getElementById('20d1eca1-85ab-4997-b895-18e570e9b1e4');\n",
       "var x = new MutationObserver(function (mutations, observer) {{\n",
       "        var display = window.getComputedStyle(gd).display;\n",
       "        if (!display || display === 'none') {{\n",
       "            console.log([gd, 'removed!']);\n",
       "            Plotly.purge(gd);\n",
       "            observer.disconnect();\n",
       "        }}\n",
       "}});\n",
       "\n",
       "// Listen for the removal of the full notebook cells\n",
       "var notebookContainer = gd.closest('#notebook-container');\n",
       "if (notebookContainer) {{\n",
       "    x.observe(notebookContainer, {childList: true});\n",
       "}}\n",
       "\n",
       "// Listen for the clearing of the current output cell\n",
       "var outputEl = gd.closest('.output');\n",
       "if (outputEl) {{\n",
       "    x.observe(outputEl, {childList: true});\n",
       "}}\n",
       "\n",
       "                        })\n",
       "                };\n",
       "                });\n",
       "            </script>\n",
       "        </div>"
      ]
     },
     "metadata": {},
     "output_type": "display_data"
    }
   ],
   "source": [
    "date = '2019'\n",
    "a = requete2('FR', year= '2019')\n",
    "plot_bar_chart_plotly(a, country, date)"
   ]
  },
  {
   "cell_type": "code",
   "execution_count": 137,
   "metadata": {},
   "outputs": [
    {
     "data": {
      "application/vnd.plotly.v1+json": {
       "config": {
        "plotlyServerURL": "https://plot.ly"
       },
       "data": [
        {
         "alignmentgroup": "True",
         "hoverlabel": {
          "namelength": 0
         },
         "hovertemplate": "count=%{text}<br>eventid=%{y}",
         "legendgroup": "",
         "marker": {
          "color": "#636efa"
         },
         "name": "",
         "offsetgroup": "",
         "orientation": "h",
         "showlegend": false,
         "text": [
          470,
          383,
          371,
          370,
          282,
          249,
          234,
          224,
          212,
          210
         ],
         "textposition": "auto",
         "type": "bar",
         "x": [
          470,
          383,
          371,
          370,
          282,
          249,
          234,
          224,
          212,
          210
         ],
         "xaxis": "x",
         "y": [
          "¤815705415",
          "¤815701396",
          "¤815762731",
          "¤815784649",
          "¤813954329",
          "¤815696263",
          "¤814122720",
          "¤815786009",
          "¤815792440",
          "¤815446417"
         ],
         "yaxis": "y"
        }
       ],
       "layout": {
        "autosize": true,
        "barmode": "relative",
        "legend": {
         "tracegroupgap": 0
        },
        "template": {
         "data": {
          "bar": [
           {
            "error_x": {
             "color": "#2a3f5f"
            },
            "error_y": {
             "color": "#2a3f5f"
            },
            "marker": {
             "line": {
              "color": "#E5ECF6",
              "width": 0.5
             }
            },
            "type": "bar"
           }
          ],
          "barpolar": [
           {
            "marker": {
             "line": {
              "color": "#E5ECF6",
              "width": 0.5
             }
            },
            "type": "barpolar"
           }
          ],
          "carpet": [
           {
            "aaxis": {
             "endlinecolor": "#2a3f5f",
             "gridcolor": "white",
             "linecolor": "white",
             "minorgridcolor": "white",
             "startlinecolor": "#2a3f5f"
            },
            "baxis": {
             "endlinecolor": "#2a3f5f",
             "gridcolor": "white",
             "linecolor": "white",
             "minorgridcolor": "white",
             "startlinecolor": "#2a3f5f"
            },
            "type": "carpet"
           }
          ],
          "choropleth": [
           {
            "colorbar": {
             "outlinewidth": 0,
             "ticks": ""
            },
            "type": "choropleth"
           }
          ],
          "contour": [
           {
            "colorbar": {
             "outlinewidth": 0,
             "ticks": ""
            },
            "colorscale": [
             [
              0,
              "#0d0887"
             ],
             [
              0.1111111111111111,
              "#46039f"
             ],
             [
              0.2222222222222222,
              "#7201a8"
             ],
             [
              0.3333333333333333,
              "#9c179e"
             ],
             [
              0.4444444444444444,
              "#bd3786"
             ],
             [
              0.5555555555555556,
              "#d8576b"
             ],
             [
              0.6666666666666666,
              "#ed7953"
             ],
             [
              0.7777777777777778,
              "#fb9f3a"
             ],
             [
              0.8888888888888888,
              "#fdca26"
             ],
             [
              1,
              "#f0f921"
             ]
            ],
            "type": "contour"
           }
          ],
          "contourcarpet": [
           {
            "colorbar": {
             "outlinewidth": 0,
             "ticks": ""
            },
            "type": "contourcarpet"
           }
          ],
          "heatmap": [
           {
            "colorbar": {
             "outlinewidth": 0,
             "ticks": ""
            },
            "colorscale": [
             [
              0,
              "#0d0887"
             ],
             [
              0.1111111111111111,
              "#46039f"
             ],
             [
              0.2222222222222222,
              "#7201a8"
             ],
             [
              0.3333333333333333,
              "#9c179e"
             ],
             [
              0.4444444444444444,
              "#bd3786"
             ],
             [
              0.5555555555555556,
              "#d8576b"
             ],
             [
              0.6666666666666666,
              "#ed7953"
             ],
             [
              0.7777777777777778,
              "#fb9f3a"
             ],
             [
              0.8888888888888888,
              "#fdca26"
             ],
             [
              1,
              "#f0f921"
             ]
            ],
            "type": "heatmap"
           }
          ],
          "heatmapgl": [
           {
            "colorbar": {
             "outlinewidth": 0,
             "ticks": ""
            },
            "colorscale": [
             [
              0,
              "#0d0887"
             ],
             [
              0.1111111111111111,
              "#46039f"
             ],
             [
              0.2222222222222222,
              "#7201a8"
             ],
             [
              0.3333333333333333,
              "#9c179e"
             ],
             [
              0.4444444444444444,
              "#bd3786"
             ],
             [
              0.5555555555555556,
              "#d8576b"
             ],
             [
              0.6666666666666666,
              "#ed7953"
             ],
             [
              0.7777777777777778,
              "#fb9f3a"
             ],
             [
              0.8888888888888888,
              "#fdca26"
             ],
             [
              1,
              "#f0f921"
             ]
            ],
            "type": "heatmapgl"
           }
          ],
          "histogram": [
           {
            "marker": {
             "colorbar": {
              "outlinewidth": 0,
              "ticks": ""
             }
            },
            "type": "histogram"
           }
          ],
          "histogram2d": [
           {
            "colorbar": {
             "outlinewidth": 0,
             "ticks": ""
            },
            "colorscale": [
             [
              0,
              "#0d0887"
             ],
             [
              0.1111111111111111,
              "#46039f"
             ],
             [
              0.2222222222222222,
              "#7201a8"
             ],
             [
              0.3333333333333333,
              "#9c179e"
             ],
             [
              0.4444444444444444,
              "#bd3786"
             ],
             [
              0.5555555555555556,
              "#d8576b"
             ],
             [
              0.6666666666666666,
              "#ed7953"
             ],
             [
              0.7777777777777778,
              "#fb9f3a"
             ],
             [
              0.8888888888888888,
              "#fdca26"
             ],
             [
              1,
              "#f0f921"
             ]
            ],
            "type": "histogram2d"
           }
          ],
          "histogram2dcontour": [
           {
            "colorbar": {
             "outlinewidth": 0,
             "ticks": ""
            },
            "colorscale": [
             [
              0,
              "#0d0887"
             ],
             [
              0.1111111111111111,
              "#46039f"
             ],
             [
              0.2222222222222222,
              "#7201a8"
             ],
             [
              0.3333333333333333,
              "#9c179e"
             ],
             [
              0.4444444444444444,
              "#bd3786"
             ],
             [
              0.5555555555555556,
              "#d8576b"
             ],
             [
              0.6666666666666666,
              "#ed7953"
             ],
             [
              0.7777777777777778,
              "#fb9f3a"
             ],
             [
              0.8888888888888888,
              "#fdca26"
             ],
             [
              1,
              "#f0f921"
             ]
            ],
            "type": "histogram2dcontour"
           }
          ],
          "mesh3d": [
           {
            "colorbar": {
             "outlinewidth": 0,
             "ticks": ""
            },
            "type": "mesh3d"
           }
          ],
          "parcoords": [
           {
            "line": {
             "colorbar": {
              "outlinewidth": 0,
              "ticks": ""
             }
            },
            "type": "parcoords"
           }
          ],
          "pie": [
           {
            "automargin": true,
            "type": "pie"
           }
          ],
          "scatter": [
           {
            "marker": {
             "colorbar": {
              "outlinewidth": 0,
              "ticks": ""
             }
            },
            "type": "scatter"
           }
          ],
          "scatter3d": [
           {
            "line": {
             "colorbar": {
              "outlinewidth": 0,
              "ticks": ""
             }
            },
            "marker": {
             "colorbar": {
              "outlinewidth": 0,
              "ticks": ""
             }
            },
            "type": "scatter3d"
           }
          ],
          "scattercarpet": [
           {
            "marker": {
             "colorbar": {
              "outlinewidth": 0,
              "ticks": ""
             }
            },
            "type": "scattercarpet"
           }
          ],
          "scattergeo": [
           {
            "marker": {
             "colorbar": {
              "outlinewidth": 0,
              "ticks": ""
             }
            },
            "type": "scattergeo"
           }
          ],
          "scattergl": [
           {
            "marker": {
             "colorbar": {
              "outlinewidth": 0,
              "ticks": ""
             }
            },
            "type": "scattergl"
           }
          ],
          "scattermapbox": [
           {
            "marker": {
             "colorbar": {
              "outlinewidth": 0,
              "ticks": ""
             }
            },
            "type": "scattermapbox"
           }
          ],
          "scatterpolar": [
           {
            "marker": {
             "colorbar": {
              "outlinewidth": 0,
              "ticks": ""
             }
            },
            "type": "scatterpolar"
           }
          ],
          "scatterpolargl": [
           {
            "marker": {
             "colorbar": {
              "outlinewidth": 0,
              "ticks": ""
             }
            },
            "type": "scatterpolargl"
           }
          ],
          "scatterternary": [
           {
            "marker": {
             "colorbar": {
              "outlinewidth": 0,
              "ticks": ""
             }
            },
            "type": "scatterternary"
           }
          ],
          "surface": [
           {
            "colorbar": {
             "outlinewidth": 0,
             "ticks": ""
            },
            "colorscale": [
             [
              0,
              "#0d0887"
             ],
             [
              0.1111111111111111,
              "#46039f"
             ],
             [
              0.2222222222222222,
              "#7201a8"
             ],
             [
              0.3333333333333333,
              "#9c179e"
             ],
             [
              0.4444444444444444,
              "#bd3786"
             ],
             [
              0.5555555555555556,
              "#d8576b"
             ],
             [
              0.6666666666666666,
              "#ed7953"
             ],
             [
              0.7777777777777778,
              "#fb9f3a"
             ],
             [
              0.8888888888888888,
              "#fdca26"
             ],
             [
              1,
              "#f0f921"
             ]
            ],
            "type": "surface"
           }
          ],
          "table": [
           {
            "cells": {
             "fill": {
              "color": "#EBF0F8"
             },
             "line": {
              "color": "white"
             }
            },
            "header": {
             "fill": {
              "color": "#C8D4E3"
             },
             "line": {
              "color": "white"
             }
            },
            "type": "table"
           }
          ]
         },
         "layout": {
          "annotationdefaults": {
           "arrowcolor": "#2a3f5f",
           "arrowhead": 0,
           "arrowwidth": 1
          },
          "coloraxis": {
           "colorbar": {
            "outlinewidth": 0,
            "ticks": ""
           }
          },
          "colorscale": {
           "diverging": [
            [
             0,
             "#8e0152"
            ],
            [
             0.1,
             "#c51b7d"
            ],
            [
             0.2,
             "#de77ae"
            ],
            [
             0.3,
             "#f1b6da"
            ],
            [
             0.4,
             "#fde0ef"
            ],
            [
             0.5,
             "#f7f7f7"
            ],
            [
             0.6,
             "#e6f5d0"
            ],
            [
             0.7,
             "#b8e186"
            ],
            [
             0.8,
             "#7fbc41"
            ],
            [
             0.9,
             "#4d9221"
            ],
            [
             1,
             "#276419"
            ]
           ],
           "sequential": [
            [
             0,
             "#0d0887"
            ],
            [
             0.1111111111111111,
             "#46039f"
            ],
            [
             0.2222222222222222,
             "#7201a8"
            ],
            [
             0.3333333333333333,
             "#9c179e"
            ],
            [
             0.4444444444444444,
             "#bd3786"
            ],
            [
             0.5555555555555556,
             "#d8576b"
            ],
            [
             0.6666666666666666,
             "#ed7953"
            ],
            [
             0.7777777777777778,
             "#fb9f3a"
            ],
            [
             0.8888888888888888,
             "#fdca26"
            ],
            [
             1,
             "#f0f921"
            ]
           ],
           "sequentialminus": [
            [
             0,
             "#0d0887"
            ],
            [
             0.1111111111111111,
             "#46039f"
            ],
            [
             0.2222222222222222,
             "#7201a8"
            ],
            [
             0.3333333333333333,
             "#9c179e"
            ],
            [
             0.4444444444444444,
             "#bd3786"
            ],
            [
             0.5555555555555556,
             "#d8576b"
            ],
            [
             0.6666666666666666,
             "#ed7953"
            ],
            [
             0.7777777777777778,
             "#fb9f3a"
            ],
            [
             0.8888888888888888,
             "#fdca26"
            ],
            [
             1,
             "#f0f921"
            ]
           ]
          },
          "colorway": [
           "#636efa",
           "#EF553B",
           "#00cc96",
           "#ab63fa",
           "#FFA15A",
           "#19d3f3",
           "#FF6692",
           "#B6E880",
           "#FF97FF",
           "#FECB52"
          ],
          "font": {
           "color": "#2a3f5f"
          },
          "geo": {
           "bgcolor": "white",
           "lakecolor": "white",
           "landcolor": "#E5ECF6",
           "showlakes": true,
           "showland": true,
           "subunitcolor": "white"
          },
          "hoverlabel": {
           "align": "left"
          },
          "hovermode": "closest",
          "mapbox": {
           "style": "light"
          },
          "paper_bgcolor": "white",
          "plot_bgcolor": "#E5ECF6",
          "polar": {
           "angularaxis": {
            "gridcolor": "white",
            "linecolor": "white",
            "ticks": ""
           },
           "bgcolor": "#E5ECF6",
           "radialaxis": {
            "gridcolor": "white",
            "linecolor": "white",
            "ticks": ""
           }
          },
          "scene": {
           "xaxis": {
            "backgroundcolor": "#E5ECF6",
            "gridcolor": "white",
            "gridwidth": 2,
            "linecolor": "white",
            "showbackground": true,
            "ticks": "",
            "zerolinecolor": "white"
           },
           "yaxis": {
            "backgroundcolor": "#E5ECF6",
            "gridcolor": "white",
            "gridwidth": 2,
            "linecolor": "white",
            "showbackground": true,
            "ticks": "",
            "zerolinecolor": "white"
           },
           "zaxis": {
            "backgroundcolor": "#E5ECF6",
            "gridcolor": "white",
            "gridwidth": 2,
            "linecolor": "white",
            "showbackground": true,
            "ticks": "",
            "zerolinecolor": "white"
           }
          },
          "shapedefaults": {
           "line": {
            "color": "#2a3f5f"
           }
          },
          "ternary": {
           "aaxis": {
            "gridcolor": "white",
            "linecolor": "white",
            "ticks": ""
           },
           "baxis": {
            "gridcolor": "white",
            "linecolor": "white",
            "ticks": ""
           },
           "bgcolor": "#E5ECF6",
           "caxis": {
            "gridcolor": "white",
            "linecolor": "white",
            "ticks": ""
           }
          },
          "title": {
           "x": 0.05
          },
          "xaxis": {
           "automargin": true,
           "gridcolor": "white",
           "linecolor": "white",
           "ticks": "",
           "title": {
            "standoff": 15
           },
           "zerolinecolor": "white",
           "zerolinewidth": 2
          },
          "yaxis": {
           "automargin": true,
           "gridcolor": "white",
           "linecolor": "white",
           "ticks": "",
           "title": {
            "standoff": 15
           },
           "zerolinecolor": "white",
           "zerolinewidth": 2
          }
         }
        },
        "title": {
         "text": "Evénements qui y ont eu lieu triés par le nombre de mentions au/en : FR en/le: 2019"
        },
        "xaxis": {
         "anchor": "y",
         "autorange": true,
         "domain": [
          0,
          1
         ],
         "range": [
          0,
          494.7368421052632
         ],
         "title": {
          "text": "count"
         },
         "type": "linear"
        },
        "yaxis": {
         "anchor": "x",
         "autorange": true,
         "domain": [
          0,
          1
         ],
         "range": [
          -0.5,
          9.5
         ],
         "title": {
          "text": "eventid"
         },
         "type": "category"
        }
       }
      },
      "image/png": "[encoded data removed]",
      "text/html": [
       "<div>\n",
       "        \n",
       "        \n",
       "            <div id=\"d1368684-dd1a-412d-96af-0229a5a45fcb\" class=\"plotly-graph-div\" style=\"height:525px; width:100%;\"></div>\n",
       "            <script type=\"text/javascript\">\n",
       "                require([\"plotly\"], function(Plotly) {\n",
       "                    window.PLOTLYENV=window.PLOTLYENV || {};\n",
       "                    \n",
       "                if (document.getElementById(\"d1368684-dd1a-412d-96af-0229a5a45fcb\")) {\n",
       "                    Plotly.newPlot(\n",
       "                        'd1368684-dd1a-412d-96af-0229a5a45fcb',\n",
       "                        [{\"alignmentgroup\": \"True\", \"hoverlabel\": {\"namelength\": 0}, \"hovertemplate\": \"count=%{text}<br>eventid=%{y}\", \"legendgroup\": \"\", \"marker\": {\"color\": \"#636efa\"}, \"name\": \"\", \"offsetgroup\": \"\", \"orientation\": \"h\", \"showlegend\": false, \"text\": [470.0, 383.0, 371.0, 370.0, 282.0, 249.0, 234.0, 224.0, 212.0, 210.0], \"textposition\": \"auto\", \"type\": \"bar\", \"x\": [470, 383, 371, 370, 282, 249, 234, 224, 212, 210], \"xaxis\": \"x\", \"y\": [\"\\u00a4815705415\", \"\\u00a4815701396\", \"\\u00a4815762731\", \"\\u00a4815784649\", \"\\u00a4813954329\", \"\\u00a4815696263\", \"\\u00a4814122720\", \"\\u00a4815786009\", \"\\u00a4815792440\", \"\\u00a4815446417\"], \"yaxis\": \"y\"}],\n",
       "                        {\"barmode\": \"relative\", \"legend\": {\"tracegroupgap\": 0}, \"template\": {\"data\": {\"bar\": [{\"error_x\": {\"color\": \"#2a3f5f\"}, \"error_y\": {\"color\": \"#2a3f5f\"}, \"marker\": {\"line\": {\"color\": \"#E5ECF6\", \"width\": 0.5}}, \"type\": \"bar\"}], \"barpolar\": [{\"marker\": {\"line\": {\"color\": \"#E5ECF6\", \"width\": 0.5}}, \"type\": \"barpolar\"}], \"carpet\": [{\"aaxis\": {\"endlinecolor\": \"#2a3f5f\", \"gridcolor\": \"white\", \"linecolor\": \"white\", \"minorgridcolor\": \"white\", \"startlinecolor\": \"#2a3f5f\"}, \"baxis\": {\"endlinecolor\": \"#2a3f5f\", \"gridcolor\": \"white\", \"linecolor\": \"white\", \"minorgridcolor\": \"white\", \"startlinecolor\": \"#2a3f5f\"}, \"type\": \"carpet\"}], \"choropleth\": [{\"colorbar\": {\"outlinewidth\": 0, \"ticks\": \"\"}, \"type\": \"choropleth\"}], \"contour\": [{\"colorbar\": {\"outlinewidth\": 0, \"ticks\": \"\"}, \"colorscale\": [[0.0, \"#0d0887\"], [0.1111111111111111, \"#46039f\"], [0.2222222222222222, \"#7201a8\"], [0.3333333333333333, \"#9c179e\"], [0.4444444444444444, \"#bd3786\"], [0.5555555555555556, \"#d8576b\"], [0.6666666666666666, \"#ed7953\"], [0.7777777777777778, \"#fb9f3a\"], [0.8888888888888888, \"#fdca26\"], [1.0, \"#f0f921\"]], \"type\": \"contour\"}], \"contourcarpet\": [{\"colorbar\": {\"outlinewidth\": 0, \"ticks\": \"\"}, \"type\": \"contourcarpet\"}], \"heatmap\": [{\"colorbar\": {\"outlinewidth\": 0, \"ticks\": \"\"}, \"colorscale\": [[0.0, \"#0d0887\"], [0.1111111111111111, \"#46039f\"], [0.2222222222222222, \"#7201a8\"], [0.3333333333333333, \"#9c179e\"], [0.4444444444444444, \"#bd3786\"], [0.5555555555555556, \"#d8576b\"], [0.6666666666666666, \"#ed7953\"], [0.7777777777777778, \"#fb9f3a\"], [0.8888888888888888, \"#fdca26\"], [1.0, \"#f0f921\"]], \"type\": \"heatmap\"}], \"heatmapgl\": [{\"colorbar\": {\"outlinewidth\": 0, \"ticks\": \"\"}, \"colorscale\": [[0.0, \"#0d0887\"], [0.1111111111111111, \"#46039f\"], [0.2222222222222222, \"#7201a8\"], [0.3333333333333333, \"#9c179e\"], [0.4444444444444444, \"#bd3786\"], [0.5555555555555556, \"#d8576b\"], [0.6666666666666666, \"#ed7953\"], [0.7777777777777778, \"#fb9f3a\"], [0.8888888888888888, \"#fdca26\"], [1.0, \"#f0f921\"]], \"type\": \"heatmapgl\"}], \"histogram\": [{\"marker\": {\"colorbar\": {\"outlinewidth\": 0, \"ticks\": \"\"}}, \"type\": \"histogram\"}], \"histogram2d\": [{\"colorbar\": {\"outlinewidth\": 0, \"ticks\": \"\"}, \"colorscale\": [[0.0, \"#0d0887\"], [0.1111111111111111, \"#46039f\"], [0.2222222222222222, \"#7201a8\"], [0.3333333333333333, \"#9c179e\"], [0.4444444444444444, \"#bd3786\"], [0.5555555555555556, \"#d8576b\"], [0.6666666666666666, \"#ed7953\"], [0.7777777777777778, \"#fb9f3a\"], [0.8888888888888888, \"#fdca26\"], [1.0, \"#f0f921\"]], \"type\": \"histogram2d\"}], \"histogram2dcontour\": [{\"colorbar\": {\"outlinewidth\": 0, \"ticks\": \"\"}, \"colorscale\": [[0.0, \"#0d0887\"], [0.1111111111111111, \"#46039f\"], [0.2222222222222222, \"#7201a8\"], [0.3333333333333333, \"#9c179e\"], [0.4444444444444444, \"#bd3786\"], [0.5555555555555556, \"#d8576b\"], [0.6666666666666666, \"#ed7953\"], [0.7777777777777778, \"#fb9f3a\"], [0.8888888888888888, \"#fdca26\"], [1.0, \"#f0f921\"]], \"type\": \"histogram2dcontour\"}], \"mesh3d\": [{\"colorbar\": {\"outlinewidth\": 0, \"ticks\": \"\"}, \"type\": \"mesh3d\"}], \"parcoords\": [{\"line\": {\"colorbar\": {\"outlinewidth\": 0, \"ticks\": \"\"}}, \"type\": \"parcoords\"}], \"pie\": [{\"automargin\": true, \"type\": \"pie\"}], \"scatter\": [{\"marker\": {\"colorbar\": {\"outlinewidth\": 0, \"ticks\": \"\"}}, \"type\": \"scatter\"}], \"scatter3d\": [{\"line\": {\"colorbar\": {\"outlinewidth\": 0, \"ticks\": \"\"}}, \"marker\": {\"colorbar\": {\"outlinewidth\": 0, \"ticks\": \"\"}}, \"type\": \"scatter3d\"}], \"scattercarpet\": [{\"marker\": {\"colorbar\": {\"outlinewidth\": 0, \"ticks\": \"\"}}, \"type\": \"scattercarpet\"}], \"scattergeo\": [{\"marker\": {\"colorbar\": {\"outlinewidth\": 0, \"ticks\": \"\"}}, \"type\": \"scattergeo\"}], \"scattergl\": [{\"marker\": {\"colorbar\": {\"outlinewidth\": 0, \"ticks\": \"\"}}, \"type\": \"scattergl\"}], \"scattermapbox\": [{\"marker\": {\"colorbar\": {\"outlinewidth\": 0, \"ticks\": \"\"}}, \"type\": \"scattermapbox\"}], \"scatterpolar\": [{\"marker\": {\"colorbar\": {\"outlinewidth\": 0, \"ticks\": \"\"}}, \"type\": \"scatterpolar\"}], \"scatterpolargl\": [{\"marker\": {\"colorbar\": {\"outlinewidth\": 0, \"ticks\": \"\"}}, \"type\": \"scatterpolargl\"}], \"scatterternary\": [{\"marker\": {\"colorbar\": {\"outlinewidth\": 0, \"ticks\": \"\"}}, \"type\": \"scatterternary\"}], \"surface\": [{\"colorbar\": {\"outlinewidth\": 0, \"ticks\": \"\"}, \"colorscale\": [[0.0, \"#0d0887\"], [0.1111111111111111, \"#46039f\"], [0.2222222222222222, \"#7201a8\"], [0.3333333333333333, \"#9c179e\"], [0.4444444444444444, \"#bd3786\"], [0.5555555555555556, \"#d8576b\"], [0.6666666666666666, \"#ed7953\"], [0.7777777777777778, \"#fb9f3a\"], [0.8888888888888888, \"#fdca26\"], [1.0, \"#f0f921\"]], \"type\": \"surface\"}], \"table\": [{\"cells\": {\"fill\": {\"color\": \"#EBF0F8\"}, \"line\": {\"color\": \"white\"}}, \"header\": {\"fill\": {\"color\": \"#C8D4E3\"}, \"line\": {\"color\": \"white\"}}, \"type\": \"table\"}]}, \"layout\": {\"annotationdefaults\": {\"arrowcolor\": \"#2a3f5f\", \"arrowhead\": 0, \"arrowwidth\": 1}, \"coloraxis\": {\"colorbar\": {\"outlinewidth\": 0, \"ticks\": \"\"}}, \"colorscale\": {\"diverging\": [[0, \"#8e0152\"], [0.1, \"#c51b7d\"], [0.2, \"#de77ae\"], [0.3, \"#f1b6da\"], [0.4, \"#fde0ef\"], [0.5, \"#f7f7f7\"], [0.6, \"#e6f5d0\"], [0.7, \"#b8e186\"], [0.8, \"#7fbc41\"], [0.9, \"#4d9221\"], [1, \"#276419\"]], \"sequential\": [[0.0, \"#0d0887\"], [0.1111111111111111, \"#46039f\"], [0.2222222222222222, \"#7201a8\"], [0.3333333333333333, \"#9c179e\"], [0.4444444444444444, \"#bd3786\"], [0.5555555555555556, \"#d8576b\"], [0.6666666666666666, \"#ed7953\"], [0.7777777777777778, \"#fb9f3a\"], [0.8888888888888888, \"#fdca26\"], [1.0, \"#f0f921\"]], \"sequentialminus\": [[0.0, \"#0d0887\"], [0.1111111111111111, \"#46039f\"], [0.2222222222222222, \"#7201a8\"], [0.3333333333333333, \"#9c179e\"], [0.4444444444444444, \"#bd3786\"], [0.5555555555555556, \"#d8576b\"], [0.6666666666666666, \"#ed7953\"], [0.7777777777777778, \"#fb9f3a\"], [0.8888888888888888, \"#fdca26\"], [1.0, \"#f0f921\"]]}, \"colorway\": [\"#636efa\", \"#EF553B\", \"#00cc96\", \"#ab63fa\", \"#FFA15A\", \"#19d3f3\", \"#FF6692\", \"#B6E880\", \"#FF97FF\", \"#FECB52\"], \"font\": {\"color\": \"#2a3f5f\"}, \"geo\": {\"bgcolor\": \"white\", \"lakecolor\": \"white\", \"landcolor\": \"#E5ECF6\", \"showlakes\": true, \"showland\": true, \"subunitcolor\": \"white\"}, \"hoverlabel\": {\"align\": \"left\"}, \"hovermode\": \"closest\", \"mapbox\": {\"style\": \"light\"}, \"paper_bgcolor\": \"white\", \"plot_bgcolor\": \"#E5ECF6\", \"polar\": {\"angularaxis\": {\"gridcolor\": \"white\", \"linecolor\": \"white\", \"ticks\": \"\"}, \"bgcolor\": \"#E5ECF6\", \"radialaxis\": {\"gridcolor\": \"white\", \"linecolor\": \"white\", \"ticks\": \"\"}}, \"scene\": {\"xaxis\": {\"backgroundcolor\": \"#E5ECF6\", \"gridcolor\": \"white\", \"gridwidth\": 2, \"linecolor\": \"white\", \"showbackground\": true, \"ticks\": \"\", \"zerolinecolor\": \"white\"}, \"yaxis\": {\"backgroundcolor\": \"#E5ECF6\", \"gridcolor\": \"white\", \"gridwidth\": 2, \"linecolor\": \"white\", \"showbackground\": true, \"ticks\": \"\", \"zerolinecolor\": \"white\"}, \"zaxis\": {\"backgroundcolor\": \"#E5ECF6\", \"gridcolor\": \"white\", \"gridwidth\": 2, \"linecolor\": \"white\", \"showbackground\": true, \"ticks\": \"\", \"zerolinecolor\": \"white\"}}, \"shapedefaults\": {\"line\": {\"color\": \"#2a3f5f\"}}, \"ternary\": {\"aaxis\": {\"gridcolor\": \"white\", \"linecolor\": \"white\", \"ticks\": \"\"}, \"baxis\": {\"gridcolor\": \"white\", \"linecolor\": \"white\", \"ticks\": \"\"}, \"bgcolor\": \"#E5ECF6\", \"caxis\": {\"gridcolor\": \"white\", \"linecolor\": \"white\", \"ticks\": \"\"}}, \"title\": {\"x\": 0.05}, \"xaxis\": {\"automargin\": true, \"gridcolor\": \"white\", \"linecolor\": \"white\", \"ticks\": \"\", \"title\": {\"standoff\": 15}, \"zerolinecolor\": \"white\", \"zerolinewidth\": 2}, \"yaxis\": {\"automargin\": true, \"gridcolor\": \"white\", \"linecolor\": \"white\", \"ticks\": \"\", \"title\": {\"standoff\": 15}, \"zerolinecolor\": \"white\", \"zerolinewidth\": 2}}}, \"title\": {\"text\": \"Ev\\u00e9nements qui y ont eu lieu tri\\u00e9s par le nombre de mentions au/en : FR en/le: 2019\"}, \"xaxis\": {\"anchor\": \"y\", \"domain\": [0.0, 1.0], \"title\": {\"text\": \"count\"}}, \"yaxis\": {\"anchor\": \"x\", \"domain\": [0.0, 1.0], \"title\": {\"text\": \"eventid\"}}},\n",
       "                        {\"responsive\": true}\n",
       "                    ).then(function(){\n",
       "                            \n",
       "var gd = document.getElementById('d1368684-dd1a-412d-96af-0229a5a45fcb');\n",
       "var x = new MutationObserver(function (mutations, observer) {{\n",
       "        var display = window.getComputedStyle(gd).display;\n",
       "        if (!display || display === 'none') {{\n",
       "            console.log([gd, 'removed!']);\n",
       "            Plotly.purge(gd);\n",
       "            observer.disconnect();\n",
       "        }}\n",
       "}});\n",
       "\n",
       "// Listen for the removal of the full notebook cells\n",
       "var notebookContainer = gd.closest('#notebook-container');\n",
       "if (notebookContainer) {{\n",
       "    x.observe(notebookContainer, {childList: true});\n",
       "}}\n",
       "\n",
       "// Listen for the clearing of the current output cell\n",
       "var outputEl = gd.closest('.output');\n",
       "if (outputEl) {{\n",
       "    x.observe(outputEl, {childList: true});\n",
       "}}\n",
       "\n",
       "                        })\n",
       "                };\n",
       "                });\n",
       "            </script>\n",
       "        </div>"
      ]
     },
     "metadata": {},
     "output_type": "display_data"
    }
   ],
   "source": [
    "# Requête 2 sur 1 période entre date_debut et date_fin\n",
    "b = requete2(pays = country, year=2019, monthyear=201901, date_debut= '20190103', date_fin = '20190118')\n",
    "plot_bar_chart_plotly(b, country, date)"
   ]
  },
  {
   "cell_type": "markdown",
   "metadata": {},
   "source": [
    "### Requete 4"
   ]
  },
  {
   "cell_type": "code",
   "execution_count": 121,
   "metadata": {},
   "outputs": [
    {
     "data": {
      "text/html": [
       "        <script type=\"text/javascript\">\n",
       "        window.PlotlyConfig = {MathJaxConfig: 'local'};\n",
       "        if (window.MathJax) {MathJax.Hub.Config({SVG: {font: \"STIX-Web\"}});}\n",
       "        if (typeof require !== 'undefined') {\n",
       "        require.undef(\"plotly\");\n",
       "        requirejs.config({\n",
       "            paths: {\n",
       "                'plotly': ['https://cdn.plot.ly/plotly-latest.min']\n",
       "            }\n",
       "        });\n",
       "        require(['plotly'], function(Plotly) {\n",
       "            window._Plotly = Plotly;\n",
       "        });\n",
       "        }\n",
       "        </script>\n",
       "        "
      ]
     },
     "metadata": {},
     "output_type": "display_data"
    }
   ],
   "source": [
    "\n",
    "import plotly.graph_objs as go\n",
    "from plotly.offline import download_plotlyjs, init_notebook_mode, plot, iplot\n",
    "import plotly.offline as py\n",
    "import country_converter as coco\n",
    "init_notebook_mode(connected=True)"
   ]
  },
  {
   "cell_type": "code",
   "execution_count": 122,
   "metadata": {},
   "outputs": [
    {
     "data": {
      "text/plain": [
       "<bound method NDFrame.head of   pays1  year  monthyear       day pays2  averagetone  numberofarticles\n",
       "0    JE  2019     201912  20191231    FR    -4.000000                 1\n",
       "1    JE  2019     201912  20191231    JE    -4.777778                55\n",
       "2    JE  2019     201912  20191231    KN     0.000000                 1\n",
       "3    JE  2019     201912  20191231    US    -4.750000                12\n",
       "4    JE  2019     201912  20191230    CA    -4.000000                 8\n",
       "5    JE  2019     201912  20191230    EI     3.000000                 2\n",
       "6    JE  2019     201912  20191230    FR    -4.000000                 1\n",
       "7    JE  2019     201912  20191230    GK    -2.000000                 4\n",
       "8    JE  2019     201912  20191230    IS   -12.000000                 2\n",
       "9    JE  2019     201912  20191230    JE    -5.423729               100>"
      ]
     },
     "execution_count": 122,
     "metadata": {},
     "output_type": "execute_result"
    }
   ],
   "source": [
    "def pandas_factory(colnames, rows):\n",
    "    return pd.DataFrame(rows, columns=colnames)\n",
    "session.row_factory = pandas_factory\n",
    "session.default_fetch_size = None\n",
    "\n",
    "query = \"SELECT * from req41 limit 10\"\n",
    "rslt = session.execute(query, timeout=None)\n",
    "df = rslt._current_rows\n",
    "df.head"
   ]
  },
  {
   "cell_type": "code",
   "execution_count": 148,
   "metadata": {},
   "outputs": [],
   "source": [
    "def requete4(country=\"UK\", year=None, monthyear=None, day=None):\n",
    "    if(day is not None):\n",
    "        query = \"SELECT * FROM req41 WHERE pays1='\" + country + \"' AND year=\" +str(year) + \" AND monthyear=\" + str(monthyear) + \" AND day\" + str(day)\n",
    "        rslt = session.execute(query, timeout=None)\n",
    "        df = rslt._current_rows\n",
    "    elif(year is not None and monthyear is not None):\n",
    "        query = \"SELECT * FROM req41 WHERE pays1='\" + country + \"' AND year=\" +str(year) + \" AND monthyear=\" + str(monthyear) \n",
    "        rslt = session.execute(query, timeout=None)\n",
    "        df = rslt._current_rows\n",
    "        df = df.groupby([\"pays1\", \"pays2\",\"year\", \"monthyear\"]).agg({\"averagetone\": \"sum\", \"numberofarticles\": \"sum\"}).reset_index()\n",
    "    elif(year is not None):\n",
    "        query = \"SELECT * FROM req41 WHERE pays1='\" + country + \"' AND year=\" +str(year) \n",
    "        rslt = session.execute(query, timeout=None)\n",
    "        df = rslt._current_rows\n",
    "        df = df.groupby([\"pays1\", \"pays2\", \"year\"]).agg({\"averagetone\": \"sum\", \"numberofarticles\": \"sum\"}).reset_index()\n",
    "    else:\n",
    "        query = \"SELECT * FROM req41 WHERE pays1='\" + country +\"'\"\n",
    "        rslt = session.execute(query, timeout=None)\n",
    "        df = rslt._current_rows\n",
    "        df = df.groupby([\"pays1\", \"pays2\"]).agg({\"averagetone\": \"sum\", \"numberofarticles\": \"sum\"}).reset_index()\n",
    "    df['avgtone'] =df['averagetone']/df['numberofarticles']\n",
    "    df = df.drop(['averagetone'], axis=1)\n",
    "    df['country_code_iso3'] = coco.convert(names=df['pays2'].values.tolist(), to='ISO3', not_found=None)\n",
    "    df['country_name'] = coco.convert(names=df['pays2'].values.tolist(), to='name_short', not_found=None)\n",
    "    \n",
    "    \n",
    "    return df"
   ]
  },
  {
   "cell_type": "code",
   "execution_count": 150,
   "metadata": {},
   "outputs": [
    {
     "name": "stderr",
     "output_type": "stream",
     "text": [
      "WARNING:root:AA not found in ISO2\n",
      "WARNING:root:AC not found in ISO2\n",
      "WARNING:root:AJ not found in ISO2\n",
      "WARNING:root:AN not found in ISO2\n",
      "WARNING:root:AV not found in ISO2\n",
      "WARNING:root:AY not found in ISO2\n",
      "WARNING:root:BC not found in ISO2\n",
      "WARNING:root:BK not found in ISO2\n",
      "WARNING:root:BP not found in ISO2\n",
      "WARNING:root:BU not found in ISO2\n",
      "WARNING:root:BX not found in ISO2\n",
      "WARNING:root:CB not found in ISO2\n",
      "WARNING:root:CE not found in ISO2\n",
      "WARNING:root:CJ not found in ISO2\n",
      "WARNING:root:CS not found in ISO2\n",
      "WARNING:root:CT not found in ISO2\n",
      "WARNING:root:DA not found in ISO2\n",
      "WARNING:root:DR not found in ISO2\n",
      "WARNING:root:EI not found in ISO2\n",
      "WARNING:root:EK not found in ISO2\n",
      "WARNING:root:EN not found in ISO2\n",
      "WARNING:root:EZ not found in ISO2\n",
      "WARNING:root:FG not found in ISO2\n",
      "WARNING:root:FP not found in ISO2\n",
      "WARNING:root:FQ not found in ISO2\n",
      "WARNING:root:GJ not found in ISO2\n",
      "WARNING:root:GK not found in ISO2\n",
      "WARNING:root:GV not found in ISO2\n",
      "WARNING:root:GZ not found in ISO2\n",
      "WARNING:root:HA not found in ISO2\n",
      "WARNING:root:HO not found in ISO2\n",
      "WARNING:root:HQ not found in ISO2\n",
      "WARNING:root:IC not found in ISO2\n",
      "WARNING:root:IV not found in ISO2\n",
      "WARNING:root:IZ not found in ISO2\n",
      "WARNING:root:JA not found in ISO2\n",
      "WARNING:root:KS not found in ISO2\n",
      "WARNING:root:KT not found in ISO2\n",
      "WARNING:root:KU not found in ISO2\n",
      "WARNING:root:KV not found in ISO2\n",
      "WARNING:root:LE not found in ISO2\n",
      "WARNING:root:LG not found in ISO2\n",
      "WARNING:root:LH not found in ISO2\n",
      "WARNING:root:LO not found in ISO2\n",
      "WARNING:root:MB not found in ISO2\n",
      "WARNING:root:MI not found in ISO2\n",
      "WARNING:root:MJ not found in ISO2\n",
      "WARNING:root:NH not found in ISO2\n",
      "WARNING:root:NS not found in ISO2\n",
      "WARNING:root:NT not found in ISO2\n",
      "WARNING:root:OC not found in ISO2\n",
      "WARNING:root:OD not found in ISO2\n",
      "WARNING:root:OS not found in ISO2\n",
      "WARNING:root:PC not found in ISO2\n",
      "WARNING:root:PO not found in ISO2\n",
      "WARNING:root:PP not found in ISO2\n",
      "WARNING:root:PU not found in ISO2\n",
      "WARNING:root:RB not found in ISO2\n",
      "WARNING:root:RI not found in ISO2\n",
      "WARNING:root:RM not found in ISO2\n",
      "WARNING:root:RN not found in ISO2\n",
      "WARNING:root:RP not found in ISO2\n",
      "WARNING:root:RQ not found in ISO2\n",
      "WARNING:root:SF not found in ISO2\n",
      "WARNING:root:SP not found in ISO2\n",
      "WARNING:root:SU not found in ISO2\n",
      "WARNING:root:SW not found in ISO2\n",
      "WARNING:root:TI not found in ISO2\n",
      "WARNING:root:TP not found in ISO2\n",
      "WARNING:root:TS not found in ISO2\n",
      "WARNING:root:TU not found in ISO2\n",
      "WARNING:root:TX not found in ISO2\n",
      "WARNING:root:UK not found in ISO2\n",
      "WARNING:root:UP not found in ISO2\n",
      "WARNING:root:UV not found in ISO2\n",
      "WARNING:root:VM not found in ISO2\n",
      "WARNING:root:VQ not found in ISO2\n",
      "WARNING:root:VT not found in ISO2\n",
      "WARNING:root:WA not found in ISO2\n",
      "WARNING:root:WE not found in ISO2\n",
      "WARNING:root:WI not found in ISO2\n",
      "WARNING:root:WZ not found in ISO2\n",
      "WARNING:root:YI not found in ISO2\n",
      "WARNING:root:YM not found in ISO2\n",
      "WARNING:root:ZI not found in ISO2\n",
      "WARNING:root:AA not found in ISO2\n",
      "WARNING:root:AC not found in ISO2\n",
      "WARNING:root:AJ not found in ISO2\n",
      "WARNING:root:AN not found in ISO2\n",
      "WARNING:root:AV not found in ISO2\n",
      "WARNING:root:AY not found in ISO2\n",
      "WARNING:root:BC not found in ISO2\n",
      "WARNING:root:BK not found in ISO2\n",
      "WARNING:root:BP not found in ISO2\n",
      "WARNING:root:BU not found in ISO2\n",
      "WARNING:root:BX not found in ISO2\n",
      "WARNING:root:CB not found in ISO2\n",
      "WARNING:root:CE not found in ISO2\n",
      "WARNING:root:CJ not found in ISO2\n",
      "WARNING:root:CS not found in ISO2\n",
      "WARNING:root:CT not found in ISO2\n",
      "WARNING:root:DA not found in ISO2\n",
      "WARNING:root:DR not found in ISO2\n",
      "WARNING:root:EI not found in ISO2\n",
      "WARNING:root:EK not found in ISO2\n",
      "WARNING:root:EN not found in ISO2\n",
      "WARNING:root:EZ not found in ISO2\n",
      "WARNING:root:FG not found in ISO2\n",
      "WARNING:root:FP not found in ISO2\n",
      "WARNING:root:FQ not found in ISO2\n",
      "WARNING:root:GJ not found in ISO2\n",
      "WARNING:root:GK not found in ISO2\n",
      "WARNING:root:GV not found in ISO2\n",
      "WARNING:root:GZ not found in ISO2\n",
      "WARNING:root:HA not found in ISO2\n",
      "WARNING:root:HO not found in ISO2\n",
      "WARNING:root:HQ not found in ISO2\n",
      "WARNING:root:IC not found in ISO2\n",
      "WARNING:root:IV not found in ISO2\n",
      "WARNING:root:IZ not found in ISO2\n",
      "WARNING:root:JA not found in ISO2\n",
      "WARNING:root:KS not found in ISO2\n",
      "WARNING:root:KT not found in ISO2\n",
      "WARNING:root:KU not found in ISO2\n",
      "WARNING:root:KV not found in ISO2\n",
      "WARNING:root:LE not found in ISO2\n",
      "WARNING:root:LG not found in ISO2\n",
      "WARNING:root:LH not found in ISO2\n",
      "WARNING:root:LO not found in ISO2\n",
      "WARNING:root:MB not found in ISO2\n",
      "WARNING:root:MI not found in ISO2\n",
      "WARNING:root:MJ not found in ISO2\n",
      "WARNING:root:NH not found in ISO2\n",
      "WARNING:root:NS not found in ISO2\n",
      "WARNING:root:NT not found in ISO2\n",
      "WARNING:root:OC not found in ISO2\n",
      "WARNING:root:OD not found in ISO2\n",
      "WARNING:root:OS not found in ISO2\n",
      "WARNING:root:PC not found in ISO2\n",
      "WARNING:root:PO not found in ISO2\n",
      "WARNING:root:PP not found in ISO2\n",
      "WARNING:root:PU not found in ISO2\n",
      "WARNING:root:RB not found in ISO2\n",
      "WARNING:root:RI not found in ISO2\n",
      "WARNING:root:RM not found in ISO2\n",
      "WARNING:root:RN not found in ISO2\n",
      "WARNING:root:RP not found in ISO2\n",
      "WARNING:root:RQ not found in ISO2\n",
      "WARNING:root:SF not found in ISO2\n",
      "WARNING:root:SP not found in ISO2\n",
      "WARNING:root:SU not found in ISO2\n",
      "WARNING:root:SW not found in ISO2\n",
      "WARNING:root:TI not found in ISO2\n",
      "WARNING:root:TP not found in ISO2\n",
      "WARNING:root:TS not found in ISO2\n",
      "WARNING:root:TU not found in ISO2\n",
      "WARNING:root:TX not found in ISO2\n",
      "WARNING:root:UK not found in ISO2\n",
      "WARNING:root:UP not found in ISO2\n",
      "WARNING:root:UV not found in ISO2\n",
      "WARNING:root:VM not found in ISO2\n",
      "WARNING:root:VQ not found in ISO2\n",
      "WARNING:root:VT not found in ISO2\n",
      "WARNING:root:WA not found in ISO2\n",
      "WARNING:root:WE not found in ISO2\n",
      "WARNING:root:WI not found in ISO2\n",
      "WARNING:root:WZ not found in ISO2\n",
      "WARNING:root:YI not found in ISO2\n",
      "WARNING:root:YM not found in ISO2\n",
      "WARNING:root:ZI not found in ISO2\n"
     ]
    }
   ],
   "source": [
    "df = requete4(\"UK\", \"2019\")\n",
    "df_use = df[df.pays1 != df.country_code_iso3]"
   ]
  },
  {
   "cell_type": "code",
   "execution_count": 151,
   "metadata": {},
   "outputs": [],
   "source": [
    "def map_choropleth(df, title):\n",
    "    return go.Choropleth(\n",
    "        locations=df['country_code_iso3'], # Spatial coordinates\n",
    "        z = df['value'].astype(float), # Data to be color-coded\n",
    "        colorscale = 'Hot',\n",
    "        reversescale=True,\n",
    "        autocolorscale=False,\n",
    "        text=df['country_name'] ,\n",
    "        marker = go.choropleth.Marker(\n",
    "        line = go.choropleth.marker.Line(\n",
    "        color = 'rgb(180,180,180)',\n",
    "        width = 0.5)),\n",
    "       # colorbar_title = \"Value\",\n",
    ")"
   ]
  },
  {
   "cell_type": "code",
   "execution_count": 152,
   "metadata": {},
   "outputs": [
    {
     "data": {
      "application/vnd.plotly.v1+json": {
       "config": {
        "linkText": "Export to plot.ly",
        "plotlyServerURL": "https://plot.ly",
        "showLink": false
       },
       "data": [
        {
         "autocolorscale": false,
         "colorscale": [
          [
           0,
           "rgb(0, 0, 0)"
          ],
          [
           0.3333333333333333,
           "rgb(230,0,0)"
          ],
          [
           0.6666666666666666,
           "rgb(255,210,0)"
          ],
          [
           1,
           "rgb(255,255,255)"
          ]
         ],
         "locations": [
          "AA",
          "AC",
          "ARE",
          "AFG",
          "ATG",
          "AJ",
          "ALB",
          "ARM",
          "AN",
          "AGO",
          "ATA",
          "ARG",
          "ASM",
          "AUS",
          "AV",
          "AY",
          "BIH",
          "BRB",
          "BC",
          "BGD",
          "BEL",
          "BFA",
          "BGR",
          "BHR",
          "BK",
          "BLM",
          "BMU",
          "BRN",
          "BOL",
          "BP",
          "BRA",
          "BTN",
          "BU",
          "BX",
          "BLR",
          "CAN",
          "CB",
          "COD",
          "CE",
          "CAF",
          "COG",
          "CHE",
          "CIV",
          "CJ",
          "CMR",
          "CHN",
          "COL",
          "CS",
          "CT",
          "CUB",
          "CPV",
          "CUW",
          "CYP",
          "DA",
          "DJI",
          "DOM",
          "DR",
          "ECU",
          "EGY",
          "EI",
          "EK",
          "EN",
          "ERI",
          "ESP",
          "ETH",
          "EZ",
          "FG",
          "FIN",
          "FJI",
          "FLK",
          "FSM",
          "FRO",
          "FP",
          "FQ",
          "FRA",
          "GAB",
          "GBR",
          "GGY",
          "GHA",
          "GIB",
          "GJ",
          "GK",
          "GRL",
          "GMB",
          "GLP",
          "GNQ",
          "GRC",
          "GTM",
          "GV",
          "GUY",
          "GZ",
          "HA",
          "HKG",
          "HO",
          "HQ",
          "HRV",
          "HUN",
          "IC",
          "IDN",
          "IND",
          "IOT",
          "IRN",
          "ISL",
          "ITA",
          "IV",
          "IZ",
          "JA",
          "JEY",
          "JAM",
          "JOR",
          "KEN",
          "KGZ",
          "KNA",
          "KOR",
          "KS",
          "KT",
          "KU",
          "KV",
          "KAZ",
          "LAO",
          "LE",
          "LG",
          "LH",
          "LIE",
          "LO",
          "LSO",
          "LTU",
          "LUX",
          "LBY",
          "MAR",
          "MB",
          "MCO",
          "MDA",
          "MDG",
          "MHL",
          "MI",
          "MJ",
          "MKD",
          "MLI",
          "MNG",
          "MAC",
          "MNP",
          "MRT",
          "MLT",
          "MUS",
          "MDV",
          "MEX",
          "MYS",
          "MOZ",
          "NCL",
          "NER",
          "NFK",
          "NGA",
          "NH",
          "NIC",
          "NLD",
          "NOR",
          "NPL",
          "NRU",
          "NS",
          "NT",
          "NIU",
          "NZL",
          "OC",
          "OD",
          "OS",
          "PAN",
          "PC",
          "PER",
          "PYF",
          "PNG",
          "PAK",
          "POL",
          "SPM",
          "PO",
          "PP",
          "PSE",
          "PU",
          "QAT",
          "RB",
          "REU",
          "RI",
          "RM",
          "RN",
          "ROU",
          "RP",
          "RQ",
          "SRB",
          "RWA",
          "SAU",
          "SYC",
          "SWE",
          "SF",
          "SGP",
          "SHN",
          "SVN",
          "SLE",
          "SMR",
          "SEN",
          "SOM",
          "SP",
          "STP",
          "SU",
          "SLV",
          "SW",
          "SYR",
          "SWZ",
          "TCD",
          "THA",
          "TI",
          "TKL",
          "TUN",
          "TON",
          "TP",
          "TS",
          "TTO",
          "TU",
          "TUV",
          "TWN",
          "TX",
          "TZA",
          "UGA",
          "UP",
          "USA",
          "UV",
          "URY",
          "UZB",
          "VCT",
          "VEN",
          "VIR",
          "VM",
          "VQ",
          "VT",
          "WA",
          "WE",
          "WI",
          "WSM",
          "WZ",
          "YI",
          "YM",
          "ZAF",
          "ZI"
         ],
         "marker": {
          "line": {
           "color": "rgb(180,180,180)",
           "width": 0.5
          }
         },
         "reversescale": true,
         "text": [
          "AA",
          "AC",
          "United Arab Emirates",
          "Afghanistan",
          "Antigua and Barbuda",
          "AJ",
          "Albania",
          "Armenia",
          "AN",
          "Angola",
          "Antarctica",
          "Argentina",
          "American Samoa",
          "Australia",
          "AV",
          "AY",
          "Bosnia and Herzegovina",
          "Barbados",
          "BC",
          "Bangladesh",
          "Belgium",
          "Burkina Faso",
          "Bulgaria",
          "Bahrain",
          "BK",
          "St. Barths",
          "Bermuda",
          "Brunei Darussalam",
          "Bolivia",
          "BP",
          "Brazil",
          "Bhutan",
          "BU",
          "BX",
          "Belarus",
          "Canada",
          "CB",
          "DR Congo",
          "CE",
          "Central African Republic",
          "Congo Republic",
          "Switzerland",
          "Cote d'Ivoire",
          "CJ",
          "Cameroon",
          "China",
          "Colombia",
          "CS",
          "CT",
          "Cuba",
          "Cabo Verde",
          "Curacao",
          "Cyprus",
          "DA",
          "Djibouti",
          "Dominican Republic",
          "DR",
          "Ecuador",
          "Egypt",
          "EI",
          "EK",
          "EN",
          "Eritrea",
          "Spain",
          "Ethiopia",
          "EZ",
          "FG",
          "Finland",
          "Fiji",
          "Falkland Islands",
          "Micronesia, Fed. Sts.",
          "Faeroe Islands",
          "FP",
          "FQ",
          "France",
          "Gabon",
          "United Kingdom",
          "Guernsey",
          "Ghana",
          "Gibraltar",
          "GJ",
          "GK",
          "Greenland",
          "Gambia",
          "Guadeloupe",
          "Equatorial Guinea",
          "Greece",
          "Guatemala",
          "GV",
          "Guyana",
          "GZ",
          "HA",
          "Hong Kong",
          "HO",
          "HQ",
          "Croatia",
          "Hungary",
          "IC",
          "Indonesia",
          "India",
          "British Indian Ocean Territory",
          "Iran",
          "Iceland",
          "Italy",
          "IV",
          "IZ",
          "JA",
          "Jersey",
          "Jamaica",
          "Jordan",
          "Kenya",
          "Kyrgyz Republic",
          "St. Kitts and Nevis",
          "South Korea",
          "KS",
          "KT",
          "KU",
          "KV",
          "Kazakhstan",
          "Laos",
          "LE",
          "LG",
          "LH",
          "Liechtenstein",
          "LO",
          "Lesotho",
          "Lithuania",
          "Luxembourg",
          "Libya",
          "Morocco",
          "MB",
          "Monaco",
          "Moldova",
          "Madagascar",
          "Marshall Islands",
          "MI",
          "MJ",
          "Macedonia",
          "Mali",
          "Mongolia",
          "Macao",
          "Northern Mariana Islands",
          "Mauritania",
          "Malta",
          "Mauritius",
          "Maldives",
          "Mexico",
          "Malaysia",
          "Mozambique",
          "New Caledonia",
          "Niger",
          "Norfolk Island",
          "Nigeria",
          "NH",
          "Nicaragua",
          "Netherlands",
          "Norway",
          "Nepal",
          "Nauru",
          "NS",
          "NT",
          "Niue",
          "New Zealand",
          "OC",
          "OD",
          "OS",
          "Panama",
          "PC",
          "Peru",
          "French Polynesia",
          "Papua New Guinea",
          "Pakistan",
          "Poland",
          "St. Pierre and Miquelon",
          "PO",
          "PP",
          "Palestine",
          "PU",
          "Qatar",
          "RB",
          "Reunion",
          "RI",
          "RM",
          "RN",
          "Romania",
          "RP",
          "RQ",
          "Serbia",
          "Rwanda",
          "Saudi Arabia",
          "Seychelles",
          "Sweden",
          "SF",
          "Singapore",
          "St. Helena",
          "Slovenia",
          "Sierra Leone",
          "San Marino",
          "Senegal",
          "Somalia",
          "SP",
          "Sao Tome and Principe",
          "SU",
          "El Salvador",
          "SW",
          "Syria",
          "Eswatini",
          "Chad",
          "Thailand",
          "TI",
          "Tokelau",
          "Tunisia",
          "Tonga",
          "TP",
          "TS",
          "Trinidad and Tobago",
          "TU",
          "Tuvalu",
          "Taiwan",
          "TX",
          "Tanzania",
          "Uganda",
          "UP",
          "United States",
          "UV",
          "Uruguay",
          "Uzbekistan",
          "St. Vincent and the Grenadines",
          "Venezuela",
          "United States Virgin Islands",
          "VM",
          "VQ",
          "VT",
          "WA",
          "WE",
          "WI",
          "Samoa",
          "WZ",
          "YI",
          "YM",
          "South Africa",
          "ZI"
         ],
         "type": "choropleth",
         "visible": true,
         "z": [
          -0.4444444444444444,
          -0.8149809347898468,
          -0.07854597284108732,
          -0.1837451106623916,
          -0.8207829344639743,
          0.10785748675255709,
          -0.6576242143626264,
          -0.0480292469711232,
          -0.17857142857142858,
          0.1077944565227706,
          0,
          -0.13293337476950168,
          -0.023094403148232353,
          -0.14968450107299078,
          -1.064095926145364,
          0.40846994519233704,
          -0.08264509000484344,
          0.006925669320231402,
          0.15837017608694284,
          -0.3470317480856912,
          -0.011720355261166191,
          -0.03798534478430995,
          -0.09814209685122924,
          -0.15339758052601485,
          -1.054914533174955,
          -0.6659109398762174,
          -0.7272518321064383,
          -0.040707207504424546,
          -0.14151387048999692,
          0.11354047865455882,
          -0.06140467779103311,
          0.09023354558428381,
          -0.1371843710211071,
          -0.24638274502899749,
          -1.058235292925554,
          -0.01419245869693014,
          -0.0781846930880162,
          -0.6047120418848168,
          -0.11357052319135041,
          -0.6740525194783314,
          -1.5659282700421941,
          -0.03351350169926641,
          -0.04153279723103987,
          0.10589608907595198,
          -0.8123777700030099,
          -0.7142857142857143,
          -0.43732754234652427,
          -0.03479575229187806,
          -1.3678160864731361,
          -0.030312495866412402,
          -1.200000001673113,
          0.12612612183029587,
          -0.10665476290887882,
          -0.13624749726710633,
          -0.08923189391333848,
          -0.2278061203506528,
          -0.3736613628788245,
          -0.08340338304336485,
          -0.04657799476009117,
          -0.005838508230827453,
          -2.340909090909091,
          -0.04501411343004503,
          -0.7572215768972389,
          -0.19463869575020318,
          -0.18335326622094628,
          -0.11582216226144443,
          -0.1625,
          -0.08622208122920799,
          0.21053603554188383,
          -0.5318181839856234,
          -1.4444444444444444,
          0.5086852439544486,
          -0.32,
          1,
          -0.009056353899852657,
          -0.2653002687229598,
          -1.0611398958171587,
          -0.3264664449135165,
          -0.027212808619871794,
          -0.07790655013168916,
          -0.019591211631524982,
          0.07610489013200347,
          -0.22339500545182686,
          -0.013835965086634835,
          -0.8480392156862745,
          -0.15350811561841643,
          -0.05491220248006811,
          -0.3757922822382392,
          -0.04998175590887837,
          -0.016946438245572414,
          -1.8572278067208172,
          -0.9749114526943727,
          -0.1701950113354894,
          -0.5643031594762764,
          1,
          -0.11026471802512258,
          -0.08037389148626214,
          -0.023008689471256775,
          -0.2667868546563167,
          -0.03869314534236799,
          -0.20451998250871978,
          -0.01788784189638089,
          -0.0398020735178874,
          -0.02563104954156063,
          -0.8361356912461002,
          -0.1392933775757424,
          -0.024979359328944142,
          -0.5019379309435122,
          -0.11616631963907574,
          -0.024011606529166483,
          -0.0875320803522566,
          0.20771604975064595,
          -0.2693421464813797,
          -0.031068982671222416,
          -0.003488775691727471,
          -0.7,
          -0.021254453410919385,
          -0.3005034996657282,
          -0.012497124256119615,
          0.18076922867324327,
          -0.14846016661447967,
          -0.2625924859229209,
          -0.22714050924925283,
          -0.5475994540210685,
          -0.6657894740006487,
          -0.15172414121956662,
          1.1358405557545748,
          -0.03580748438047288,
          -0.22114589011756314,
          -0.10221607984254187,
          -0.9333333293808267,
          -1.2944444499232552,
          -0.21813602183058328,
          -0.16063906997442245,
          -0.1285714294229235,
          -0.00579856984209855,
          -0.6524081103248741,
          -0.032539275982032816,
          -0.4336912643810934,
          1.4282886492905962,
          0.09863389238092712,
          -0.054416801080084856,
          -0.38225290054032784,
          -0.3009301178255212,
          0.028083900832660182,
          0.055292447232095684,
          -0.07077334838129307,
          -0.07915381002477952,
          -0.5382581493857556,
          -0.45454545454545453,
          -2,
          0,
          -0.5707237209592547,
          -1.8616666666666666,
          -0.034276049452809335,
          -0.04508252766715767,
          -0.042869101051815836,
          -0.08526803147473871,
          -0.6,
          -1.9059139778537135,
          -0.8333333333333334,
          -0.05018074880983379,
          -0.03677059060271655,
          -0.2602453101248968,
          -0.5840441248412477,
          -0.4753208106774822,
          -0.6816666666004393,
          1.5,
          -0.4358468785718504,
          -1.4615384615384615,
          -2,
          -0.031698489144586714,
          -0.0906000739631967,
          -1.0020177950993159,
          -0.07720951179446454,
          -0.9401449676205857,
          -0.45454545454545453,
          0.9,
          -0.1086216402414533,
          -0.9061971381306648,
          0.3235294117647059,
          -0.17255949181681998,
          -0.7814207624216549,
          2,
          -0.15366732018118934,
          -0.21120371026627877,
          -0.5261159386064695,
          -0.02087145372595204,
          -0.3162824953509414,
          -0.04547214309164362,
          0.6268115924752277,
          -0.24836972762565107,
          -0.021424089183249107,
          -0.06135672226362109,
          0.4375,
          -0.29009353655173364,
          0.08476851938839781,
          -1.1428571428571428,
          -0.028558903449351938,
          -0.2594237360163875,
          -0.04058104971644861,
          0.34775132224673316,
          -0.19686488690191875,
          -0.06666666666666667,
          -0.05229239128637625,
          -0.045868021762177004,
          -0.05832374390160334,
          -0.11492088052297109,
          -0.22412408428962396,
          0.04849498457334512,
          2.75,
          0.6065400856959668,
          -0.29097222220717056,
          0,
          -0.3128599317025479,
          -1.9166666666666667,
          -0.05522194850143898,
          0.6203174608945846,
          -0.3631959418267343,
          0.18676026545775434,
          -0.7023444323463642,
          -0.37986175578700593,
          -0.06262363036536969,
          -0.004344714856003308,
          -0.5017684887843117,
          -0.5373300670152641,
          -0.33894180790979134,
          0.3617021276595745,
          -0.14755613178897847,
          -0.5472527493487348,
          -0.057784046442088,
          -0.5108695652173914,
          -1.2384336436460466,
          -0.007555554111798604,
          0.1869935120180312,
          -1.0789473684210527,
          -0.2362743633896557,
          0.7382352948188782,
          -1.0909090909090908,
          -0.20516277552576148,
          -0.2879012873180319,
          -0.16257585257596963
         ]
        },
        {
         "autocolorscale": false,
         "colorscale": [
          [
           0,
           "rgb(0, 0, 0)"
          ],
          [
           0.3333333333333333,
           "rgb(230,0,0)"
          ],
          [
           0.6666666666666666,
           "rgb(255,210,0)"
          ],
          [
           1,
           "rgb(255,255,255)"
          ]
         ],
         "locations": [
          "AA",
          "AC",
          "ARE",
          "AFG",
          "ATG",
          "AJ",
          "ALB",
          "ARM",
          "AN",
          "AGO",
          "ATA",
          "ARG",
          "ASM",
          "AUS",
          "AV",
          "AY",
          "BIH",
          "BRB",
          "BC",
          "BGD",
          "BEL",
          "BFA",
          "BGR",
          "BHR",
          "BK",
          "BLM",
          "BMU",
          "BRN",
          "BOL",
          "BP",
          "BRA",
          "BTN",
          "BU",
          "BX",
          "BLR",
          "CAN",
          "CB",
          "COD",
          "CE",
          "CAF",
          "COG",
          "CHE",
          "CIV",
          "CJ",
          "CMR",
          "CHN",
          "COL",
          "CS",
          "CT",
          "CUB",
          "CPV",
          "CUW",
          "CYP",
          "DA",
          "DJI",
          "DOM",
          "DR",
          "ECU",
          "EGY",
          "EI",
          "EK",
          "EN",
          "ERI",
          "ESP",
          "ETH",
          "EZ",
          "FG",
          "FIN",
          "FJI",
          "FLK",
          "FSM",
          "FRO",
          "FP",
          "FQ",
          "FRA",
          "GAB",
          "GBR",
          "GGY",
          "GHA",
          "GIB",
          "GJ",
          "GK",
          "GRL",
          "GMB",
          "GLP",
          "GNQ",
          "GRC",
          "GTM",
          "GV",
          "GUY",
          "GZ",
          "HA",
          "HKG",
          "HO",
          "HQ",
          "HRV",
          "HUN",
          "IC",
          "IDN",
          "IND",
          "IOT",
          "IRN",
          "ISL",
          "ITA",
          "IV",
          "IZ",
          "JA",
          "JEY",
          "JAM",
          "JOR",
          "KEN",
          "KGZ",
          "KNA",
          "KOR",
          "KS",
          "KT",
          "KU",
          "KV",
          "KAZ",
          "LAO",
          "LE",
          "LG",
          "LH",
          "LIE",
          "LO",
          "LSO",
          "LTU",
          "LUX",
          "LBY",
          "MAR",
          "MB",
          "MCO",
          "MDA",
          "MDG",
          "MHL",
          "MI",
          "MJ",
          "MKD",
          "MLI",
          "MNG",
          "MAC",
          "MNP",
          "MRT",
          "MLT",
          "MUS",
          "MDV",
          "MEX",
          "MYS",
          "MOZ",
          "NCL",
          "NER",
          "NFK",
          "NGA",
          "NH",
          "NIC",
          "NLD",
          "NOR",
          "NPL",
          "NRU",
          "NS",
          "NT",
          "NIU",
          "NZL",
          "OC",
          "OD",
          "OS",
          "PAN",
          "PC",
          "PER",
          "PYF",
          "PNG",
          "PAK",
          "POL",
          "SPM",
          "PO",
          "PP",
          "PSE",
          "PU",
          "QAT",
          "RB",
          "REU",
          "RI",
          "RM",
          "RN",
          "ROU",
          "RP",
          "RQ",
          "SRB",
          "RWA",
          "SAU",
          "SYC",
          "SWE",
          "SF",
          "SGP",
          "SHN",
          "SVN",
          "SLE",
          "SMR",
          "SEN",
          "SOM",
          "SP",
          "STP",
          "SU",
          "SLV",
          "SW",
          "SYR",
          "SWZ",
          "TCD",
          "THA",
          "TI",
          "TKL",
          "TUN",
          "TON",
          "TP",
          "TS",
          "TTO",
          "TU",
          "TUV",
          "TWN",
          "TX",
          "TZA",
          "UGA",
          "UP",
          "USA",
          "UV",
          "URY",
          "UZB",
          "VCT",
          "VEN",
          "VIR",
          "VM",
          "VQ",
          "VT",
          "WA",
          "WE",
          "WI",
          "WSM",
          "WZ",
          "YI",
          "YM",
          "ZAF",
          "ZI"
         ],
         "marker": {
          "line": {
           "color": "rgb(180,180,180)",
           "width": 0.5
          }
         },
         "reversescale": true,
         "text": [
          "AA",
          "AC",
          "United Arab Emirates",
          "Afghanistan",
          "Antigua and Barbuda",
          "AJ",
          "Albania",
          "Armenia",
          "AN",
          "Angola",
          "Antarctica",
          "Argentina",
          "American Samoa",
          "Australia",
          "AV",
          "AY",
          "Bosnia and Herzegovina",
          "Barbados",
          "BC",
          "Bangladesh",
          "Belgium",
          "Burkina Faso",
          "Bulgaria",
          "Bahrain",
          "BK",
          "St. Barths",
          "Bermuda",
          "Brunei Darussalam",
          "Bolivia",
          "BP",
          "Brazil",
          "Bhutan",
          "BU",
          "BX",
          "Belarus",
          "Canada",
          "CB",
          "DR Congo",
          "CE",
          "Central African Republic",
          "Congo Republic",
          "Switzerland",
          "Cote d'Ivoire",
          "CJ",
          "Cameroon",
          "China",
          "Colombia",
          "CS",
          "CT",
          "Cuba",
          "Cabo Verde",
          "Curacao",
          "Cyprus",
          "DA",
          "Djibouti",
          "Dominican Republic",
          "DR",
          "Ecuador",
          "Egypt",
          "EI",
          "EK",
          "EN",
          "Eritrea",
          "Spain",
          "Ethiopia",
          "EZ",
          "FG",
          "Finland",
          "Fiji",
          "Falkland Islands",
          "Micronesia, Fed. Sts.",
          "Faeroe Islands",
          "FP",
          "FQ",
          "France",
          "Gabon",
          "United Kingdom",
          "Guernsey",
          "Ghana",
          "Gibraltar",
          "GJ",
          "GK",
          "Greenland",
          "Gambia",
          "Guadeloupe",
          "Equatorial Guinea",
          "Greece",
          "Guatemala",
          "GV",
          "Guyana",
          "GZ",
          "HA",
          "Hong Kong",
          "HO",
          "HQ",
          "Croatia",
          "Hungary",
          "IC",
          "Indonesia",
          "India",
          "British Indian Ocean Territory",
          "Iran",
          "Iceland",
          "Italy",
          "IV",
          "IZ",
          "JA",
          "Jersey",
          "Jamaica",
          "Jordan",
          "Kenya",
          "Kyrgyz Republic",
          "St. Kitts and Nevis",
          "South Korea",
          "KS",
          "KT",
          "KU",
          "KV",
          "Kazakhstan",
          "Laos",
          "LE",
          "LG",
          "LH",
          "Liechtenstein",
          "LO",
          "Lesotho",
          "Lithuania",
          "Luxembourg",
          "Libya",
          "Morocco",
          "MB",
          "Monaco",
          "Moldova",
          "Madagascar",
          "Marshall Islands",
          "MI",
          "MJ",
          "Macedonia",
          "Mali",
          "Mongolia",
          "Macao",
          "Northern Mariana Islands",
          "Mauritania",
          "Malta",
          "Mauritius",
          "Maldives",
          "Mexico",
          "Malaysia",
          "Mozambique",
          "New Caledonia",
          "Niger",
          "Norfolk Island",
          "Nigeria",
          "NH",
          "Nicaragua",
          "Netherlands",
          "Norway",
          "Nepal",
          "Nauru",
          "NS",
          "NT",
          "Niue",
          "New Zealand",
          "OC",
          "OD",
          "OS",
          "Panama",
          "PC",
          "Peru",
          "French Polynesia",
          "Papua New Guinea",
          "Pakistan",
          "Poland",
          "St. Pierre and Miquelon",
          "PO",
          "PP",
          "Palestine",
          "PU",
          "Qatar",
          "RB",
          "Reunion",
          "RI",
          "RM",
          "RN",
          "Romania",
          "RP",
          "RQ",
          "Serbia",
          "Rwanda",
          "Saudi Arabia",
          "Seychelles",
          "Sweden",
          "SF",
          "Singapore",
          "St. Helena",
          "Slovenia",
          "Sierra Leone",
          "San Marino",
          "Senegal",
          "Somalia",
          "SP",
          "Sao Tome and Principe",
          "SU",
          "El Salvador",
          "SW",
          "Syria",
          "Eswatini",
          "Chad",
          "Thailand",
          "TI",
          "Tokelau",
          "Tunisia",
          "Tonga",
          "TP",
          "TS",
          "Trinidad and Tobago",
          "TU",
          "Tuvalu",
          "Taiwan",
          "TX",
          "Tanzania",
          "Uganda",
          "UP",
          "United States",
          "UV",
          "Uruguay",
          "Uzbekistan",
          "St. Vincent and the Grenadines",
          "Venezuela",
          "United States Virgin Islands",
          "VM",
          "VQ",
          "VT",
          "WA",
          "WE",
          "WI",
          "Samoa",
          "WZ",
          "YI",
          "YM",
          "South Africa",
          "ZI"
         ],
         "type": "choropleth",
         "visible": false,
         "z": [
          27,
          383,
          18435,
          9908,
          1104,
          1420,
          2072,
          1729,
          28,
          3430,
          2,
          6173,
          82180,
          7346,
          855,
          122,
          4146,
          2306,
          2075,
          1197,
          168343,
          3518,
          11327,
          563,
          130,
          377,
          1901,
          649,
          895,
          401,
          12134,
          157,
          6174,
          2744,
          85,
          121355,
          4886,
          191,
          13473,
          1237,
          237,
          179983,
          2725,
          571,
          948,
          14,
          2612,
          240,
          29,
          8155,
          57,
          37,
          11925,
          7428,
          831,
          196,
          533,
          42233,
          25653,
          289308,
          44,
          6028,
          247,
          143,
          3556,
          4021,
          30,
          7241,
          1231,
          44,
          27,
          159,
          25,
          1,
          220219,
          726,
          193,
          5078,
          5251,
          13678,
          767,
          898,
          1405,
          144018,
          51,
          445,
          11109,
          615,
          435,
          1074,
          912,
          242,
          29226,
          251,
          1,
          1527,
          7873,
          3627,
          4573,
          32634,
          726,
          218482,
          46464,
          42448,
          226,
          17530,
          26201,
          988,
          5807,
          6559,
          9582,
          180,
          4773,
          422,
          5785,
          10,
          6022,
          372,
          926,
          91,
          6480,
          1792,
          2347,
          866,
          1724,
          116,
          330,
          11159,
          8959,
          1305,
          94,
          132,
          506,
          306,
          70,
          5686,
          263,
          2411,
          1210,
          1023,
          9049,
          4569,
          119,
          2588,
          5279,
          1101,
          9057,
          9780,
          1572,
          11,
          1,
          1,
          273,
          150,
          19273,
          28305,
          22442,
          2037,
          25,
          124,
          6,
          296,
          31349,
          105,
          539,
          1281,
          180,
          2,
          1276,
          13,
          2,
          51330,
          15261,
          729,
          8382,
          347,
          22,
          15,
          4346,
          440,
          51,
          803,
          61,
          19,
          8926,
          4201,
          575,
          116606,
          1150,
          27893,
          46,
          414,
          25005,
          1041,
          16,
          266,
          997,
          14,
          9834,
          4600,
          35616,
          189,
          7641,
          15,
          47778,
          81147,
          15080,
          608,
          6966,
          299,
          4,
          395,
          132,
          1,
          3218,
          48,
          30402,
          50,
          1529,
          384,
          1175,
          3160,
          15753,
          478552,
          311,
          1004,
          783,
          47,
          9365,
          91,
          21983,
          184,
          197,
          300,
          1426,
          19,
          335,
          68,
          33,
          7087,
          1104,
          9717
         ]
        }
       ],
       "layout": {
        "autosize": true,
        "geo": {
         "projection": {
          "type": "equirectangular"
         },
         "showcoastlines": false,
         "showframe": false
        },
        "template": {
         "data": {
          "bar": [
           {
            "error_x": {
             "color": "#2a3f5f"
            },
            "error_y": {
             "color": "#2a3f5f"
            },
            "marker": {
             "line": {
              "color": "#E5ECF6",
              "width": 0.5
             }
            },
            "type": "bar"
           }
          ],
          "barpolar": [
           {
            "marker": {
             "line": {
              "color": "#E5ECF6",
              "width": 0.5
             }
            },
            "type": "barpolar"
           }
          ],
          "carpet": [
           {
            "aaxis": {
             "endlinecolor": "#2a3f5f",
             "gridcolor": "white",
             "linecolor": "white",
             "minorgridcolor": "white",
             "startlinecolor": "#2a3f5f"
            },
            "baxis": {
             "endlinecolor": "#2a3f5f",
             "gridcolor": "white",
             "linecolor": "white",
             "minorgridcolor": "white",
             "startlinecolor": "#2a3f5f"
            },
            "type": "carpet"
           }
          ],
          "choropleth": [
           {
            "colorbar": {
             "outlinewidth": 0,
             "ticks": ""
            },
            "type": "choropleth"
           }
          ],
          "contour": [
           {
            "colorbar": {
             "outlinewidth": 0,
             "ticks": ""
            },
            "colorscale": [
             [
              0,
              "#0d0887"
             ],
             [
              0.1111111111111111,
              "#46039f"
             ],
             [
              0.2222222222222222,
              "#7201a8"
             ],
             [
              0.3333333333333333,
              "#9c179e"
             ],
             [
              0.4444444444444444,
              "#bd3786"
             ],
             [
              0.5555555555555556,
              "#d8576b"
             ],
             [
              0.6666666666666666,
              "#ed7953"
             ],
             [
              0.7777777777777778,
              "#fb9f3a"
             ],
             [
              0.8888888888888888,
              "#fdca26"
             ],
             [
              1,
              "#f0f921"
             ]
            ],
            "type": "contour"
           }
          ],
          "contourcarpet": [
           {
            "colorbar": {
             "outlinewidth": 0,
             "ticks": ""
            },
            "type": "contourcarpet"
           }
          ],
          "heatmap": [
           {
            "colorbar": {
             "outlinewidth": 0,
             "ticks": ""
            },
            "colorscale": [
             [
              0,
              "#0d0887"
             ],
             [
              0.1111111111111111,
              "#46039f"
             ],
             [
              0.2222222222222222,
              "#7201a8"
             ],
             [
              0.3333333333333333,
              "#9c179e"
             ],
             [
              0.4444444444444444,
              "#bd3786"
             ],
             [
              0.5555555555555556,
              "#d8576b"
             ],
             [
              0.6666666666666666,
              "#ed7953"
             ],
             [
              0.7777777777777778,
              "#fb9f3a"
             ],
             [
              0.8888888888888888,
              "#fdca26"
             ],
             [
              1,
              "#f0f921"
             ]
            ],
            "type": "heatmap"
           }
          ],
          "heatmapgl": [
           {
            "colorbar": {
             "outlinewidth": 0,
             "ticks": ""
            },
            "colorscale": [
             [
              0,
              "#0d0887"
             ],
             [
              0.1111111111111111,
              "#46039f"
             ],
             [
              0.2222222222222222,
              "#7201a8"
             ],
             [
              0.3333333333333333,
              "#9c179e"
             ],
             [
              0.4444444444444444,
              "#bd3786"
             ],
             [
              0.5555555555555556,
              "#d8576b"
             ],
             [
              0.6666666666666666,
              "#ed7953"
             ],
             [
              0.7777777777777778,
              "#fb9f3a"
             ],
             [
              0.8888888888888888,
              "#fdca26"
             ],
             [
              1,
              "#f0f921"
             ]
            ],
            "type": "heatmapgl"
           }
          ],
          "histogram": [
           {
            "marker": {
             "colorbar": {
              "outlinewidth": 0,
              "ticks": ""
             }
            },
            "type": "histogram"
           }
          ],
          "histogram2d": [
           {
            "colorbar": {
             "outlinewidth": 0,
             "ticks": ""
            },
            "colorscale": [
             [
              0,
              "#0d0887"
             ],
             [
              0.1111111111111111,
              "#46039f"
             ],
             [
              0.2222222222222222,
              "#7201a8"
             ],
             [
              0.3333333333333333,
              "#9c179e"
             ],
             [
              0.4444444444444444,
              "#bd3786"
             ],
             [
              0.5555555555555556,
              "#d8576b"
             ],
             [
              0.6666666666666666,
              "#ed7953"
             ],
             [
              0.7777777777777778,
              "#fb9f3a"
             ],
             [
              0.8888888888888888,
              "#fdca26"
             ],
             [
              1,
              "#f0f921"
             ]
            ],
            "type": "histogram2d"
           }
          ],
          "histogram2dcontour": [
           {
            "colorbar": {
             "outlinewidth": 0,
             "ticks": ""
            },
            "colorscale": [
             [
              0,
              "#0d0887"
             ],
             [
              0.1111111111111111,
              "#46039f"
             ],
             [
              0.2222222222222222,
              "#7201a8"
             ],
             [
              0.3333333333333333,
              "#9c179e"
             ],
             [
              0.4444444444444444,
              "#bd3786"
             ],
             [
              0.5555555555555556,
              "#d8576b"
             ],
             [
              0.6666666666666666,
              "#ed7953"
             ],
             [
              0.7777777777777778,
              "#fb9f3a"
             ],
             [
              0.8888888888888888,
              "#fdca26"
             ],
             [
              1,
              "#f0f921"
             ]
            ],
            "type": "histogram2dcontour"
           }
          ],
          "mesh3d": [
           {
            "colorbar": {
             "outlinewidth": 0,
             "ticks": ""
            },
            "type": "mesh3d"
           }
          ],
          "parcoords": [
           {
            "line": {
             "colorbar": {
              "outlinewidth": 0,
              "ticks": ""
             }
            },
            "type": "parcoords"
           }
          ],
          "pie": [
           {
            "automargin": true,
            "type": "pie"
           }
          ],
          "scatter": [
           {
            "marker": {
             "colorbar": {
              "outlinewidth": 0,
              "ticks": ""
             }
            },
            "type": "scatter"
           }
          ],
          "scatter3d": [
           {
            "line": {
             "colorbar": {
              "outlinewidth": 0,
              "ticks": ""
             }
            },
            "marker": {
             "colorbar": {
              "outlinewidth": 0,
              "ticks": ""
             }
            },
            "type": "scatter3d"
           }
          ],
          "scattercarpet": [
           {
            "marker": {
             "colorbar": {
              "outlinewidth": 0,
              "ticks": ""
             }
            },
            "type": "scattercarpet"
           }
          ],
          "scattergeo": [
           {
            "marker": {
             "colorbar": {
              "outlinewidth": 0,
              "ticks": ""
             }
            },
            "type": "scattergeo"
           }
          ],
          "scattergl": [
           {
            "marker": {
             "colorbar": {
              "outlinewidth": 0,
              "ticks": ""
             }
            },
            "type": "scattergl"
           }
          ],
          "scattermapbox": [
           {
            "marker": {
             "colorbar": {
              "outlinewidth": 0,
              "ticks": ""
             }
            },
            "type": "scattermapbox"
           }
          ],
          "scatterpolar": [
           {
            "marker": {
             "colorbar": {
              "outlinewidth": 0,
              "ticks": ""
             }
            },
            "type": "scatterpolar"
           }
          ],
          "scatterpolargl": [
           {
            "marker": {
             "colorbar": {
              "outlinewidth": 0,
              "ticks": ""
             }
            },
            "type": "scatterpolargl"
           }
          ],
          "scatterternary": [
           {
            "marker": {
             "colorbar": {
              "outlinewidth": 0,
              "ticks": ""
             }
            },
            "type": "scatterternary"
           }
          ],
          "surface": [
           {
            "colorbar": {
             "outlinewidth": 0,
             "ticks": ""
            },
            "colorscale": [
             [
              0,
              "#0d0887"
             ],
             [
              0.1111111111111111,
              "#46039f"
             ],
             [
              0.2222222222222222,
              "#7201a8"
             ],
             [
              0.3333333333333333,
              "#9c179e"
             ],
             [
              0.4444444444444444,
              "#bd3786"
             ],
             [
              0.5555555555555556,
              "#d8576b"
             ],
             [
              0.6666666666666666,
              "#ed7953"
             ],
             [
              0.7777777777777778,
              "#fb9f3a"
             ],
             [
              0.8888888888888888,
              "#fdca26"
             ],
             [
              1,
              "#f0f921"
             ]
            ],
            "type": "surface"
           }
          ],
          "table": [
           {
            "cells": {
             "fill": {
              "color": "#EBF0F8"
             },
             "line": {
              "color": "white"
             }
            },
            "header": {
             "fill": {
              "color": "#C8D4E3"
             },
             "line": {
              "color": "white"
             }
            },
            "type": "table"
           }
          ]
         },
         "layout": {
          "annotationdefaults": {
           "arrowcolor": "#2a3f5f",
           "arrowhead": 0,
           "arrowwidth": 1
          },
          "coloraxis": {
           "colorbar": {
            "outlinewidth": 0,
            "ticks": ""
           }
          },
          "colorscale": {
           "diverging": [
            [
             0,
             "#8e0152"
            ],
            [
             0.1,
             "#c51b7d"
            ],
            [
             0.2,
             "#de77ae"
            ],
            [
             0.3,
             "#f1b6da"
            ],
            [
             0.4,
             "#fde0ef"
            ],
            [
             0.5,
             "#f7f7f7"
            ],
            [
             0.6,
             "#e6f5d0"
            ],
            [
             0.7,
             "#b8e186"
            ],
            [
             0.8,
             "#7fbc41"
            ],
            [
             0.9,
             "#4d9221"
            ],
            [
             1,
             "#276419"
            ]
           ],
           "sequential": [
            [
             0,
             "#0d0887"
            ],
            [
             0.1111111111111111,
             "#46039f"
            ],
            [
             0.2222222222222222,
             "#7201a8"
            ],
            [
             0.3333333333333333,
             "#9c179e"
            ],
            [
             0.4444444444444444,
             "#bd3786"
            ],
            [
             0.5555555555555556,
             "#d8576b"
            ],
            [
             0.6666666666666666,
             "#ed7953"
            ],
            [
             0.7777777777777778,
             "#fb9f3a"
            ],
            [
             0.8888888888888888,
             "#fdca26"
            ],
            [
             1,
             "#f0f921"
            ]
           ],
           "sequentialminus": [
            [
             0,
             "#0d0887"
            ],
            [
             0.1111111111111111,
             "#46039f"
            ],
            [
             0.2222222222222222,
             "#7201a8"
            ],
            [
             0.3333333333333333,
             "#9c179e"
            ],
            [
             0.4444444444444444,
             "#bd3786"
            ],
            [
             0.5555555555555556,
             "#d8576b"
            ],
            [
             0.6666666666666666,
             "#ed7953"
            ],
            [
             0.7777777777777778,
             "#fb9f3a"
            ],
            [
             0.8888888888888888,
             "#fdca26"
            ],
            [
             1,
             "#f0f921"
            ]
           ]
          },
          "colorway": [
           "#636efa",
           "#EF553B",
           "#00cc96",
           "#ab63fa",
           "#FFA15A",
           "#19d3f3",
           "#FF6692",
           "#B6E880",
           "#FF97FF",
           "#FECB52"
          ],
          "font": {
           "color": "#2a3f5f"
          },
          "geo": {
           "bgcolor": "white",
           "lakecolor": "white",
           "landcolor": "#E5ECF6",
           "showlakes": true,
           "showland": true,
           "subunitcolor": "white"
          },
          "hoverlabel": {
           "align": "left"
          },
          "hovermode": "closest",
          "mapbox": {
           "style": "light"
          },
          "paper_bgcolor": "white",
          "plot_bgcolor": "#E5ECF6",
          "polar": {
           "angularaxis": {
            "gridcolor": "white",
            "linecolor": "white",
            "ticks": ""
           },
           "bgcolor": "#E5ECF6",
           "radialaxis": {
            "gridcolor": "white",
            "linecolor": "white",
            "ticks": ""
           }
          },
          "scene": {
           "xaxis": {
            "backgroundcolor": "#E5ECF6",
            "gridcolor": "white",
            "gridwidth": 2,
            "linecolor": "white",
            "showbackground": true,
            "ticks": "",
            "zerolinecolor": "white"
           },
           "yaxis": {
            "backgroundcolor": "#E5ECF6",
            "gridcolor": "white",
            "gridwidth": 2,
            "linecolor": "white",
            "showbackground": true,
            "ticks": "",
            "zerolinecolor": "white"
           },
           "zaxis": {
            "backgroundcolor": "#E5ECF6",
            "gridcolor": "white",
            "gridwidth": 2,
            "linecolor": "white",
            "showbackground": true,
            "ticks": "",
            "zerolinecolor": "white"
           }
          },
          "shapedefaults": {
           "line": {
            "color": "#2a3f5f"
           }
          },
          "ternary": {
           "aaxis": {
            "gridcolor": "white",
            "linecolor": "white",
            "ticks": ""
           },
           "baxis": {
            "gridcolor": "white",
            "linecolor": "white",
            "ticks": ""
           },
           "bgcolor": "#E5ECF6",
           "caxis": {
            "gridcolor": "white",
            "linecolor": "white",
            "ticks": ""
           }
          },
          "title": {
           "x": 0.05
          },
          "xaxis": {
           "automargin": true,
           "gridcolor": "white",
           "linecolor": "white",
           "ticks": "",
           "title": {
            "standoff": 15
           },
           "zerolinecolor": "white",
           "zerolinewidth": 2
          },
          "yaxis": {
           "automargin": true,
           "gridcolor": "white",
           "linecolor": "white",
           "ticks": "",
           "title": {
            "standoff": 15
           },
           "zerolinecolor": "white",
           "zerolinewidth": 2
          }
         }
        },
        "title": {
         "text": "Ton moyen"
        },
        "updatemenus": [
         {
          "active": 0,
          "buttons": [
           {
            "args": [
             {
              "visible": [
               true,
               false
              ]
             },
             {
              "title": "Ton moyen"
             }
            ],
            "label": "Avg tone",
            "method": "update"
           },
           {
            "args": [
             {
              "visible": [
               false,
               true
              ]
             },
             {
              "title": "Nombre d'articles"
             }
            ],
            "label": "Nb Articles",
            "method": "update"
           }
          ]
         }
        ]
       }
      },
      "image/png": "[encoded data removed]",
      "text/html": [
       "<div>\n",
       "        \n",
       "        \n",
       "            <div id=\"93c49dc4-2a64-4ff0-91fb-b3d2946cee12\" class=\"plotly-graph-div\" style=\"height:525px; width:100%;\"></div>\n",
       "            <script type=\"text/javascript\">\n",
       "                require([\"plotly\"], function(Plotly) {\n",
       "                    window.PLOTLYENV=window.PLOTLYENV || {};\n",
       "                    \n",
       "                if (document.getElementById(\"93c49dc4-2a64-4ff0-91fb-b3d2946cee12\")) {\n",
       "                    Plotly.newPlot(\n",
       "                        '93c49dc4-2a64-4ff0-91fb-b3d2946cee12',\n",
       "                        [{\"autocolorscale\": false, \"colorscale\": [[0.0, \"rgb(0,0,0)\"], [0.3333333333333333, \"rgb(230,0,0)\"], [0.6666666666666666, \"rgb(255,210,0)\"], [1.0, \"rgb(255,255,255)\"]], \"locations\": [\"AA\", \"AC\", \"ARE\", \"AFG\", \"ATG\", \"AJ\", \"ALB\", \"ARM\", \"AN\", \"AGO\", \"ATA\", \"ARG\", \"ASM\", \"AUS\", \"AV\", \"AY\", \"BIH\", \"BRB\", \"BC\", \"BGD\", \"BEL\", \"BFA\", \"BGR\", \"BHR\", \"BK\", \"BLM\", \"BMU\", \"BRN\", \"BOL\", \"BP\", \"BRA\", \"BTN\", \"BU\", \"BX\", \"BLR\", \"CAN\", \"CB\", \"COD\", \"CE\", \"CAF\", \"COG\", \"CHE\", \"CIV\", \"CJ\", \"CMR\", \"CHN\", \"COL\", \"CS\", \"CT\", \"CUB\", \"CPV\", \"CUW\", \"CYP\", \"DA\", \"DJI\", \"DOM\", \"DR\", \"ECU\", \"EGY\", \"EI\", \"EK\", \"EN\", \"ERI\", \"ESP\", \"ETH\", \"EZ\", \"FG\", \"FIN\", \"FJI\", \"FLK\", \"FSM\", \"FRO\", \"FP\", \"FQ\", \"FRA\", \"GAB\", \"GBR\", \"GGY\", \"GHA\", \"GIB\", \"GJ\", \"GK\", \"GRL\", \"GMB\", \"GLP\", \"GNQ\", \"GRC\", \"GTM\", \"GV\", \"GUY\", \"GZ\", \"HA\", \"HKG\", \"HO\", \"HQ\", \"HRV\", \"HUN\", \"IC\", \"IDN\", \"IND\", \"IOT\", \"IRN\", \"ISL\", \"ITA\", \"IV\", \"IZ\", \"JA\", \"JEY\", \"JAM\", \"JOR\", \"KEN\", \"KGZ\", \"KNA\", \"KOR\", \"KS\", \"KT\", \"KU\", \"KV\", \"KAZ\", \"LAO\", \"LE\", \"LG\", \"LH\", \"LIE\", \"LO\", \"LSO\", \"LTU\", \"LUX\", \"LBY\", \"MAR\", \"MB\", \"MCO\", \"MDA\", \"MDG\", \"MHL\", \"MI\", \"MJ\", \"MKD\", \"MLI\", \"MNG\", \"MAC\", \"MNP\", \"MRT\", \"MLT\", \"MUS\", \"MDV\", \"MEX\", \"MYS\", \"MOZ\", \"NCL\", \"NER\", \"NFK\", \"NGA\", \"NH\", \"NIC\", \"NLD\", \"NOR\", \"NPL\", \"NRU\", \"NS\", \"NT\", \"NIU\", \"NZL\", \"OC\", \"OD\", \"OS\", \"PAN\", \"PC\", \"PER\", \"PYF\", \"PNG\", \"PAK\", \"POL\", \"SPM\", \"PO\", \"PP\", \"PSE\", \"PU\", \"QAT\", \"RB\", \"REU\", \"RI\", \"RM\", \"RN\", \"ROU\", \"RP\", \"RQ\", \"SRB\", \"RWA\", \"SAU\", \"SYC\", \"SWE\", \"SF\", \"SGP\", \"SHN\", \"SVN\", \"SLE\", \"SMR\", \"SEN\", \"SOM\", \"SP\", \"STP\", \"SU\", \"SLV\", \"SW\", \"SYR\", \"SWZ\", \"TCD\", \"THA\", \"TI\", \"TKL\", \"TUN\", \"TON\", \"TP\", \"TS\", \"TTO\", \"TU\", \"TUV\", \"TWN\", \"TX\", \"TZA\", \"UGA\", \"UP\", \"USA\", \"UV\", \"URY\", \"UZB\", \"VCT\", \"VEN\", \"VIR\", \"VM\", \"VQ\", \"VT\", \"WA\", \"WE\", \"WI\", \"WSM\", \"WZ\", \"YI\", \"YM\", \"ZAF\", \"ZI\"], \"marker\": {\"line\": {\"color\": \"rgb(180,180,180)\", \"width\": 0.5}}, \"reversescale\": true, \"text\": [\"AA\", \"AC\", \"United Arab Emirates\", \"Afghanistan\", \"Antigua and Barbuda\", \"AJ\", \"Albania\", \"Armenia\", \"AN\", \"Angola\", \"Antarctica\", \"Argentina\", \"American Samoa\", \"Australia\", \"AV\", \"AY\", \"Bosnia and Herzegovina\", \"Barbados\", \"BC\", \"Bangladesh\", \"Belgium\", \"Burkina Faso\", \"Bulgaria\", \"Bahrain\", \"BK\", \"St. Barths\", \"Bermuda\", \"Brunei Darussalam\", \"Bolivia\", \"BP\", \"Brazil\", \"Bhutan\", \"BU\", \"BX\", \"Belarus\", \"Canada\", \"CB\", \"DR Congo\", \"CE\", \"Central African Republic\", \"Congo Republic\", \"Switzerland\", \"Cote d'Ivoire\", \"CJ\", \"Cameroon\", \"China\", \"Colombia\", \"CS\", \"CT\", \"Cuba\", \"Cabo Verde\", \"Curacao\", \"Cyprus\", \"DA\", \"Djibouti\", \"Dominican Republic\", \"DR\", \"Ecuador\", \"Egypt\", \"EI\", \"EK\", \"EN\", \"Eritrea\", \"Spain\", \"Ethiopia\", \"EZ\", \"FG\", \"Finland\", \"Fiji\", \"Falkland Islands\", \"Micronesia, Fed. Sts.\", \"Faeroe Islands\", \"FP\", \"FQ\", \"France\", \"Gabon\", \"United Kingdom\", \"Guernsey\", \"Ghana\", \"Gibraltar\", \"GJ\", \"GK\", \"Greenland\", \"Gambia\", \"Guadeloupe\", \"Equatorial Guinea\", \"Greece\", \"Guatemala\", \"GV\", \"Guyana\", \"GZ\", \"HA\", \"Hong Kong\", \"HO\", \"HQ\", \"Croatia\", \"Hungary\", \"IC\", \"Indonesia\", \"India\", \"British Indian Ocean Territory\", \"Iran\", \"Iceland\", \"Italy\", \"IV\", \"IZ\", \"JA\", \"Jersey\", \"Jamaica\", \"Jordan\", \"Kenya\", \"Kyrgyz Republic\", \"St. Kitts and Nevis\", \"South Korea\", \"KS\", \"KT\", \"KU\", \"KV\", \"Kazakhstan\", \"Laos\", \"LE\", \"LG\", \"LH\", \"Liechtenstein\", \"LO\", \"Lesotho\", \"Lithuania\", \"Luxembourg\", \"Libya\", \"Morocco\", \"MB\", \"Monaco\", \"Moldova\", \"Madagascar\", \"Marshall Islands\", \"MI\", \"MJ\", \"Macedonia\", \"Mali\", \"Mongolia\", \"Macao\", \"Northern Mariana Islands\", \"Mauritania\", \"Malta\", \"Mauritius\", \"Maldives\", \"Mexico\", \"Malaysia\", \"Mozambique\", \"New Caledonia\", \"Niger\", \"Norfolk Island\", \"Nigeria\", \"NH\", \"Nicaragua\", \"Netherlands\", \"Norway\", \"Nepal\", \"Nauru\", \"NS\", \"NT\", \"Niue\", \"New Zealand\", \"OC\", \"OD\", \"OS\", \"Panama\", \"PC\", \"Peru\", \"French Polynesia\", \"Papua New Guinea\", \"Pakistan\", \"Poland\", \"St. Pierre and Miquelon\", \"PO\", \"PP\", \"Palestine\", \"PU\", \"Qatar\", \"RB\", \"Reunion\", \"RI\", \"RM\", \"RN\", \"Romania\", \"RP\", \"RQ\", \"Serbia\", \"Rwanda\", \"Saudi Arabia\", \"Seychelles\", \"Sweden\", \"SF\", \"Singapore\", \"St. Helena\", \"Slovenia\", \"Sierra Leone\", \"San Marino\", \"Senegal\", \"Somalia\", \"SP\", \"Sao Tome and Principe\", \"SU\", \"El Salvador\", \"SW\", \"Syria\", \"Eswatini\", \"Chad\", \"Thailand\", \"TI\", \"Tokelau\", \"Tunisia\", \"Tonga\", \"TP\", \"TS\", \"Trinidad and Tobago\", \"TU\", \"Tuvalu\", \"Taiwan\", \"TX\", \"Tanzania\", \"Uganda\", \"UP\", \"United States\", \"UV\", \"Uruguay\", \"Uzbekistan\", \"St. Vincent and the Grenadines\", \"Venezuela\", \"United States Virgin Islands\", \"VM\", \"VQ\", \"VT\", \"WA\", \"WE\", \"WI\", \"Samoa\", \"WZ\", \"YI\", \"YM\", \"South Africa\", \"ZI\"], \"type\": \"choropleth\", \"z\": [-0.4444444444444444, -0.8149809347898468, -0.07854597284108732, -0.1837451106623916, -0.8207829344639743, 0.10785748675255709, -0.6576242143626264, -0.0480292469711232, -0.17857142857142858, 0.1077944565227706, 0.0, -0.13293337476950168, -0.023094403148232353, -0.14968450107299078, -1.064095926145364, 0.40846994519233704, -0.08264509000484344, 0.006925669320231402, 0.15837017608694284, -0.3470317480856912, -0.011720355261166191, -0.03798534478430995, -0.09814209685122924, -0.15339758052601485, -1.054914533174955, -0.6659109398762174, -0.7272518321064383, -0.040707207504424546, -0.14151387048999692, 0.11354047865455882, -0.06140467779103311, 0.09023354558428381, -0.1371843710211071, -0.24638274502899749, -1.058235292925554, -0.01419245869693014, -0.0781846930880162, -0.6047120418848168, -0.11357052319135041, -0.6740525194783314, -1.5659282700421941, -0.03351350169926641, -0.04153279723103987, 0.10589608907595198, -0.8123777700030099, -0.7142857142857143, -0.43732754234652427, -0.03479575229187806, -1.3678160864731361, -0.030312495866412402, -1.200000001673113, 0.12612612183029587, -0.10665476290887882, -0.13624749726710633, -0.08923189391333848, -0.2278061203506528, -0.3736613628788245, -0.08340338304336485, -0.04657799476009117, -0.005838508230827453, -2.340909090909091, -0.04501411343004503, -0.7572215768972389, -0.19463869575020318, -0.18335326622094628, -0.11582216226144443, -0.1625, -0.08622208122920799, 0.21053603554188383, -0.5318181839856234, -1.4444444444444444, 0.5086852439544486, -0.32, 1.0, -0.009056353899852657, -0.2653002687229598, -1.0611398958171587, -0.3264664449135165, -0.027212808619871794, -0.07790655013168916, -0.019591211631524982, 0.07610489013200347, -0.22339500545182686, -0.013835965086634835, -0.8480392156862745, -0.15350811561841643, -0.05491220248006811, -0.3757922822382392, -0.04998175590887837, -0.016946438245572414, -1.8572278067208172, -0.9749114526943727, -0.1701950113354894, -0.5643031594762764, 1.0, -0.11026471802512258, -0.08037389148626214, -0.023008689471256775, -0.2667868546563167, -0.03869314534236799, -0.20451998250871978, -0.01788784189638089, -0.0398020735178874, -0.02563104954156063, -0.8361356912461002, -0.1392933775757424, -0.024979359328944142, -0.5019379309435122, -0.11616631963907574, -0.024011606529166483, -0.0875320803522566, 0.20771604975064595, -0.2693421464813797, -0.031068982671222416, -0.003488775691727471, -0.7, -0.021254453410919385, -0.3005034996657282, -0.012497124256119615, 0.18076922867324327, -0.14846016661447967, -0.2625924859229209, -0.22714050924925283, -0.5475994540210685, -0.6657894740006487, -0.15172414121956662, 1.1358405557545748, -0.03580748438047288, -0.22114589011756314, -0.10221607984254187, -0.9333333293808267, -1.2944444499232552, -0.21813602183058328, -0.16063906997442245, -0.1285714294229235, -0.00579856984209855, -0.6524081103248741, -0.032539275982032816, -0.4336912643810934, 1.4282886492905962, 0.09863389238092712, -0.054416801080084856, -0.38225290054032784, -0.3009301178255212, 0.028083900832660182, 0.055292447232095684, -0.07077334838129307, -0.07915381002477952, -0.5382581493857556, -0.45454545454545453, -2.0, 0.0, -0.5707237209592547, -1.8616666666666666, -0.034276049452809335, -0.04508252766715767, -0.042869101051815836, -0.08526803147473871, -0.6, -1.9059139778537135, -0.8333333333333334, -0.05018074880983379, -0.03677059060271655, -0.2602453101248968, -0.5840441248412477, -0.4753208106774822, -0.6816666666004393, 1.5, -0.4358468785718504, -1.4615384615384615, -2.0, -0.031698489144586714, -0.0906000739631967, -1.0020177950993159, -0.07720951179446454, -0.9401449676205857, -0.45454545454545453, 0.9, -0.1086216402414533, -0.9061971381306648, 0.3235294117647059, -0.17255949181681998, -0.7814207624216549, 2.0, -0.15366732018118934, -0.21120371026627877, -0.5261159386064695, -0.02087145372595204, -0.3162824953509414, -0.04547214309164362, 0.6268115924752277, -0.24836972762565107, -0.021424089183249107, -0.06135672226362109, 0.4375, -0.29009353655173364, 0.08476851938839781, -1.1428571428571428, -0.028558903449351938, -0.2594237360163875, -0.04058104971644861, 0.34775132224673316, -0.19686488690191875, -0.06666666666666667, -0.05229239128637625, -0.045868021762177004, -0.05832374390160334, -0.11492088052297109, -0.22412408428962396, 0.04849498457334512, 2.75, 0.6065400856959668, -0.29097222220717056, 0.0, -0.3128599317025479, -1.9166666666666667, -0.05522194850143898, 0.6203174608945846, -0.3631959418267343, 0.18676026545775434, -0.7023444323463642, -0.37986175578700593, -0.06262363036536969, -0.004344714856003308, -0.5017684887843117, -0.5373300670152641, -0.33894180790979134, 0.3617021276595745, -0.14755613178897847, -0.5472527493487348, -0.057784046442088, -0.5108695652173914, -1.2384336436460466, -0.007555554111798604, 0.1869935120180312, -1.0789473684210527, -0.2362743633896557, 0.7382352948188782, -1.0909090909090908, -0.20516277552576148, -0.2879012873180319, -0.16257585257596963]}, {\"autocolorscale\": false, \"colorscale\": [[0.0, \"rgb(0,0,0)\"], [0.3333333333333333, \"rgb(230,0,0)\"], [0.6666666666666666, \"rgb(255,210,0)\"], [1.0, \"rgb(255,255,255)\"]], \"locations\": [\"AA\", \"AC\", \"ARE\", \"AFG\", \"ATG\", \"AJ\", \"ALB\", \"ARM\", \"AN\", \"AGO\", \"ATA\", \"ARG\", \"ASM\", \"AUS\", \"AV\", \"AY\", \"BIH\", \"BRB\", \"BC\", \"BGD\", \"BEL\", \"BFA\", \"BGR\", \"BHR\", \"BK\", \"BLM\", \"BMU\", \"BRN\", \"BOL\", \"BP\", \"BRA\", \"BTN\", \"BU\", \"BX\", \"BLR\", \"CAN\", \"CB\", \"COD\", \"CE\", \"CAF\", \"COG\", \"CHE\", \"CIV\", \"CJ\", \"CMR\", \"CHN\", \"COL\", \"CS\", \"CT\", \"CUB\", \"CPV\", \"CUW\", \"CYP\", \"DA\", \"DJI\", \"DOM\", \"DR\", \"ECU\", \"EGY\", \"EI\", \"EK\", \"EN\", \"ERI\", \"ESP\", \"ETH\", \"EZ\", \"FG\", \"FIN\", \"FJI\", \"FLK\", \"FSM\", \"FRO\", \"FP\", \"FQ\", \"FRA\", \"GAB\", \"GBR\", \"GGY\", \"GHA\", \"GIB\", \"GJ\", \"GK\", \"GRL\", \"GMB\", \"GLP\", \"GNQ\", \"GRC\", \"GTM\", \"GV\", \"GUY\", \"GZ\", \"HA\", \"HKG\", \"HO\", \"HQ\", \"HRV\", \"HUN\", \"IC\", \"IDN\", \"IND\", \"IOT\", \"IRN\", \"ISL\", \"ITA\", \"IV\", \"IZ\", \"JA\", \"JEY\", \"JAM\", \"JOR\", \"KEN\", \"KGZ\", \"KNA\", \"KOR\", \"KS\", \"KT\", \"KU\", \"KV\", \"KAZ\", \"LAO\", \"LE\", \"LG\", \"LH\", \"LIE\", \"LO\", \"LSO\", \"LTU\", \"LUX\", \"LBY\", \"MAR\", \"MB\", \"MCO\", \"MDA\", \"MDG\", \"MHL\", \"MI\", \"MJ\", \"MKD\", \"MLI\", \"MNG\", \"MAC\", \"MNP\", \"MRT\", \"MLT\", \"MUS\", \"MDV\", \"MEX\", \"MYS\", \"MOZ\", \"NCL\", \"NER\", \"NFK\", \"NGA\", \"NH\", \"NIC\", \"NLD\", \"NOR\", \"NPL\", \"NRU\", \"NS\", \"NT\", \"NIU\", \"NZL\", \"OC\", \"OD\", \"OS\", \"PAN\", \"PC\", \"PER\", \"PYF\", \"PNG\", \"PAK\", \"POL\", \"SPM\", \"PO\", \"PP\", \"PSE\", \"PU\", \"QAT\", \"RB\", \"REU\", \"RI\", \"RM\", \"RN\", \"ROU\", \"RP\", \"RQ\", \"SRB\", \"RWA\", \"SAU\", \"SYC\", \"SWE\", \"SF\", \"SGP\", \"SHN\", \"SVN\", \"SLE\", \"SMR\", \"SEN\", \"SOM\", \"SP\", \"STP\", \"SU\", \"SLV\", \"SW\", \"SYR\", \"SWZ\", \"TCD\", \"THA\", \"TI\", \"TKL\", \"TUN\", \"TON\", \"TP\", \"TS\", \"TTO\", \"TU\", \"TUV\", \"TWN\", \"TX\", \"TZA\", \"UGA\", \"UP\", \"USA\", \"UV\", \"URY\", \"UZB\", \"VCT\", \"VEN\", \"VIR\", \"VM\", \"VQ\", \"VT\", \"WA\", \"WE\", \"WI\", \"WSM\", \"WZ\", \"YI\", \"YM\", \"ZAF\", \"ZI\"], \"marker\": {\"line\": {\"color\": \"rgb(180,180,180)\", \"width\": 0.5}}, \"reversescale\": true, \"text\": [\"AA\", \"AC\", \"United Arab Emirates\", \"Afghanistan\", \"Antigua and Barbuda\", \"AJ\", \"Albania\", \"Armenia\", \"AN\", \"Angola\", \"Antarctica\", \"Argentina\", \"American Samoa\", \"Australia\", \"AV\", \"AY\", \"Bosnia and Herzegovina\", \"Barbados\", \"BC\", \"Bangladesh\", \"Belgium\", \"Burkina Faso\", \"Bulgaria\", \"Bahrain\", \"BK\", \"St. Barths\", \"Bermuda\", \"Brunei Darussalam\", \"Bolivia\", \"BP\", \"Brazil\", \"Bhutan\", \"BU\", \"BX\", \"Belarus\", \"Canada\", \"CB\", \"DR Congo\", \"CE\", \"Central African Republic\", \"Congo Republic\", \"Switzerland\", \"Cote d'Ivoire\", \"CJ\", \"Cameroon\", \"China\", \"Colombia\", \"CS\", \"CT\", \"Cuba\", \"Cabo Verde\", \"Curacao\", \"Cyprus\", \"DA\", \"Djibouti\", \"Dominican Republic\", \"DR\", \"Ecuador\", \"Egypt\", \"EI\", \"EK\", \"EN\", \"Eritrea\", \"Spain\", \"Ethiopia\", \"EZ\", \"FG\", \"Finland\", \"Fiji\", \"Falkland Islands\", \"Micronesia, Fed. Sts.\", \"Faeroe Islands\", \"FP\", \"FQ\", \"France\", \"Gabon\", \"United Kingdom\", \"Guernsey\", \"Ghana\", \"Gibraltar\", \"GJ\", \"GK\", \"Greenland\", \"Gambia\", \"Guadeloupe\", \"Equatorial Guinea\", \"Greece\", \"Guatemala\", \"GV\", \"Guyana\", \"GZ\", \"HA\", \"Hong Kong\", \"HO\", \"HQ\", \"Croatia\", \"Hungary\", \"IC\", \"Indonesia\", \"India\", \"British Indian Ocean Territory\", \"Iran\", \"Iceland\", \"Italy\", \"IV\", \"IZ\", \"JA\", \"Jersey\", \"Jamaica\", \"Jordan\", \"Kenya\", \"Kyrgyz Republic\", \"St. Kitts and Nevis\", \"South Korea\", \"KS\", \"KT\", \"KU\", \"KV\", \"Kazakhstan\", \"Laos\", \"LE\", \"LG\", \"LH\", \"Liechtenstein\", \"LO\", \"Lesotho\", \"Lithuania\", \"Luxembourg\", \"Libya\", \"Morocco\", \"MB\", \"Monaco\", \"Moldova\", \"Madagascar\", \"Marshall Islands\", \"MI\", \"MJ\", \"Macedonia\", \"Mali\", \"Mongolia\", \"Macao\", \"Northern Mariana Islands\", \"Mauritania\", \"Malta\", \"Mauritius\", \"Maldives\", \"Mexico\", \"Malaysia\", \"Mozambique\", \"New Caledonia\", \"Niger\", \"Norfolk Island\", \"Nigeria\", \"NH\", \"Nicaragua\", \"Netherlands\", \"Norway\", \"Nepal\", \"Nauru\", \"NS\", \"NT\", \"Niue\", \"New Zealand\", \"OC\", \"OD\", \"OS\", \"Panama\", \"PC\", \"Peru\", \"French Polynesia\", \"Papua New Guinea\", \"Pakistan\", \"Poland\", \"St. Pierre and Miquelon\", \"PO\", \"PP\", \"Palestine\", \"PU\", \"Qatar\", \"RB\", \"Reunion\", \"RI\", \"RM\", \"RN\", \"Romania\", \"RP\", \"RQ\", \"Serbia\", \"Rwanda\", \"Saudi Arabia\", \"Seychelles\", \"Sweden\", \"SF\", \"Singapore\", \"St. Helena\", \"Slovenia\", \"Sierra Leone\", \"San Marino\", \"Senegal\", \"Somalia\", \"SP\", \"Sao Tome and Principe\", \"SU\", \"El Salvador\", \"SW\", \"Syria\", \"Eswatini\", \"Chad\", \"Thailand\", \"TI\", \"Tokelau\", \"Tunisia\", \"Tonga\", \"TP\", \"TS\", \"Trinidad and Tobago\", \"TU\", \"Tuvalu\", \"Taiwan\", \"TX\", \"Tanzania\", \"Uganda\", \"UP\", \"United States\", \"UV\", \"Uruguay\", \"Uzbekistan\", \"St. Vincent and the Grenadines\", \"Venezuela\", \"United States Virgin Islands\", \"VM\", \"VQ\", \"VT\", \"WA\", \"WE\", \"WI\", \"Samoa\", \"WZ\", \"YI\", \"YM\", \"South Africa\", \"ZI\"], \"type\": \"choropleth\", \"z\": [27.0, 383.0, 18435.0, 9908.0, 1104.0, 1420.0, 2072.0, 1729.0, 28.0, 3430.0, 2.0, 6173.0, 82180.0, 7346.0, 855.0, 122.0, 4146.0, 2306.0, 2075.0, 1197.0, 168343.0, 3518.0, 11327.0, 563.0, 130.0, 377.0, 1901.0, 649.0, 895.0, 401.0, 12134.0, 157.0, 6174.0, 2744.0, 85.0, 121355.0, 4886.0, 191.0, 13473.0, 1237.0, 237.0, 179983.0, 2725.0, 571.0, 948.0, 14.0, 2612.0, 240.0, 29.0, 8155.0, 57.0, 37.0, 11925.0, 7428.0, 831.0, 196.0, 533.0, 42233.0, 25653.0, 289308.0, 44.0, 6028.0, 247.0, 143.0, 3556.0, 4021.0, 30.0, 7241.0, 1231.0, 44.0, 27.0, 159.0, 25.0, 1.0, 220219.0, 726.0, 193.0, 5078.0, 5251.0, 13678.0, 767.0, 898.0, 1405.0, 144018.0, 51.0, 445.0, 11109.0, 615.0, 435.0, 1074.0, 912.0, 242.0, 29226.0, 251.0, 1.0, 1527.0, 7873.0, 3627.0, 4573.0, 32634.0, 726.0, 218482.0, 46464.0, 42448.0, 226.0, 17530.0, 26201.0, 988.0, 5807.0, 6559.0, 9582.0, 180.0, 4773.0, 422.0, 5785.0, 10.0, 6022.0, 372.0, 926.0, 91.0, 6480.0, 1792.0, 2347.0, 866.0, 1724.0, 116.0, 330.0, 11159.0, 8959.0, 1305.0, 94.0, 132.0, 506.0, 306.0, 70.0, 5686.0, 263.0, 2411.0, 1210.0, 1023.0, 9049.0, 4569.0, 119.0, 2588.0, 5279.0, 1101.0, 9057.0, 9780.0, 1572.0, 11.0, 1.0, 1.0, 273.0, 150.0, 19273.0, 28305.0, 22442.0, 2037.0, 25.0, 124.0, 6.0, 296.0, 31349.0, 105.0, 539.0, 1281.0, 180.0, 2.0, 1276.0, 13.0, 2.0, 51330.0, 15261.0, 729.0, 8382.0, 347.0, 22.0, 15.0, 4346.0, 440.0, 51.0, 803.0, 61.0, 19.0, 8926.0, 4201.0, 575.0, 116606.0, 1150.0, 27893.0, 46.0, 414.0, 25005.0, 1041.0, 16.0, 266.0, 997.0, 14.0, 9834.0, 4600.0, 35616.0, 189.0, 7641.0, 15.0, 47778.0, 81147.0, 15080.0, 608.0, 6966.0, 299.0, 4.0, 395.0, 132.0, 1.0, 3218.0, 48.0, 30402.0, 50.0, 1529.0, 384.0, 1175.0, 3160.0, 15753.0, 478552.0, 311.0, 1004.0, 783.0, 47.0, 9365.0, 91.0, 21983.0, 184.0, 197.0, 300.0, 1426.0, 19.0, 335.0, 68.0, 33.0, 7087.0, 1104.0, 9717.0]}],\n",
       "                        {\"geo\": {\"projection\": {\"type\": \"equirectangular\"}, \"showcoastlines\": false, \"showframe\": false}, \"template\": {\"data\": {\"bar\": [{\"error_x\": {\"color\": \"#2a3f5f\"}, \"error_y\": {\"color\": \"#2a3f5f\"}, \"marker\": {\"line\": {\"color\": \"#E5ECF6\", \"width\": 0.5}}, \"type\": \"bar\"}], \"barpolar\": [{\"marker\": {\"line\": {\"color\": \"#E5ECF6\", \"width\": 0.5}}, \"type\": \"barpolar\"}], \"carpet\": [{\"aaxis\": {\"endlinecolor\": \"#2a3f5f\", \"gridcolor\": \"white\", \"linecolor\": \"white\", \"minorgridcolor\": \"white\", \"startlinecolor\": \"#2a3f5f\"}, \"baxis\": {\"endlinecolor\": \"#2a3f5f\", \"gridcolor\": \"white\", \"linecolor\": \"white\", \"minorgridcolor\": \"white\", \"startlinecolor\": \"#2a3f5f\"}, \"type\": \"carpet\"}], \"choropleth\": [{\"colorbar\": {\"outlinewidth\": 0, \"ticks\": \"\"}, \"type\": \"choropleth\"}], \"contour\": [{\"colorbar\": {\"outlinewidth\": 0, \"ticks\": \"\"}, \"colorscale\": [[0.0, \"#0d0887\"], [0.1111111111111111, \"#46039f\"], [0.2222222222222222, \"#7201a8\"], [0.3333333333333333, \"#9c179e\"], [0.4444444444444444, \"#bd3786\"], [0.5555555555555556, \"#d8576b\"], [0.6666666666666666, \"#ed7953\"], [0.7777777777777778, \"#fb9f3a\"], [0.8888888888888888, \"#fdca26\"], [1.0, \"#f0f921\"]], \"type\": \"contour\"}], \"contourcarpet\": [{\"colorbar\": {\"outlinewidth\": 0, \"ticks\": \"\"}, \"type\": \"contourcarpet\"}], \"heatmap\": [{\"colorbar\": {\"outlinewidth\": 0, \"ticks\": \"\"}, \"colorscale\": [[0.0, \"#0d0887\"], [0.1111111111111111, \"#46039f\"], [0.2222222222222222, \"#7201a8\"], [0.3333333333333333, \"#9c179e\"], [0.4444444444444444, \"#bd3786\"], [0.5555555555555556, \"#d8576b\"], [0.6666666666666666, \"#ed7953\"], [0.7777777777777778, \"#fb9f3a\"], [0.8888888888888888, \"#fdca26\"], [1.0, \"#f0f921\"]], \"type\": \"heatmap\"}], \"heatmapgl\": [{\"colorbar\": {\"outlinewidth\": 0, \"ticks\": \"\"}, \"colorscale\": [[0.0, \"#0d0887\"], [0.1111111111111111, \"#46039f\"], [0.2222222222222222, \"#7201a8\"], [0.3333333333333333, \"#9c179e\"], [0.4444444444444444, \"#bd3786\"], [0.5555555555555556, \"#d8576b\"], [0.6666666666666666, \"#ed7953\"], [0.7777777777777778, \"#fb9f3a\"], [0.8888888888888888, \"#fdca26\"], [1.0, \"#f0f921\"]], \"type\": \"heatmapgl\"}], \"histogram\": [{\"marker\": {\"colorbar\": {\"outlinewidth\": 0, \"ticks\": \"\"}}, \"type\": \"histogram\"}], \"histogram2d\": [{\"colorbar\": {\"outlinewidth\": 0, \"ticks\": \"\"}, \"colorscale\": [[0.0, \"#0d0887\"], [0.1111111111111111, \"#46039f\"], [0.2222222222222222, \"#7201a8\"], [0.3333333333333333, \"#9c179e\"], [0.4444444444444444, \"#bd3786\"], [0.5555555555555556, \"#d8576b\"], [0.6666666666666666, \"#ed7953\"], [0.7777777777777778, \"#fb9f3a\"], [0.8888888888888888, \"#fdca26\"], [1.0, \"#f0f921\"]], \"type\": \"histogram2d\"}], \"histogram2dcontour\": [{\"colorbar\": {\"outlinewidth\": 0, \"ticks\": \"\"}, \"colorscale\": [[0.0, \"#0d0887\"], [0.1111111111111111, \"#46039f\"], [0.2222222222222222, \"#7201a8\"], [0.3333333333333333, \"#9c179e\"], [0.4444444444444444, \"#bd3786\"], [0.5555555555555556, \"#d8576b\"], [0.6666666666666666, \"#ed7953\"], [0.7777777777777778, \"#fb9f3a\"], [0.8888888888888888, \"#fdca26\"], [1.0, \"#f0f921\"]], \"type\": \"histogram2dcontour\"}], \"mesh3d\": [{\"colorbar\": {\"outlinewidth\": 0, \"ticks\": \"\"}, \"type\": \"mesh3d\"}], \"parcoords\": [{\"line\": {\"colorbar\": {\"outlinewidth\": 0, \"ticks\": \"\"}}, \"type\": \"parcoords\"}], \"pie\": [{\"automargin\": true, \"type\": \"pie\"}], \"scatter\": [{\"marker\": {\"colorbar\": {\"outlinewidth\": 0, \"ticks\": \"\"}}, \"type\": \"scatter\"}], \"scatter3d\": [{\"line\": {\"colorbar\": {\"outlinewidth\": 0, \"ticks\": \"\"}}, \"marker\": {\"colorbar\": {\"outlinewidth\": 0, \"ticks\": \"\"}}, \"type\": \"scatter3d\"}], \"scattercarpet\": [{\"marker\": {\"colorbar\": {\"outlinewidth\": 0, \"ticks\": \"\"}}, \"type\": \"scattercarpet\"}], \"scattergeo\": [{\"marker\": {\"colorbar\": {\"outlinewidth\": 0, \"ticks\": \"\"}}, \"type\": \"scattergeo\"}], \"scattergl\": [{\"marker\": {\"colorbar\": {\"outlinewidth\": 0, \"ticks\": \"\"}}, \"type\": \"scattergl\"}], \"scattermapbox\": [{\"marker\": {\"colorbar\": {\"outlinewidth\": 0, \"ticks\": \"\"}}, \"type\": \"scattermapbox\"}], \"scatterpolar\": [{\"marker\": {\"colorbar\": {\"outlinewidth\": 0, \"ticks\": \"\"}}, \"type\": \"scatterpolar\"}], \"scatterpolargl\": [{\"marker\": {\"colorbar\": {\"outlinewidth\": 0, \"ticks\": \"\"}}, \"type\": \"scatterpolargl\"}], \"scatterternary\": [{\"marker\": {\"colorbar\": {\"outlinewidth\": 0, \"ticks\": \"\"}}, \"type\": \"scatterternary\"}], \"surface\": [{\"colorbar\": {\"outlinewidth\": 0, \"ticks\": \"\"}, \"colorscale\": [[0.0, \"#0d0887\"], [0.1111111111111111, \"#46039f\"], [0.2222222222222222, \"#7201a8\"], [0.3333333333333333, \"#9c179e\"], [0.4444444444444444, \"#bd3786\"], [0.5555555555555556, \"#d8576b\"], [0.6666666666666666, \"#ed7953\"], [0.7777777777777778, \"#fb9f3a\"], [0.8888888888888888, \"#fdca26\"], [1.0, \"#f0f921\"]], \"type\": \"surface\"}], \"table\": [{\"cells\": {\"fill\": {\"color\": \"#EBF0F8\"}, \"line\": {\"color\": \"white\"}}, \"header\": {\"fill\": {\"color\": \"#C8D4E3\"}, \"line\": {\"color\": \"white\"}}, \"type\": \"table\"}]}, \"layout\": {\"annotationdefaults\": {\"arrowcolor\": \"#2a3f5f\", \"arrowhead\": 0, \"arrowwidth\": 1}, \"coloraxis\": {\"colorbar\": {\"outlinewidth\": 0, \"ticks\": \"\"}}, \"colorscale\": {\"diverging\": [[0, \"#8e0152\"], [0.1, \"#c51b7d\"], [0.2, \"#de77ae\"], [0.3, \"#f1b6da\"], [0.4, \"#fde0ef\"], [0.5, \"#f7f7f7\"], [0.6, \"#e6f5d0\"], [0.7, \"#b8e186\"], [0.8, \"#7fbc41\"], [0.9, \"#4d9221\"], [1, \"#276419\"]], \"sequential\": [[0.0, \"#0d0887\"], [0.1111111111111111, \"#46039f\"], [0.2222222222222222, \"#7201a8\"], [0.3333333333333333, \"#9c179e\"], [0.4444444444444444, \"#bd3786\"], [0.5555555555555556, \"#d8576b\"], [0.6666666666666666, \"#ed7953\"], [0.7777777777777778, \"#fb9f3a\"], [0.8888888888888888, \"#fdca26\"], [1.0, \"#f0f921\"]], \"sequentialminus\": [[0.0, \"#0d0887\"], [0.1111111111111111, \"#46039f\"], [0.2222222222222222, \"#7201a8\"], [0.3333333333333333, \"#9c179e\"], [0.4444444444444444, \"#bd3786\"], [0.5555555555555556, \"#d8576b\"], [0.6666666666666666, \"#ed7953\"], [0.7777777777777778, \"#fb9f3a\"], [0.8888888888888888, \"#fdca26\"], [1.0, \"#f0f921\"]]}, \"colorway\": [\"#636efa\", \"#EF553B\", \"#00cc96\", \"#ab63fa\", \"#FFA15A\", \"#19d3f3\", \"#FF6692\", \"#B6E880\", \"#FF97FF\", \"#FECB52\"], \"font\": {\"color\": \"#2a3f5f\"}, \"geo\": {\"bgcolor\": \"white\", \"lakecolor\": \"white\", \"landcolor\": \"#E5ECF6\", \"showlakes\": true, \"showland\": true, \"subunitcolor\": \"white\"}, \"hoverlabel\": {\"align\": \"left\"}, \"hovermode\": \"closest\", \"mapbox\": {\"style\": \"light\"}, \"paper_bgcolor\": \"white\", \"plot_bgcolor\": \"#E5ECF6\", \"polar\": {\"angularaxis\": {\"gridcolor\": \"white\", \"linecolor\": \"white\", \"ticks\": \"\"}, \"bgcolor\": \"#E5ECF6\", \"radialaxis\": {\"gridcolor\": \"white\", \"linecolor\": \"white\", \"ticks\": \"\"}}, \"scene\": {\"xaxis\": {\"backgroundcolor\": \"#E5ECF6\", \"gridcolor\": \"white\", \"gridwidth\": 2, \"linecolor\": \"white\", \"showbackground\": true, \"ticks\": \"\", \"zerolinecolor\": \"white\"}, \"yaxis\": {\"backgroundcolor\": \"#E5ECF6\", \"gridcolor\": \"white\", \"gridwidth\": 2, \"linecolor\": \"white\", \"showbackground\": true, \"ticks\": \"\", \"zerolinecolor\": \"white\"}, \"zaxis\": {\"backgroundcolor\": \"#E5ECF6\", \"gridcolor\": \"white\", \"gridwidth\": 2, \"linecolor\": \"white\", \"showbackground\": true, \"ticks\": \"\", \"zerolinecolor\": \"white\"}}, \"shapedefaults\": {\"line\": {\"color\": \"#2a3f5f\"}}, \"ternary\": {\"aaxis\": {\"gridcolor\": \"white\", \"linecolor\": \"white\", \"ticks\": \"\"}, \"baxis\": {\"gridcolor\": \"white\", \"linecolor\": \"white\", \"ticks\": \"\"}, \"bgcolor\": \"#E5ECF6\", \"caxis\": {\"gridcolor\": \"white\", \"linecolor\": \"white\", \"ticks\": \"\"}}, \"title\": {\"x\": 0.05}, \"xaxis\": {\"automargin\": true, \"gridcolor\": \"white\", \"linecolor\": \"white\", \"ticks\": \"\", \"title\": {\"standoff\": 15}, \"zerolinecolor\": \"white\", \"zerolinewidth\": 2}, \"yaxis\": {\"automargin\": true, \"gridcolor\": \"white\", \"linecolor\": \"white\", \"ticks\": \"\", \"title\": {\"standoff\": 15}, \"zerolinecolor\": \"white\", \"zerolinewidth\": 2}}}, \"updatemenus\": [{\"active\": 1, \"buttons\": [{\"args\": [{\"visible\": [true, false]}, {\"title\": \"Ton moyen\"}], \"label\": \"Avg tone\", \"method\": \"update\"}, {\"args\": [{\"visible\": [false, true]}, {\"title\": \"Nombre d'articles\"}], \"label\": \"Nb Articles\", \"method\": \"update\"}]}]},\n",
       "                        {\"responsive\": true}\n",
       "                    ).then(function(){\n",
       "                            \n",
       "var gd = document.getElementById('93c49dc4-2a64-4ff0-91fb-b3d2946cee12');\n",
       "var x = new MutationObserver(function (mutations, observer) {{\n",
       "        var display = window.getComputedStyle(gd).display;\n",
       "        if (!display || display === 'none') {{\n",
       "            console.log([gd, 'removed!']);\n",
       "            Plotly.purge(gd);\n",
       "            observer.disconnect();\n",
       "        }}\n",
       "}});\n",
       "\n",
       "// Listen for the removal of the full notebook cells\n",
       "var notebookContainer = gd.closest('#notebook-container');\n",
       "if (notebookContainer) {{\n",
       "    x.observe(notebookContainer, {childList: true});\n",
       "}}\n",
       "\n",
       "// Listen for the clearing of the current output cell\n",
       "var outputEl = gd.closest('.output');\n",
       "if (outputEl) {{\n",
       "    x.observe(outputEl, {childList: true});\n",
       "}}\n",
       "\n",
       "                        })\n",
       "                };\n",
       "                });\n",
       "            </script>\n",
       "        </div>"
      ]
     },
     "metadata": {},
     "output_type": "display_data"
    }
   ],
   "source": [
    "data = [ map_choropleth(df_use.rename(columns={'avgtone': 'value'}), 'test'), \n",
    "        map_choropleth(df_use.rename(columns={'numberofarticles': 'value'}), 'test2')]\n",
    "\n",
    "updatemenus=list([\n",
    "    dict(\n",
    "    active=1,\n",
    "    buttons=list([\n",
    "        dict(\n",
    "            args=[{'visible': [True, False]},\n",
    "                 {'title': 'Ton moyen'}],\n",
    "            label = \"Avg tone\",\n",
    "            method='update'),\n",
    "        dict(\n",
    "            args=[{'visible': [False, True]},\n",
    "                 {'title': 'Nombre d\\'articles'}],\n",
    "            label = \"Nb Articles\",\n",
    "            method='update'),\n",
    "    ]))\n",
    "])\n",
    "layout = go.Layout(\n",
    "    geo = go.layout.Geo(\n",
    "        showframe=False,\n",
    "        showcoastlines=False,\n",
    "        projection=go.layout.geo.Projection(\n",
    "        type='equirectangular')\n",
    "    ),\n",
    "    updatemenus=updatemenus\n",
    ")\n",
    "\n",
    "\n",
    "fig = dict(data=data, layout=layout)\n",
    "py.offline.iplot(fig)"
   ]
  },
  {
   "cell_type": "code",
   "execution_count": 125,
   "metadata": {},
   "outputs": [
    {
     "name": "stdout",
     "output_type": "stream",
     "text": [
      "JupyterLab v1.2.0\n",
      "Known labextensions:\n",
      "   app dir: /opt/conda/share/jupyter/lab\n",
      "        @jupyter-widgets/jupyterlab-manager v1.1.0 \u001b[32m enabled \u001b[0m \u001b[32mOK\u001b[0m\n",
      "        jupyterlab-plotly v1.5.0 \u001b[32m enabled \u001b[0m \u001b[32mOK\u001b[0m\n",
      "        jupyterlab_bokeh v1.0.0 \u001b[32m enabled \u001b[0m \u001b[32mOK\u001b[0m\n",
      "        plotlywidget v1.5.0 \u001b[32m enabled \u001b[0m \u001b[32mOK\u001b[0m\n",
      "\n",
      "Build recommended, please run `jupyter lab build`:\n",
      "    jupyterlab_bokeh needs to be included in build\n",
      "    @jupyter-widgets/jupyterlab-manager needs to be included in build\n",
      "    plotlywidget needs to be included in build\n",
      "    jupyterlab-plotly needs to be included in build\n"
     ]
    }
   ],
   "source": [
    "!jupyter labextension list"
   ]
  },
  {
   "cell_type": "code",
   "execution_count": 10,
   "metadata": {},
   "outputs": [
    {
     "name": "stdout",
     "output_type": "stream",
     "text": [
      "[LabBuildApp] JupyterLab 1.2.0\n",
      "[LabBuildApp] Building in /opt/conda/share/jupyter/lab\n",
      "[LabBuildApp] Building jupyterlab assets (build:prod:minimize)\n"
     ]
    }
   ],
   "source": [
    "!jupyter lab build"
   ]
  },
  {
   "cell_type": "code",
   "execution_count": null,
   "metadata": {},
   "outputs": [],
   "source": []
  }
 ],
 "metadata": {
  "kernelspec": {
   "display_name": "Python 3",
   "language": "python",
   "name": "python3"
  },
  "language_info": {
   "codemirror_mode": {
    "name": "ipython",
    "version": 3
   },
   "file_extension": ".py",
   "mimetype": "text/x-python",
   "name": "python",
   "nbconvert_exporter": "python",
   "pygments_lexer": "ipython3",
   "version": "3.7.3"
  }
 },
 "nbformat": 4,
 "nbformat_minor": 4
}
